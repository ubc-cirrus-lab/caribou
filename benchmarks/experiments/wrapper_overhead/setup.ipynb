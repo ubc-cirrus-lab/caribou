{
 "cells": [
  {
   "cell_type": "markdown",
   "metadata": {},
   "source": [
    "## Setup"
   ]
  },
  {
   "cell_type": "markdown",
   "metadata": {},
   "source": [
    "### Import libraries"
   ]
  },
  {
   "cell_type": "code",
   "execution_count": 1,
   "metadata": {},
   "outputs": [],
   "source": [
    "from benchmarks.experiments.wrapper_overhead.common.deployment_utility import WrapperOverheadDeploymentUtility"
   ]
  },
  {
   "cell_type": "markdown",
   "metadata": {},
   "source": [
    "### Setup Common Resources"
   ]
  },
  {
   "cell_type": "code",
   "execution_count": 2,
   "metadata": {},
   "outputs": [],
   "source": [
    "region = 'us-east-2'\n",
    "deployment_utility: WrapperOverheadDeploymentUtility = WrapperOverheadDeploymentUtility(region)"
   ]
  },
  {
   "cell_type": "markdown",
   "metadata": {},
   "source": [
    "## Deploy Associated AWS functions"
   ]
  },
  {
   "cell_type": "markdown",
   "metadata": {},
   "source": [
    "### DNA Visualization"
   ]
  },
  {
   "cell_type": "markdown",
   "metadata": {},
   "source": [
    "#### Boto3 Direct Calls"
   ]
  },
  {
   "cell_type": "code",
   "execution_count": 3,
   "metadata": {},
   "outputs": [
    {
     "name": "stderr",
     "output_type": "stream",
     "text": [
      "Found credentials in environment variables.\n"
     ]
    },
    {
     "name": "stdout",
     "output_type": "stream",
     "text": [
      "Deploying boto3_direct workload\n",
      "workflow-wo-dna_vis-ed-direct\n",
      "\n",
      "Deploying wo-dna_vis-ed-direct-visualize\n",
      "Removing old resources\n",
      "Old resources for Removed\n",
      "Creating iam role\n",
      "Resulting Policy ARN: arn:aws:iam::485595969306:role/wo-dna_vis-ed-direct-visualize-policy\n",
      "Creating lambda function\n"
     ]
    },
    {
     "name": "stderr",
     "output_type": "stream",
     "text": [
      "#0 building with \"default\" instance using docker driver\n",
      "\n",
      "#1 [internal] load build definition from Dockerfile\n",
      "#1 transferring dockerfile: 325B done\n",
      "#1 DONE 0.0s\n",
      "\n",
      "#2 [internal] load metadata for public.ecr.aws/lambda/python:3.8\n",
      "#2 DONE 0.2s\n",
      "\n",
      "#3 [internal] load .dockerignore\n",
      "#3 transferring context: 2B done\n",
      "#3 DONE 0.0s\n",
      "\n",
      "#4 [1/6] FROM public.ecr.aws/lambda/python:3.8@sha256:9ae4af1397c3c7ac09aca53cca2621c9fdd5f0a2674f2bf05920888d24883f91\n",
      "#4 DONE 0.0s\n",
      "\n",
      "#5 [internal] load build context\n",
      "#5 transferring context: 106.88kB done\n",
      "#5 DONE 0.0s\n",
      "\n",
      "#6 [2/6] COPY requirements.txt ./\n",
      "#6 CACHED\n",
      "\n",
      "#7 [3/6] RUN pip3 install --no-cache-dir -r requirements.txt\n",
      "#7 CACHED\n",
      "\n",
      "#8 [5/6] COPY src ./src\n",
      "#8 CACHED\n",
      "\n",
      "#9 [4/6] COPY app.py ./\n",
      "#9 CACHED\n",
      "\n",
      "#10 [6/6] COPY multi_x_serverless ./multi_x_serverless\n",
      "#10 CACHED\n",
      "\n",
      "#11 exporting to image\n",
      "#11 exporting layers done\n",
      "#11 writing image sha256:248d0d0249d7b98388f94752a1022935186c427fdfcf18591b90a5b4167ad3a0 done\n",
      "#11 naming to docker.io/library/wo-dna_vis-ed-direct-visualize:latest done\n",
      "#11 DONE 0.0s\n",
      "Docker image wo-dna_vis-ed-direct-visualize:latest built successfully.\n",
      "WARNING! Using --password via the CLI is insecure. Use --password-stdin.\n",
      "WARNING! Your password will be stored unencrypted in /home/daniel/.docker/config.json.\n",
      "Configure a credential helper to remove this warning. See\n",
      "https://docs.docker.com/engine/reference/commandline/login/#credentials-store\n",
      "\n"
     ]
    },
    {
     "name": "stdout",
     "output_type": "stream",
     "text": [
      "Login Succeeded\n",
      "The push refers to repository [485595969306.dkr.ecr.us-east-2.amazonaws.com/wo-dna_vis-ed-direct-visualize]\n",
      "63b0df0ee90a: Preparing\n",
      "87c4e75cbde8: Preparing\n",
      "447f03335fbc: Preparing\n",
      "8e1b406f394f: Preparing\n",
      "3a89be36bfcd: Preparing\n",
      "0a20c8da2344: Preparing\n",
      "05788b7af5ed: Preparing\n",
      "706e59713fa4: Preparing\n",
      "052242efe275: Preparing\n",
      "274a79fec6a9: Preparing\n",
      "6849347e354b: Preparing\n",
      "0a20c8da2344: Waiting\n",
      "05788b7af5ed: Waiting\n",
      "706e59713fa4: Waiting\n",
      "052242efe275: Waiting\n",
      "274a79fec6a9: Waiting\n",
      "6849347e354b: Waiting\n",
      "63b0df0ee90a: Layer already exists\n",
      "3a89be36bfcd: Layer already exists\n",
      "8e1b406f394f: Layer already exists\n",
      "447f03335fbc: Layer already exists\n",
      "87c4e75cbde8: Layer already exists\n",
      "05788b7af5ed: Layer already exists\n",
      "706e59713fa4: Layer already exists\n",
      "0a20c8da2344: Layer already exists\n",
      "052242efe275: Layer already exists\n",
      "274a79fec6a9: Layer already exists\n",
      "6849347e354b: Layer already exists\n"
     ]
    },
    {
     "name": "stderr",
     "output_type": "stream",
     "text": [
      "Successfully pushed Docker image 485595969306.dkr.ecr.us-east-2.amazonaws.com/wo-dna_vis-ed-direct-visualize:latest to ECR.\n"
     ]
    },
    {
     "name": "stdout",
     "output_type": "stream",
     "text": [
      "latest: digest: sha256:54c873fde0899c71ab58630c6956f4090d27740fcf9f36ccf99fec3a9e80502d size: 2623\n",
      "Resulting Function ARN: arn:aws:lambda:us-east-2:485595969306:function:wo-dna_vis-ed-direct-visualize\n",
      "\n",
      "Deploying wo-dna_vis-ed-direct-get_input\n",
      "Removing old resources\n",
      "Old resources for Removed\n",
      "Creating iam role\n",
      "Resulting Policy ARN: arn:aws:iam::485595969306:role/wo-dna_vis-ed-direct-get_input-policy\n",
      "Creating lambda function\n"
     ]
    },
    {
     "name": "stderr",
     "output_type": "stream",
     "text": [
      "#0 building with \"default\" instance using docker driver\n",
      "\n",
      "#1 [internal] load build definition from Dockerfile\n",
      "#1 transferring dockerfile: 325B done\n",
      "#1 DONE 0.0s\n",
      "\n",
      "#2 [internal] load metadata for public.ecr.aws/lambda/python:3.8\n",
      "#2 DONE 0.1s\n",
      "\n",
      "#3 [internal] load .dockerignore\n",
      "#3 transferring context:\n",
      "#3 transferring context: 2B done\n",
      "#3 DONE 0.0s\n",
      "\n",
      "#4 [1/6] FROM public.ecr.aws/lambda/python:3.8@sha256:9ae4af1397c3c7ac09aca53cca2621c9fdd5f0a2674f2bf05920888d24883f91\n",
      "#4 DONE 0.0s\n",
      "\n",
      "#5 [internal] load build context\n",
      "#5 transferring context: 106.47kB done\n",
      "#5 DONE 0.0s\n",
      "\n",
      "#6 [4/6] COPY app.py ./\n",
      "#6 CACHED\n",
      "\n",
      "#7 [3/6] RUN pip3 install --no-cache-dir -r requirements.txt\n",
      "#7 CACHED\n",
      "\n",
      "#8 [2/6] COPY requirements.txt ./\n",
      "#8 CACHED\n",
      "\n",
      "#9 [5/6] COPY src ./src\n",
      "#9 CACHED\n",
      "\n",
      "#10 [6/6] COPY multi_x_serverless ./multi_x_serverless\n",
      "#10 CACHED\n",
      "\n",
      "#11 exporting to image\n",
      "#11 exporting layers done\n",
      "#11 writing image sha256:e536e374c81e53dbb42482c9374810d58c523cc493d83dd4fae83da7f4ca9247 done\n",
      "#11 naming to docker.io/library/wo-dna_vis-ed-direct-get_input:latest done\n",
      "#11 DONE 0.0s\n",
      "Docker image wo-dna_vis-ed-direct-get_input:latest built successfully.\n",
      "WARNING! Using --password via the CLI is insecure. Use --password-stdin.\n",
      "WARNING! Your password will be stored unencrypted in /home/daniel/.docker/config.json.\n",
      "Configure a credential helper to remove this warning. See\n",
      "https://docs.docker.com/engine/reference/commandline/login/#credentials-store\n",
      "\n"
     ]
    },
    {
     "name": "stdout",
     "output_type": "stream",
     "text": [
      "Login Succeeded\n",
      "The push refers to repository [485595969306.dkr.ecr.us-east-2.amazonaws.com/wo-dna_vis-ed-direct-get_input]\n",
      "f3074e8585c1: Preparing\n",
      "d6b8ac757fb7: Preparing\n",
      "553ac63b7a88: Preparing\n",
      "6fe8485efa46: Preparing\n",
      "34352bc5dfd0: Preparing\n",
      "0a20c8da2344: Preparing\n",
      "05788b7af5ed: Preparing\n",
      "706e59713fa4: Preparing\n",
      "052242efe275: Preparing\n",
      "274a79fec6a9: Preparing\n",
      "6849347e354b: Preparing\n",
      "0a20c8da2344: Waiting\n",
      "05788b7af5ed: Waiting\n",
      "706e59713fa4: Waiting\n",
      "052242efe275: Waiting\n",
      "274a79fec6a9: Waiting\n",
      "6849347e354b: Waiting\n",
      "f3074e8585c1: Layer already exists\n",
      "553ac63b7a88: Layer already exists\n",
      "d6b8ac757fb7: Layer already exists\n",
      "6fe8485efa46: Layer already exists\n",
      "34352bc5dfd0: Layer already exists\n",
      "0a20c8da2344: Layer already exists\n",
      "706e59713fa4: Layer already exists\n",
      "05788b7af5ed: Layer already exists\n",
      "052242efe275: Layer already exists\n",
      "274a79fec6a9: Layer already exists\n",
      "6849347e354b: Layer already exists\n"
     ]
    },
    {
     "name": "stderr",
     "output_type": "stream",
     "text": [
      "Successfully pushed Docker image 485595969306.dkr.ecr.us-east-2.amazonaws.com/wo-dna_vis-ed-direct-get_input:latest to ECR.\n"
     ]
    },
    {
     "name": "stdout",
     "output_type": "stream",
     "text": [
      "latest: digest: sha256:0492a95eaabf02e73f961dfdd6877da90b3c947e2cdacc19a3457ca958bd5a7d size: 2623\n",
      "Resulting Function ARN: arn:aws:lambda:us-east-2:485595969306:function:wo-dna_vis-ed-direct-get_input\n",
      "Completed deployment of workflow-wo-dna_vis-ed-direct\n",
      "\n",
      "\n"
     ]
    },
    {
     "data": {
      "text/plain": [
       "True"
      ]
     },
     "execution_count": 3,
     "metadata": {},
     "output_type": "execute_result"
    }
   ],
   "source": [
    "dna_vis_direct_calls_dir = \"./dna_visualization/external_database/boto3_only_direct_calls\" # Boto3 only direct calls\n",
    "deployment_utility.deploy_experiment(dna_vis_direct_calls_dir)"
   ]
  },
  {
   "cell_type": "markdown",
   "metadata": {},
   "source": [
    "#### Boto3 SNS calls"
   ]
  },
  {
   "cell_type": "code",
   "execution_count": 3,
   "metadata": {},
   "outputs": [
    {
     "name": "stderr",
     "output_type": "stream",
     "text": [
      "Found credentials in environment variables.\n"
     ]
    },
    {
     "name": "stdout",
     "output_type": "stream",
     "text": [
      "Deploying boto3_sns workload\n",
      "workflow-wo-dna_vis-ed-direct_sns\n",
      "\n",
      "Deploying wo-dna_vis-ed-direct_sns-visualize\n",
      "Removing old resources\n",
      "Old resources for Removed\n",
      "Creating iam role\n",
      "Resulting Policy ARN: arn:aws:iam::485595969306:role/wo-dna_vis-ed-direct_sns-visualize-policy\n",
      "Creating lambda function\n"
     ]
    },
    {
     "name": "stderr",
     "output_type": "stream",
     "text": [
      "#0 building with \"default\" instance using docker driver\n",
      "\n",
      "#1 [internal] load build definition from Dockerfile\n",
      "#1 transferring dockerfile: 325B done\n",
      "#1 DONE 0.0s\n",
      "\n",
      "#2 [internal] load metadata for public.ecr.aws/lambda/python:3.8\n",
      "#2 DONE 0.2s\n",
      "\n",
      "#3 [internal] load .dockerignore\n",
      "#3 transferring context: 2B done\n",
      "#3 DONE 0.0s\n",
      "\n",
      "#4 [1/6] FROM public.ecr.aws/lambda/python:3.8@sha256:9ae4af1397c3c7ac09aca53cca2621c9fdd5f0a2674f2bf05920888d24883f91\n",
      "#4 DONE 0.0s\n",
      "\n",
      "#5 [internal] load build context\n",
      "#5 transferring context: 106.88kB done\n",
      "#5 DONE 0.0s\n",
      "\n",
      "#6 [5/6] COPY src ./src\n",
      "#6 CACHED\n",
      "\n",
      "#7 [2/6] COPY requirements.txt ./\n",
      "#7 CACHED\n",
      "\n",
      "#8 [3/6] RUN pip3 install --no-cache-dir -r requirements.txt\n",
      "#8 CACHED\n",
      "\n",
      "#9 [4/6] COPY app.py ./\n",
      "#9 CACHED\n",
      "\n",
      "#10 [6/6] COPY multi_x_serverless ./multi_x_serverless\n",
      "#10 CACHED\n",
      "\n",
      "#11 exporting to image\n",
      "#11 exporting layers done\n",
      "#11 writing image sha256:9c68420161b0597cd7523f37fdbaa4206b17e1f08fc1dca242c5ed28932d664b done\n",
      "#11 naming to docker.io/library/wo-dna_vis-ed-direct_sns-visualize:latest done\n",
      "#11 DONE 0.0s\n",
      "Docker image wo-dna_vis-ed-direct_sns-visualize:latest built successfully.\n",
      "WARNING! Using --password via the CLI is insecure. Use --password-stdin.\n",
      "WARNING! Your password will be stored unencrypted in /home/daniel/.docker/config.json.\n",
      "Configure a credential helper to remove this warning. See\n",
      "https://docs.docker.com/engine/reference/commandline/login/#credentials-store\n",
      "\n"
     ]
    },
    {
     "name": "stdout",
     "output_type": "stream",
     "text": [
      "Login Succeeded\n",
      "The push refers to repository [485595969306.dkr.ecr.us-east-2.amazonaws.com/wo-dna_vis-ed-direct_sns-visualize]\n",
      "a1b24d847129: Preparing\n",
      "abcf622c00a1: Preparing\n",
      "8b9d2f646851: Preparing\n",
      "8e1b406f394f: Preparing\n",
      "3a89be36bfcd: Preparing\n",
      "0a20c8da2344: Preparing\n",
      "05788b7af5ed: Preparing\n",
      "706e59713fa4: Preparing\n",
      "052242efe275: Preparing\n",
      "274a79fec6a9: Preparing\n",
      "6849347e354b: Preparing\n",
      "0a20c8da2344: Waiting\n",
      "05788b7af5ed: Waiting\n",
      "706e59713fa4: Waiting\n",
      "274a79fec6a9: Waiting\n",
      "6849347e354b: Waiting\n",
      "052242efe275: Waiting\n",
      "3a89be36bfcd: Layer already exists\n",
      "8e1b406f394f: Layer already exists\n",
      "a1b24d847129: Layer already exists\n",
      "abcf622c00a1: Layer already exists\n",
      "8b9d2f646851: Layer already exists\n",
      "0a20c8da2344: Layer already exists\n",
      "706e59713fa4: Layer already exists\n",
      "274a79fec6a9: Layer already exists\n",
      "05788b7af5ed: Layer already exists\n",
      "052242efe275: Layer already exists\n",
      "6849347e354b: Layer already exists\n"
     ]
    },
    {
     "name": "stderr",
     "output_type": "stream",
     "text": [
      "Successfully pushed Docker image 485595969306.dkr.ecr.us-east-2.amazonaws.com/wo-dna_vis-ed-direct_sns-visualize:latest to ECR.\n"
     ]
    },
    {
     "name": "stdout",
     "output_type": "stream",
     "text": [
      "latest: digest: sha256:c28806c5205a2457758be6105ec45dcd4665baf19820d8d7a19b10df15542c5c size: 2623\n",
      "Resulting Function ARN: arn:aws:lambda:us-east-2:485595969306:function:wo-dna_vis-ed-direct_sns-visualize\n",
      "Creating sns topic and subscribing lambda function\n",
      "Resulting Topic ARN: arn:aws:sns:us-east-2:485595969306:wo-dna_vis-ed-direct_sns-visualize-sns_topic\n",
      "Resulting Subscription ARN: arn:aws:sns:us-east-2:485595969306:wo-dna_vis-ed-direct_sns-visualize-sns_topic:ee1df0fd-8ed3-4bc6-a2b4-bc2e1897821d\n",
      "\n",
      "Deploying wo-dna_vis-ed-direct_sns-get_input\n",
      "Removing old resources\n",
      "Old resources for Removed\n",
      "Creating iam role\n",
      "Resulting Policy ARN: arn:aws:iam::485595969306:role/wo-dna_vis-ed-direct_sns-get_input-policy\n",
      "Creating lambda function\n"
     ]
    },
    {
     "name": "stderr",
     "output_type": "stream",
     "text": [
      "#0 building with \"default\" instance using docker driver\n",
      "\n",
      "#1 [internal] load build definition from Dockerfile\n",
      "#1 transferring dockerfile: 325B done\n",
      "#1 DONE 0.0s\n",
      "\n",
      "#2 [internal] load metadata for public.ecr.aws/lambda/python:3.8\n",
      "#2 DONE 0.1s\n",
      "\n",
      "#3 [internal] load .dockerignore\n",
      "#3 transferring context:\n",
      "#3 transferring context: 2B done\n",
      "#3 DONE 0.0s\n",
      "\n",
      "#4 [1/6] FROM public.ecr.aws/lambda/python:3.8@sha256:9ae4af1397c3c7ac09aca53cca2621c9fdd5f0a2674f2bf05920888d24883f91\n",
      "#4 DONE 0.0s\n",
      "\n",
      "#5 [internal] load build context\n",
      "#5 transferring context: 106.86kB done\n",
      "#5 DONE 0.0s\n",
      "\n",
      "#6 [2/6] COPY requirements.txt ./\n",
      "#6 CACHED\n",
      "\n",
      "#7 [3/6] RUN pip3 install --no-cache-dir -r requirements.txt\n",
      "#7 CACHED\n",
      "\n",
      "#8 [4/6] COPY app.py ./\n",
      "#8 DONE 0.0s\n",
      "\n",
      "#9 [5/6] COPY src ./src\n",
      "#9 DONE 0.0s\n",
      "\n",
      "#10 [6/6] COPY multi_x_serverless ./multi_x_serverless\n",
      "#10 DONE 0.0s\n",
      "\n",
      "#11 exporting to image\n",
      "#11 exporting layers 0.0s done\n",
      "#11 writing image sha256:6e8d4e0f98db50f2c1c8bd790b8780be52d4ed22f83e7e68c630f8b1fa5e56bb done\n",
      "#11 naming to docker.io/library/wo-dna_vis-ed-direct_sns-get_input:latest done\n",
      "#11 DONE 0.1s\n",
      "Docker image wo-dna_vis-ed-direct_sns-get_input:latest built successfully.\n",
      "WARNING! Using --password via the CLI is insecure. Use --password-stdin.\n",
      "WARNING! Your password will be stored unencrypted in /home/daniel/.docker/config.json.\n",
      "Configure a credential helper to remove this warning. See\n",
      "https://docs.docker.com/engine/reference/commandline/login/#credentials-store\n",
      "\n"
     ]
    },
    {
     "name": "stdout",
     "output_type": "stream",
     "text": [
      "Login Succeeded\n",
      "The push refers to repository [485595969306.dkr.ecr.us-east-2.amazonaws.com/wo-dna_vis-ed-direct_sns-get_input]\n",
      "41ce3a3c96fb: Preparing\n",
      "3dd2c49b91a3: Preparing\n",
      "d82f649b3649: Preparing\n",
      "6fe8485efa46: Preparing\n",
      "34352bc5dfd0: Preparing\n",
      "0a20c8da2344: Preparing\n",
      "05788b7af5ed: Preparing\n",
      "706e59713fa4: Preparing\n",
      "052242efe275: Preparing\n",
      "274a79fec6a9: Preparing\n",
      "6849347e354b: Preparing\n",
      "706e59713fa4: Waiting\n",
      "052242efe275: Waiting\n",
      "274a79fec6a9: Waiting\n",
      "6849347e354b: Waiting\n",
      "0a20c8da2344: Waiting\n",
      "05788b7af5ed: Waiting\n",
      "34352bc5dfd0: Layer already exists\n",
      "6fe8485efa46: Layer already exists\n",
      "0a20c8da2344: Layer already exists\n",
      "05788b7af5ed: Layer already exists\n",
      "706e59713fa4: Layer already exists\n",
      "052242efe275: Layer already exists\n",
      "274a79fec6a9: Layer already exists\n",
      "6849347e354b: Layer already exists\n",
      "3dd2c49b91a3: Pushed\n",
      "d82f649b3649: Pushed\n",
      "41ce3a3c96fb: Pushed\n"
     ]
    },
    {
     "name": "stderr",
     "output_type": "stream",
     "text": [
      "Successfully pushed Docker image 485595969306.dkr.ecr.us-east-2.amazonaws.com/wo-dna_vis-ed-direct_sns-get_input:latest to ECR.\n"
     ]
    },
    {
     "name": "stdout",
     "output_type": "stream",
     "text": [
      "latest: digest: sha256:c2693d4c456e7a6fa4458b2a36520ca7e4d8708594a4b74e74ae30f689c46c9b size: 2623\n",
      "Resulting Function ARN: arn:aws:lambda:us-east-2:485595969306:function:wo-dna_vis-ed-direct_sns-get_input\n",
      "Creating sns topic and subscribing lambda function\n",
      "Resulting Topic ARN: arn:aws:sns:us-east-2:485595969306:wo-dna_vis-ed-direct_sns-get_input-sns_topic\n",
      "Resulting Subscription ARN: arn:aws:sns:us-east-2:485595969306:wo-dna_vis-ed-direct_sns-get_input-sns_topic:2a1ff3e6-5697-492d-a090-cfaafe3fec5e\n",
      "Completed deployment of workflow-wo-dna_vis-ed-direct_sns\n",
      "\n",
      "\n"
     ]
    },
    {
     "data": {
      "text/plain": [
       "True"
      ]
     },
     "execution_count": 3,
     "metadata": {},
     "output_type": "execute_result"
    }
   ],
   "source": [
    "dna_vis_sns_calls_dir = \"./dna_visualization/external_database/boto3_only_sns\" # Boto3 only sns calls\n",
    "deployment_utility.deploy_experiment(dna_vis_sns_calls_dir)"
   ]
  },
  {
   "cell_type": "markdown",
   "metadata": {},
   "source": [
    "#### AWS Step Function"
   ]
  },
  {
   "cell_type": "code",
   "execution_count": null,
   "metadata": {},
   "outputs": [],
   "source": [
    "dna_vis_aws_step_functions_dir = \"./dna_visualization/external_database/aws_step_function\" # AWS Step Functions\n",
    "deployment_utility.deploy_experiment(dna_vis_aws_step_functions_dir)"
   ]
  },
  {
   "cell_type": "markdown",
   "metadata": {},
   "source": [
    "#### Multi-X"
   ]
  },
  {
   "cell_type": "markdown",
   "metadata": {},
   "source": [
    "- For MultiX, please set it up according to readme contained in the file. \"./dna_visualization/external_database/multi_x\""
   ]
  }
 ],
 "metadata": {
  "kernelspec": {
   "display_name": "multi-x-serverless--3Mr6ES7-py3.11",
   "language": "python",
   "name": "python3"
  },
  "language_info": {
   "codemirror_mode": {
    "name": "ipython",
    "version": 3
   },
   "file_extension": ".py",
   "mimetype": "text/x-python",
   "name": "python",
   "nbconvert_exporter": "python",
   "pygments_lexer": "ipython3",
   "version": "3.11.7"
  }
 },
 "nbformat": 4,
 "nbformat_minor": 2
}
