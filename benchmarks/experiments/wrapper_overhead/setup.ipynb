{
 "cells": [
  {
   "cell_type": "markdown",
   "metadata": {},
   "source": [
    "## Setup"
   ]
  },
  {
   "cell_type": "markdown",
   "metadata": {},
   "source": [
    "### Import libraries"
   ]
  },
  {
   "cell_type": "code",
   "execution_count": 2,
   "metadata": {},
   "outputs": [],
   "source": [
    "from benchmarks.experiments.wrapper_overhead.common.deployment_utility import WrapperOverheadDeploymentUtility"
   ]
  },
  {
   "cell_type": "markdown",
   "metadata": {},
   "source": [
    "### Setup Common Resources"
   ]
  },
  {
   "cell_type": "code",
   "execution_count": 3,
   "metadata": {},
   "outputs": [],
   "source": [
    "region = 'us-east-2'\n",
    "deployment_utility: WrapperOverheadDeploymentUtility = WrapperOverheadDeploymentUtility(region)"
   ]
  },
  {
   "cell_type": "markdown",
   "metadata": {},
   "source": [
    "## Deploy Associated AWS functions"
   ]
  },
  {
   "cell_type": "markdown",
   "metadata": {},
   "source": [
    "### DNA Visualization"
   ]
  },
  {
   "cell_type": "markdown",
   "metadata": {},
   "source": [
    "#### Boto3 Direct Calls"
   ]
  },
  {
   "cell_type": "code",
   "execution_count": 4,
   "metadata": {},
   "outputs": [
    {
     "name": "stderr",
     "output_type": "stream",
     "text": [
      "Found credentials in environment variables.\n"
     ]
    },
    {
     "name": "stdout",
     "output_type": "stream",
     "text": [
      "Deploying boto3_direct workload\n",
      "wo-dna_vis-ed-direct\n",
      "\n",
      "Deploying wo-dna_vis-ed-direct-visualize\n",
      "Removing old resources\n",
      "Old resources for Removed\n",
      "Creating iam role\n",
      "Resulting Policy ARN: arn:aws:iam::485595969306:role/wo-dna_vis-ed-direct-visualize-policy\n",
      "Creating lambda function\n"
     ]
    },
    {
     "name": "stderr",
     "output_type": "stream",
     "text": [
      "#0 building with \"default\" instance using docker driver\n",
      "\n",
      "#1 [internal] load build definition from Dockerfile\n",
      "#1 transferring dockerfile: 325B done\n",
      "#1 DONE 0.0s\n",
      "\n",
      "#2 [internal] load metadata for public.ecr.aws/lambda/python:3.8\n",
      "#2 DONE 0.3s\n",
      "\n",
      "#3 [internal] load .dockerignore\n",
      "#3 transferring context: 2B done\n",
      "#3 DONE 0.0s\n",
      "\n",
      "#4 [1/6] FROM public.ecr.aws/lambda/python:3.8@sha256:1c82a47e73abcf7948aeaa3c39503f6d2306351ec3c8096b4307fa1fbf6bbcb1\n",
      "#4 DONE 0.0s\n",
      "\n",
      "#5 [internal] load build context\n",
      "#5 transferring context: 108.82kB done\n",
      "#5 DONE 0.0s\n",
      "\n",
      "#6 [2/6] COPY requirements.txt ./\n",
      "#6 CACHED\n",
      "\n",
      "#7 [3/6] RUN pip3 install --no-cache-dir -r requirements.txt\n",
      "#7 CACHED\n",
      "\n",
      "#8 [4/6] COPY app.py ./\n",
      "#8 DONE 0.0s\n",
      "\n",
      "#9 [5/6] COPY src ./src\n",
      "#9 DONE 0.0s\n",
      "\n",
      "#10 [6/6] COPY multi_x_serverless ./multi_x_serverless\n",
      "#10 DONE 0.0s\n",
      "\n",
      "#11 exporting to image\n",
      "#11 exporting layers 0.0s done\n",
      "#11 writing image sha256:50f478eaceb0cd59c99bf1fabcd887744086259aba11567f84fdccecac01aecb done\n",
      "#11 naming to docker.io/library/wo-dna_vis-ed-direct-visualize:latest done\n",
      "#11 DONE 0.0s\n",
      "Docker image wo-dna_vis-ed-direct-visualize:latest built successfully.\n",
      "WARNING! Using --password via the CLI is insecure. Use --password-stdin.\n",
      "WARNING! Your password will be stored unencrypted in /home/daniel/.docker/config.json.\n",
      "Configure a credential helper to remove this warning. See\n",
      "https://docs.docker.com/engine/reference/commandline/login/#credentials-store\n",
      "\n"
     ]
    },
    {
     "name": "stdout",
     "output_type": "stream",
     "text": [
      "Login Succeeded\n",
      "The push refers to repository [485595969306.dkr.ecr.us-east-2.amazonaws.com/wo-dna_vis-ed-direct-visualize]\n",
      "dacaf60e5779: Preparing\n",
      "69825780b009: Preparing\n",
      "72538776476f: Preparing\n",
      "330a4d8ec789: Preparing\n",
      "48ab2ac5e1a5: Preparing\n",
      "61728103c778: Preparing\n",
      "11c57b9ec508: Preparing\n",
      "59e530c8b37a: Preparing\n",
      "eb4ec3a6ddd2: Preparing\n",
      "71786097e499: Preparing\n",
      "25a97811023e: Preparing\n",
      "61728103c778: Waiting\n",
      "11c57b9ec508: Waiting\n",
      "59e530c8b37a: Waiting\n",
      "eb4ec3a6ddd2: Waiting\n",
      "71786097e499: Waiting\n",
      "25a97811023e: Waiting\n",
      "69825780b009: Pushed\n",
      "72538776476f: Pushed\n",
      "dacaf60e5779: Pushed\n",
      "48ab2ac5e1a5: Pushed\n",
      "59e530c8b37a: Layer already exists\n",
      "eb4ec3a6ddd2: Pushed\n",
      "25a97811023e: Layer already exists\n",
      "71786097e499: Pushed\n",
      "61728103c778: Pushed\n",
      "330a4d8ec789: Pushed\n",
      "11c57b9ec508: Pushed\n"
     ]
    },
    {
     "name": "stderr",
     "output_type": "stream",
     "text": [
      "Successfully pushed Docker image 485595969306.dkr.ecr.us-east-2.amazonaws.com/wo-dna_vis-ed-direct-visualize:latest to ECR.\n"
     ]
    },
    {
     "name": "stdout",
     "output_type": "stream",
     "text": [
      "latest: digest: sha256:5e2dae3dff83bb0c5770362d07ffa3111ae4966e11c6cea258d1b35c1c449869 size: 2624\n",
      "Resulting Function ARN: arn:aws:lambda:us-east-2:485595969306:function:wo-dna_vis-ed-direct-visualize\n",
      "\n",
      "Deploying wo-dna_vis-ed-direct-get_input\n",
      "Removing old resources\n",
      "Old resources for Removed\n",
      "Creating iam role\n",
      "Resulting Policy ARN: arn:aws:iam::485595969306:role/wo-dna_vis-ed-direct-get_input-policy\n",
      "Creating lambda function\n"
     ]
    },
    {
     "name": "stderr",
     "output_type": "stream",
     "text": [
      "#0 building with \"default\" instance using docker driver\n",
      "\n",
      "#1 [internal] load build definition from Dockerfile\n",
      "#1 transferring dockerfile: 325B done\n",
      "#1 DONE 0.0s\n",
      "\n",
      "#2 [internal] load metadata for public.ecr.aws/lambda/python:3.8\n",
      "#2 DONE 0.1s\n",
      "\n",
      "#3 [internal] load .dockerignore\n",
      "#3 transferring context: 2B done\n",
      "#3 DONE 0.0s\n",
      "\n",
      "#4 [1/6] FROM public.ecr.aws/lambda/python:3.8@sha256:1c82a47e73abcf7948aeaa3c39503f6d2306351ec3c8096b4307fa1fbf6bbcb1\n",
      "#4 DONE 0.0s\n",
      "\n",
      "#5 [internal] load build context\n",
      "#5 transferring context: 106.69kB done\n",
      "#5 DONE 0.0s\n",
      "\n",
      "#6 [2/6] COPY requirements.txt ./\n",
      "#6 CACHED\n",
      "\n",
      "#7 [3/6] RUN pip3 install --no-cache-dir -r requirements.txt\n",
      "#7 CACHED\n",
      "\n",
      "#8 [4/6] COPY app.py ./\n",
      "#8 DONE 0.0s\n",
      "\n",
      "#9 [5/6] COPY src ./src\n",
      "#9 DONE 0.0s\n",
      "\n",
      "#10 [6/6] COPY multi_x_serverless ./multi_x_serverless\n",
      "#10 DONE 0.0s\n",
      "\n",
      "#11 exporting to image\n",
      "#11 exporting layers 0.0s done\n",
      "#11 writing image sha256:b08262d73097e6ba6b0dfcd0e9460f5639d1af30dc571ebd7fae8a782157a4f2 done\n",
      "#11 naming to docker.io/library/wo-dna_vis-ed-direct-get_input:latest done\n",
      "#11 DONE 0.0s\n",
      "Docker image wo-dna_vis-ed-direct-get_input:latest built successfully.\n",
      "WARNING! Using --password via the CLI is insecure. Use --password-stdin.\n",
      "WARNING! Your password will be stored unencrypted in /home/daniel/.docker/config.json.\n",
      "Configure a credential helper to remove this warning. See\n",
      "https://docs.docker.com/engine/reference/commandline/login/#credentials-store\n",
      "\n"
     ]
    },
    {
     "name": "stdout",
     "output_type": "stream",
     "text": [
      "Login Succeeded\n",
      "The push refers to repository [485595969306.dkr.ecr.us-east-2.amazonaws.com/wo-dna_vis-ed-direct-get_input]\n",
      "e8a84904576a: Preparing\n",
      "3a6062bca917: Preparing\n",
      "1fd2859b3a0d: Preparing\n",
      "348f9a7ff89e: Preparing\n",
      "16a2a762583c: Preparing\n",
      "61728103c778: Preparing\n",
      "11c57b9ec508: Preparing\n",
      "59e530c8b37a: Preparing\n",
      "eb4ec3a6ddd2: Preparing\n",
      "71786097e499: Preparing\n",
      "25a97811023e: Preparing\n",
      "59e530c8b37a: Waiting\n",
      "eb4ec3a6ddd2: Waiting\n",
      "61728103c778: Waiting\n",
      "71786097e499: Waiting\n",
      "11c57b9ec508: Waiting\n",
      "25a97811023e: Waiting\n",
      "1fd2859b3a0d: Pushed\n",
      "e8a84904576a: Pushed\n",
      "16a2a762583c: Pushed\n",
      "59e530c8b37a: Layer already exists\n",
      "3a6062bca917: Pushed\n",
      "348f9a7ff89e: Pushed\n",
      "25a97811023e: Layer already exists\n",
      "eb4ec3a6ddd2: Pushed\n",
      "71786097e499: Pushed\n",
      "61728103c778: Pushed\n",
      "11c57b9ec508: Pushed\n"
     ]
    },
    {
     "name": "stderr",
     "output_type": "stream",
     "text": [
      "Successfully pushed Docker image 485595969306.dkr.ecr.us-east-2.amazonaws.com/wo-dna_vis-ed-direct-get_input:latest to ECR.\n"
     ]
    },
    {
     "name": "stdout",
     "output_type": "stream",
     "text": [
      "latest: digest: sha256:cf1712541ee361aa25dd23b0ef3c511f3bdbdacba7b81b48499e01a7a1758bd2 size: 2623\n",
      "Resulting Function ARN: arn:aws:lambda:us-east-2:485595969306:function:wo-dna_vis-ed-direct-get_input\n",
      "Completed deployment of wo-dna_vis-ed-direct\n",
      "\n",
      "\n"
     ]
    }
   ],
   "source": [
    "dna_vis_direct_calls_dir = \"./dna_visualization/external_database/boto3_direct\" # Boto3 only direct calls\n",
    "deployment_utility.deploy_experiment(dna_vis_direct_calls_dir)"
   ]
  },
  {
   "cell_type": "markdown",
   "metadata": {},
   "source": [
    "#### Boto3 SNS calls"
   ]
  },
  {
   "cell_type": "code",
   "execution_count": 4,
   "metadata": {},
   "outputs": [
    {
     "name": "stderr",
     "output_type": "stream",
     "text": [
      "Found credentials in environment variables.\n"
     ]
    },
    {
     "name": "stdout",
     "output_type": "stream",
     "text": [
      "Deploying boto3_sns workload\n",
      "wo-dna_vis-ed-sns\n",
      "\n",
      "Deploying wo-dna_vis-ed-sns-visualize\n",
      "Removing old resources\n",
      "Old resources for Removed\n",
      "Creating iam role\n",
      "Resulting Policy ARN: arn:aws:iam::485595969306:role/wo-dna_vis-ed-sns-visualize-policy\n",
      "Creating lambda function\n"
     ]
    },
    {
     "name": "stderr",
     "output_type": "stream",
     "text": [
      "#0 building with \"default\" instance using docker driver\n",
      "\n",
      "#1 [internal] load build definition from Dockerfile\n",
      "#1 transferring dockerfile: 325B done\n",
      "#1 DONE 0.0s\n",
      "\n",
      "#2 [internal] load metadata for public.ecr.aws/lambda/python:3.8\n",
      "#2 DONE 10.5s\n",
      "\n",
      "#3 [internal] load .dockerignore\n",
      "#3 transferring context: 2B done\n",
      "#3 DONE 0.0s\n",
      "\n",
      "#4 [internal] load build context\n",
      "#4 transferring context: 108.89kB done\n",
      "#4 DONE 0.0s\n",
      "\n",
      "#5 [1/6] FROM public.ecr.aws/lambda/python:3.8@sha256:1c82a47e73abcf7948aeaa3c39503f6d2306351ec3c8096b4307fa1fbf6bbcb1\n",
      "#5 resolve public.ecr.aws/lambda/python:3.8@sha256:1c82a47e73abcf7948aeaa3c39503f6d2306351ec3c8096b4307fa1fbf6bbcb1 0.0s done\n",
      "#5 extracting sha256:acf752993f144e5f0f83c87c268ae7fbd884593d3d32d1abda48e267bd2be281\n",
      "#5 extracting sha256:acf752993f144e5f0f83c87c268ae7fbd884593d3d32d1abda48e267bd2be281 done\n",
      "#5 sha256:1c82a47e73abcf7948aeaa3c39503f6d2306351ec3c8096b4307fa1fbf6bbcb1 772B / 772B done\n",
      "#5 sha256:7b442e7e2e42407112b0064181b07c6c70c56411721e213adb06740f56d692f9 1.58kB / 1.58kB done\n",
      "#5 sha256:ba8ed0cdb5a3ce088d3cd74b8a98a0c19a1e97cce88b00e307a9777c61a0805b 4.38kB / 4.38kB done\n",
      "#5 sha256:acf752993f144e5f0f83c87c268ae7fbd884593d3d32d1abda48e267bd2be281 88.89kB / 88.89kB 0.1s done\n",
      "#5 sha256:b01e9d0ff0112be1567884655d80becdd44c16a78155c89f7fd1852791d21dd7 417B / 417B 0.1s done\n",
      "#5 sha256:5610ae64cd7b0c537849759e5f17af3511edcd28209a468240d964d08de8745c 0B / 58.35MB 0.2s\n",
      "#5 sha256:14f4c1a831698fc46e9c1229c4bbed893bedb6321755d0b52643e239c4eb206a 2.59MB / 2.59MB 0.2s done\n",
      "#5 extracting sha256:b01e9d0ff0112be1567884655d80becdd44c16a78155c89f7fd1852791d21dd7 done\n",
      "#5 extracting sha256:14f4c1a831698fc46e9c1229c4bbed893bedb6321755d0b52643e239c4eb206a\n",
      "#5 sha256:5bf7c755bc9c1fb0e36af4c7d690dbc122a954136acc2655c0da921400fdcf92 1.05MB / 20.63MB 0.2s\n",
      "#5 sha256:5610ae64cd7b0c537849759e5f17af3511edcd28209a468240d964d08de8745c 3.15MB / 58.35MB 0.3s\n",
      "#5 extracting sha256:14f4c1a831698fc46e9c1229c4bbed893bedb6321755d0b52643e239c4eb206a 0.0s done\n",
      "#5 sha256:5bf7c755bc9c1fb0e36af4c7d690dbc122a954136acc2655c0da921400fdcf92 9.44MB / 20.63MB 0.3s\n",
      "#5 sha256:5610ae64cd7b0c537849759e5f17af3511edcd28209a468240d964d08de8745c 6.29MB / 58.35MB 0.4s\n",
      "#5 sha256:5bf7c755bc9c1fb0e36af4c7d690dbc122a954136acc2655c0da921400fdcf92 17.83MB / 20.63MB 0.4s\n",
      "#5 sha256:5610ae64cd7b0c537849759e5f17af3511edcd28209a468240d964d08de8745c 12.58MB / 58.35MB 0.6s\n",
      "#5 sha256:5bf7c755bc9c1fb0e36af4c7d690dbc122a954136acc2655c0da921400fdcf92 20.63MB / 20.63MB 0.4s done\n",
      "#5 sha256:5610ae64cd7b0c537849759e5f17af3511edcd28209a468240d964d08de8745c 16.78MB / 58.35MB 0.7s\n",
      "#5 sha256:5610ae64cd7b0c537849759e5f17af3511edcd28209a468240d964d08de8745c 35.65MB / 58.35MB 0.9s\n",
      "#5 sha256:5610ae64cd7b0c537849759e5f17af3511edcd28209a468240d964d08de8745c 47.19MB / 58.35MB 1.0s\n",
      "#5 sha256:5610ae64cd7b0c537849759e5f17af3511edcd28209a468240d964d08de8745c 58.35MB / 58.35MB 1.1s\n",
      "#5 sha256:5610ae64cd7b0c537849759e5f17af3511edcd28209a468240d964d08de8745c 58.35MB / 58.35MB 1.1s done\n",
      "#5 extracting sha256:5610ae64cd7b0c537849759e5f17af3511edcd28209a468240d964d08de8745c 0.1s\n",
      "#5 extracting sha256:5610ae64cd7b0c537849759e5f17af3511edcd28209a468240d964d08de8745c 2.1s done\n",
      "#5 extracting sha256:5bf7c755bc9c1fb0e36af4c7d690dbc122a954136acc2655c0da921400fdcf92 0.1s\n",
      "#5 extracting sha256:5bf7c755bc9c1fb0e36af4c7d690dbc122a954136acc2655c0da921400fdcf92 1.6s done\n",
      "#5 DONE 5.0s\n",
      "\n",
      "#6 [2/6] COPY requirements.txt ./\n",
      "#6 DONE 0.3s\n",
      "\n",
      "#7 [3/6] RUN pip3 install --no-cache-dir -r requirements.txt\n",
      "#7 0.657 Collecting dna_features_viewer\n",
      "#7 0.712   Downloading dna_features_viewer-3.1.3-py3-none-any.whl (31 kB)\n",
      "#7 1.144 Collecting boto3==1.34.43\n",
      "#7 1.153   Downloading boto3-1.34.43-py3-none-any.whl (139 kB)\n",
      "#7 1.162      ━━━━━━━━━━━━━━━━━━━━━━━━━━━━━━━━━━━━━━ 139.3/139.3 kB 19.3 MB/s eta 0:00:00\n",
      "#7 1.212 Collecting pyyaml==6.0.1\n",
      "#7 1.221   Downloading PyYAML-6.0.1-cp38-cp38-manylinux_2_17_x86_64.manylinux2014_x86_64.whl (736 kB)\n",
      "#7 1.236      ━━━━━━━━━━━━━━━━━━━━━━━━━━━━━━━━━━━━━━ 736.6/736.6 kB 57.5 MB/s eta 0:00:00\n",
      "#7 1.290 Collecting pytz==2024.1\n",
      "#7 1.299   Downloading pytz-2024.1-py2.py3-none-any.whl (505 kB)\n",
      "#7 1.316      ━━━━━━━━━━━━━━━━━━━━━━━━━━━━━━━━━━━━━━ 505.5/505.5 kB 34.3 MB/s eta 0:00:00\n",
      "#7 1.927 Collecting botocore<1.35.0,>=1.34.43\n",
      "#7 1.936   Downloading botocore-1.34.70-py3-none-any.whl (12.0 MB)\n",
      "#7 2.081      ━━━━━━━━━━━━━━━━━━━━━━━━━━━━━━━━━━━━━━━━ 12.0/12.0 MB 81.1 MB/s eta 0:00:00\n",
      "#7 2.122 Collecting s3transfer<0.11.0,>=0.10.0\n",
      "#7 2.131   Downloading s3transfer-0.10.1-py3-none-any.whl (82 kB)\n",
      "#7 2.133      ━━━━━━━━━━━━━━━━━━━━━━━━━━━━━━━━━━━━━━━ 82.2/82.2 kB 418.5 MB/s eta 0:00:00\n",
      "#7 2.155 Collecting jmespath<2.0.0,>=0.7.1\n",
      "#7 2.164   Downloading jmespath-1.0.1-py3-none-any.whl (20 kB)\n",
      "#7 2.195 Collecting packaging\n",
      "#7 2.204   Downloading packaging-24.0-py3-none-any.whl (53 kB)\n",
      "#7 2.206      ━━━━━━━━━━━━━━━━━━━━━━━━━━━━━━━━━━━━━━━ 53.5/53.5 kB 345.1 MB/s eta 0:00:00\n",
      "#7 2.399 Collecting matplotlib>=3\n",
      "#7 2.411   Downloading matplotlib-3.7.5-cp38-cp38-manylinux_2_12_x86_64.manylinux2010_x86_64.whl (9.2 MB)\n",
      "#7 2.524      ━━━━━━━━━━━━━━━━━━━━━━━━━━━━━━━━━━━━━━━━ 9.2/9.2 MB 83.1 MB/s eta 0:00:00\n",
      "#7 2.583 Collecting Biopython\n",
      "#7 2.602   Downloading biopython-1.83-cp38-cp38-manylinux_2_17_x86_64.manylinux2014_x86_64.whl (3.1 MB)\n",
      "#7 2.640      ━━━━━━━━━━━━━━━━━━━━━━━━━━━━━━━━━━━━━━━━ 3.1/3.1 MB 84.9 MB/s eta 0:00:00\n",
      "#7 2.674 Collecting python-dateutil<3.0.0,>=2.1\n",
      "#7 2.682   Downloading python_dateutil-2.9.0.post0-py2.py3-none-any.whl (229 kB)\n",
      "#7 2.686      ━━━━━━━━━━━━━━━━━━━━━━━━━━━━━━━━━━━━━ 229.9/229.9 kB 201.7 MB/s eta 0:00:00\n",
      "#7 2.736 Collecting urllib3<1.27,>=1.25.4\n",
      "#7 2.745   Downloading urllib3-1.26.18-py2.py3-none-any.whl (143 kB)\n",
      "#7 2.747      ━━━━━━━━━━━━━━━━━━━━━━━━━━━━━━━━━━━━━ 143.8/143.8 kB 530.5 MB/s eta 0:00:00\n",
      "#7 2.843 Collecting contourpy>=1.0.1\n",
      "#7 2.862   Downloading contourpy-1.1.1-cp38-cp38-manylinux_2_17_x86_64.manylinux2014_x86_64.whl (301 kB)\n",
      "#7 2.864      ━━━━━━━━━━━━━━━━━━━━━━━━━━━━━━━━━━━━━ 301.1/301.1 kB 493.7 MB/s eta 0:00:00\n",
      "#7 2.905 Collecting pyparsing>=2.3.1\n",
      "#7 2.914   Downloading pyparsing-3.1.2-py3-none-any.whl (103 kB)\n",
      "#7 2.916      ━━━━━━━━━━━━━━━━━━━━━━━━━━━━━━━━━━━━━ 103.2/103.2 kB 484.2 MB/s eta 0:00:00\n",
      "#7 3.198 Collecting pillow>=6.2.0\n",
      "#7 3.210   Downloading pillow-10.2.0-cp38-cp38-manylinux_2_17_x86_64.manylinux2014_x86_64.whl (4.4 MB)\n",
      "#7 3.262      ━━━━━━━━━━━━━━━━━━━━━━━━━━━━━━━━━━━━━━━━ 4.4/4.4 MB 88.6 MB/s eta 0:00:00\n",
      "#7 3.534 Collecting numpy<2,>=1.20\n",
      "#7 3.547   Downloading numpy-1.24.4-cp38-cp38-manylinux_2_17_x86_64.manylinux2014_x86_64.whl (17.3 MB)\n",
      "#7 3.743      ━━━━━━━━━━━━━━━━━━━━━━━━━━━━━━━━━━━━━━━━ 17.3/17.3 MB 89.4 MB/s eta 0:00:00\n",
      "#7 3.804 Collecting importlib-resources>=3.2.0\n",
      "#7 3.813   Downloading importlib_resources-6.4.0-py3-none-any.whl (38 kB)\n",
      "#7 3.879 Collecting kiwisolver>=1.0.1\n",
      "#7 3.891   Downloading kiwisolver-1.4.5-cp38-cp38-manylinux_2_5_x86_64.manylinux1_x86_64.whl (1.2 MB)\n",
      "#7 3.905      ━━━━━━━━━━━━━━━━━━━━━━━━━━━━━━━━━━━━━━━━ 1.2/1.2 MB 90.7 MB/s eta 0:00:00\n",
      "#7 3.922 Collecting cycler>=0.10\n",
      "#7 3.930   Downloading cycler-0.12.1-py3-none-any.whl (8.3 kB)\n",
      "#7 4.062 Collecting fonttools>=4.22.0\n",
      "#7 4.074   Downloading fonttools-4.50.0-cp38-cp38-manylinux_2_17_x86_64.manylinux2014_x86_64.whl (4.7 MB)\n",
      "#7 4.126      ━━━━━━━━━━━━━━━━━━━━━━━━━━━━━━━━━━━━━━━━ 4.7/4.7 MB 94.1 MB/s eta 0:00:00\n",
      "#7 4.374 Collecting zipp>=3.1.0\n",
      "#7 4.382   Downloading zipp-3.18.1-py3-none-any.whl (8.2 kB)\n",
      "#7 4.457 Collecting six>=1.5\n",
      "#7 4.466   Downloading six-1.16.0-py2.py3-none-any.whl (11 kB)\n",
      "#7 4.653 Installing collected packages: pytz, zipp, urllib3, six, pyyaml, pyparsing, pillow, packaging, numpy, kiwisolver, jmespath, fonttools, cycler, python-dateutil, importlib-resources, contourpy, Biopython, matplotlib, botocore, s3transfer, dna_features_viewer, boto3\n",
      "#7 9.080 Successfully installed Biopython-1.83 boto3-1.34.43 botocore-1.34.70 contourpy-1.1.1 cycler-0.12.1 dna_features_viewer-3.1.3 fonttools-4.50.0 importlib-resources-6.4.0 jmespath-1.0.1 kiwisolver-1.4.5 matplotlib-3.7.5 numpy-1.24.4 packaging-24.0 pillow-10.2.0 pyparsing-3.1.2 python-dateutil-2.9.0.post0 pytz-2024.1 pyyaml-6.0.1 s3transfer-0.10.1 six-1.16.0 urllib3-1.26.18 zipp-3.18.1\n",
      "#7 9.080 WARNING: Running pip as the 'root' user can result in broken permissions and conflicting behaviour with the system package manager. It is recommended to use a virtual environment instead: https://pip.pypa.io/warnings/venv\n",
      "#7 9.162 \n",
      "#7 9.162 [notice] A new release of pip is available: 23.0.1 -> 24.0\n",
      "#7 9.162 [notice] To update, run: pip install --upgrade pip\n",
      "#7 DONE 9.5s\n",
      "\n",
      "#8 [4/6] COPY app.py ./\n",
      "#8 DONE 0.0s\n",
      "\n",
      "#9 [5/6] COPY src ./src\n",
      "#9 DONE 0.0s\n",
      "\n",
      "#10 [6/6] COPY multi_x_serverless ./multi_x_serverless\n",
      "#10 DONE 0.0s\n",
      "\n",
      "#11 exporting to image\n",
      "#11 exporting layers\n",
      "#11 exporting layers 0.6s done\n",
      "#11 writing image sha256:affdb12430ab0c14a5399944894a96c386a9b857a34202ee406b185a841c06a5 done\n",
      "#11 naming to docker.io/library/wo-dna_vis-ed-sns-visualize:latest done\n",
      "#11 DONE 0.6s\n",
      "Docker image wo-dna_vis-ed-sns-visualize:latest built successfully.\n",
      "WARNING! Using --password via the CLI is insecure. Use --password-stdin.\n",
      "WARNING! Your password will be stored unencrypted in /home/daniel/.docker/config.json.\n",
      "Configure a credential helper to remove this warning. See\n",
      "https://docs.docker.com/engine/reference/commandline/login/#credentials-store\n",
      "\n"
     ]
    },
    {
     "name": "stdout",
     "output_type": "stream",
     "text": [
      "Login Succeeded\n",
      "The push refers to repository [485595969306.dkr.ecr.us-east-2.amazonaws.com/wo-dna_vis-ed-sns-visualize]\n",
      "54f80a2d663d: Preparing\n",
      "d3dd124a674e: Preparing\n",
      "4feecb1756fc: Preparing\n",
      "330a4d8ec789: Preparing\n",
      "48ab2ac5e1a5: Preparing\n",
      "61728103c778: Preparing\n",
      "11c57b9ec508: Preparing\n",
      "59e530c8b37a: Preparing\n",
      "eb4ec3a6ddd2: Preparing\n",
      "71786097e499: Preparing\n",
      "25a97811023e: Preparing\n",
      "11c57b9ec508: Waiting\n",
      "59e530c8b37a: Waiting\n",
      "eb4ec3a6ddd2: Waiting\n",
      "71786097e499: Waiting\n",
      "25a97811023e: Waiting\n",
      "61728103c778: Waiting\n",
      "48ab2ac5e1a5: Pushed\n",
      "4feecb1756fc: Pushed\n",
      "d3dd124a674e: Pushed\n",
      "54f80a2d663d: Pushed\n",
      "eb4ec3a6ddd2: Pushed\n",
      "59e530c8b37a: Pushed\n",
      "71786097e499: Pushed\n",
      "61728103c778: Pushed\n",
      "330a4d8ec789: Pushed\n",
      "11c57b9ec508: Pushed\n",
      "25a97811023e: Pushed\n"
     ]
    },
    {
     "name": "stderr",
     "output_type": "stream",
     "text": [
      "Successfully pushed Docker image 485595969306.dkr.ecr.us-east-2.amazonaws.com/wo-dna_vis-ed-sns-visualize:latest to ECR.\n"
     ]
    },
    {
     "name": "stdout",
     "output_type": "stream",
     "text": [
      "latest: digest: sha256:5e2e43b34ab0ef1b924ec40db4dcc1f1beda1accbb0ce09517ebbf54797df063 size: 2624\n",
      "Resulting Function ARN: arn:aws:lambda:us-east-2:485595969306:function:wo-dna_vis-ed-sns-visualize\n",
      "Creating sns topic and subscribing lambda function\n",
      "Resulting Topic ARN: arn:aws:sns:us-east-2:485595969306:wo-dna_vis-ed-sns-visualize-sns_topic\n",
      "Resulting Subscription ARN: arn:aws:sns:us-east-2:485595969306:wo-dna_vis-ed-sns-visualize-sns_topic:8edc03de-56e9-4677-87b4-57caf0504356\n",
      "\n",
      "Deploying wo-dna_vis-ed-sns-get_input\n",
      "Removing old resources\n",
      "Old resources for Removed\n",
      "Creating iam role\n",
      "Resulting Policy ARN: arn:aws:iam::485595969306:role/wo-dna_vis-ed-sns-get_input-policy\n",
      "Creating lambda function\n"
     ]
    },
    {
     "name": "stderr",
     "output_type": "stream",
     "text": [
      "#0 building with \"default\" instance using docker driver\n",
      "\n",
      "#1 [internal] load build definition from Dockerfile\n",
      "#1 transferring dockerfile: 325B done\n",
      "#1 DONE 0.0s\n",
      "\n",
      "#2 [internal] load metadata for public.ecr.aws/lambda/python:3.8\n",
      "#2 DONE 0.2s\n",
      "\n",
      "#3 [internal] load .dockerignore\n",
      "#3 transferring context: 2B done\n",
      "#3 DONE 0.0s\n",
      "\n",
      "#4 [internal] load build context\n",
      "#4 transferring context: 107.14kB done\n",
      "#4 DONE 0.0s\n",
      "\n",
      "#5 [1/6] FROM public.ecr.aws/lambda/python:3.8@sha256:1c82a47e73abcf7948aeaa3c39503f6d2306351ec3c8096b4307fa1fbf6bbcb1\n",
      "#5 CACHED\n",
      "\n",
      "#6 [2/6] COPY requirements.txt ./\n",
      "#6 DONE 0.0s\n",
      "\n",
      "#7 [3/6] RUN pip3 install --no-cache-dir -r requirements.txt\n",
      "#7 0.921 Collecting boto3==1.34.43\n",
      "#7 0.995   Downloading boto3-1.34.43-py3-none-any.whl (139 kB)\n",
      "#7 1.015      ━━━━━━━━━━━━━━━━━━━━━━━━━━━━━━━━━━━━━━━ 139.3/139.3 kB 7.8 MB/s eta 0:00:00\n",
      "#7 1.068 Collecting pyyaml==6.0.1\n",
      "#7 1.078   Downloading PyYAML-6.0.1-cp38-cp38-manylinux_2_17_x86_64.manylinux2014_x86_64.whl (736 kB)\n",
      "#7 1.097      ━━━━━━━━━━━━━━━━━━━━━━━━━━━━━━━━━━━━━━ 736.6/736.6 kB 41.9 MB/s eta 0:00:00\n",
      "#7 1.150 Collecting pytz==2024.1\n",
      "#7 1.162   Downloading pytz-2024.1-py2.py3-none-any.whl (505 kB)\n",
      "#7 1.181      ━━━━━━━━━━━━━━━━━━━━━━━━━━━━━━━━━━━━━━ 505.5/505.5 kB 30.1 MB/s eta 0:00:00\n",
      "#7 1.210 Collecting s3transfer<0.11.0,>=0.10.0\n",
      "#7 1.220   Downloading s3transfer-0.10.1-py3-none-any.whl (82 kB)\n",
      "#7 1.222      ━━━━━━━━━━━━━━━━━━━━━━━━━━━━━━━━━━━━━━━ 82.2/82.2 kB 328.5 MB/s eta 0:00:00\n",
      "#7 1.239 Collecting jmespath<2.0.0,>=0.7.1\n",
      "#7 1.249   Downloading jmespath-1.0.1-py3-none-any.whl (20 kB)\n",
      "#7 1.749 Collecting botocore<1.35.0,>=1.34.43\n",
      "#7 1.760   Downloading botocore-1.34.70-py3-none-any.whl (12.0 MB)\n",
      "#7 1.896      ━━━━━━━━━━━━━━━━━━━━━━━━━━━━━━━━━━━━━━━━ 12.0/12.0 MB 88.7 MB/s eta 0:00:00\n",
      "#7 1.941 Collecting python-dateutil<3.0.0,>=2.1\n",
      "#7 1.951   Downloading python_dateutil-2.9.0.post0-py2.py3-none-any.whl (229 kB)\n",
      "#7 1.954      ━━━━━━━━━━━━━━━━━━━━━━━━━━━━━━━━━━━━━ 229.9/229.9 kB 243.1 MB/s eta 0:00:00\n",
      "#7 1.999 Collecting urllib3<1.27,>=1.25.4\n",
      "#7 2.009   Downloading urllib3-1.26.18-py2.py3-none-any.whl (143 kB)\n",
      "#7 2.011      ━━━━━━━━━━━━━━━━━━━━━━━━━━━━━━━━━━━━━ 143.8/143.8 kB 486.4 MB/s eta 0:00:00\n",
      "#7 2.132 Collecting six>=1.5\n",
      "#7 2.142   Downloading six-1.16.0-py2.py3-none-any.whl (11 kB)\n",
      "#7 2.214 Installing collected packages: pytz, urllib3, six, pyyaml, jmespath, python-dateutil, botocore, s3transfer, boto3\n",
      "#7 2.919 Successfully installed boto3-1.34.43 botocore-1.34.70 jmespath-1.0.1 python-dateutil-2.9.0.post0 pytz-2024.1 pyyaml-6.0.1 s3transfer-0.10.1 six-1.16.0 urllib3-1.26.18\n",
      "#7 2.920 WARNING: Running pip as the 'root' user can result in broken permissions and conflicting behaviour with the system package manager. It is recommended to use a virtual environment instead: https://pip.pypa.io/warnings/venv\n",
      "#7 3.003 \n",
      "#7 3.003 [notice] A new release of pip is available: 23.0.1 -> 24.0\n",
      "#7 3.003 [notice] To update, run: pip install --upgrade pip\n",
      "#7 DONE 3.1s\n",
      "\n",
      "#8 [4/6] COPY app.py ./\n",
      "#8 DONE 0.0s\n",
      "\n",
      "#9 [5/6] COPY src ./src\n",
      "#9 DONE 0.0s\n",
      "\n",
      "#10 [6/6] COPY multi_x_serverless ./multi_x_serverless\n",
      "#10 DONE 0.0s\n",
      "\n",
      "#11 exporting to image\n",
      "#11 exporting layers\n",
      "#11 exporting layers 0.2s done\n",
      "#11 writing image sha256:cdd24f4645f7c8a1e7bb36ca0225ee32b79326a99f1d645adbdd2615b21271d9 done\n",
      "#11 naming to docker.io/library/wo-dna_vis-ed-sns-get_input:latest done\n",
      "#11 DONE 0.2s\n",
      "Docker image wo-dna_vis-ed-sns-get_input:latest built successfully.\n",
      "WARNING! Using --password via the CLI is insecure. Use --password-stdin.\n",
      "WARNING! Your password will be stored unencrypted in /home/daniel/.docker/config.json.\n",
      "Configure a credential helper to remove this warning. See\n",
      "https://docs.docker.com/engine/reference/commandline/login/#credentials-store\n",
      "\n"
     ]
    },
    {
     "name": "stdout",
     "output_type": "stream",
     "text": [
      "Login Succeeded\n",
      "The push refers to repository [485595969306.dkr.ecr.us-east-2.amazonaws.com/wo-dna_vis-ed-sns-get_input]\n",
      "7186a377c4fb: Preparing\n",
      "ce2bac13af20: Preparing\n",
      "3252edd72986: Preparing\n",
      "348f9a7ff89e: Preparing\n",
      "16a2a762583c: Preparing\n",
      "61728103c778: Preparing\n",
      "11c57b9ec508: Preparing\n",
      "59e530c8b37a: Preparing\n",
      "eb4ec3a6ddd2: Preparing\n",
      "71786097e499: Preparing\n",
      "25a97811023e: Preparing\n",
      "11c57b9ec508: Waiting\n",
      "eb4ec3a6ddd2: Waiting\n",
      "71786097e499: Waiting\n",
      "59e530c8b37a: Waiting\n",
      "61728103c778: Waiting\n",
      "25a97811023e: Waiting\n",
      "ce2bac13af20: Pushed\n",
      "3252edd72986: Pushed\n",
      "16a2a762583c: Pushed\n",
      "7186a377c4fb: Pushed\n",
      "348f9a7ff89e: Pushed\n",
      "eb4ec3a6ddd2: Pushed\n",
      "71786097e499: Pushed\n",
      "59e530c8b37a: Pushed\n",
      "61728103c778: Pushed\n",
      "11c57b9ec508: Pushed\n",
      "25a97811023e: Pushed\n"
     ]
    },
    {
     "name": "stderr",
     "output_type": "stream",
     "text": [
      "Successfully pushed Docker image 485595969306.dkr.ecr.us-east-2.amazonaws.com/wo-dna_vis-ed-sns-get_input:latest to ECR.\n"
     ]
    },
    {
     "name": "stdout",
     "output_type": "stream",
     "text": [
      "latest: digest: sha256:b746f59a08d8bba76673ddae90e29c0ea811a969ccf0081359538cf46da330fa size: 2623\n",
      "Resulting Function ARN: arn:aws:lambda:us-east-2:485595969306:function:wo-dna_vis-ed-sns-get_input\n",
      "Creating sns topic and subscribing lambda function\n",
      "Resulting Topic ARN: arn:aws:sns:us-east-2:485595969306:wo-dna_vis-ed-sns-get_input-sns_topic\n",
      "Resulting Subscription ARN: arn:aws:sns:us-east-2:485595969306:wo-dna_vis-ed-sns-get_input-sns_topic:efc8b0a0-add0-45a3-9f62-458d6aa149d4\n",
      "Completed deployment of wo-dna_vis-ed-sns\n",
      "\n",
      "\n"
     ]
    }
   ],
   "source": [
    "dna_vis_sns_calls_dir = \"./dna_visualization/external_database/boto3_sns\" # Boto3 only sns calls\n",
    "deployment_utility.deploy_experiment(dna_vis_sns_calls_dir)"
   ]
  },
  {
   "cell_type": "markdown",
   "metadata": {},
   "source": [
    "#### AWS Step Function"
   ]
  },
  {
   "cell_type": "code",
   "execution_count": 24,
   "metadata": {},
   "outputs": [
    {
     "name": "stdout",
     "output_type": "stream",
     "text": [
      "Deploying aws_step_function workload\n",
      "wo-dna_vis-ed-step_function\n",
      "\n",
      "Deploying wo-dna_vis-ed-step_function-visualize\n",
      "Removing old resources\n",
      "Old resources for Removed\n",
      "Creating iam role\n",
      "Resulting Policy ARN: arn:aws:iam::485595969306:role/wo-dna_vis-ed-step_function-visualize-policy\n",
      "Creating lambda function\n"
     ]
    },
    {
     "name": "stderr",
     "output_type": "stream",
     "text": [
      "#0 building with \"default\" instance using docker driver\n",
      "\n",
      "#1 [internal] load build definition from Dockerfile\n",
      "#1 transferring dockerfile: 325B done\n",
      "#1 DONE 0.0s\n",
      "\n",
      "#2 [internal] load metadata for public.ecr.aws/lambda/python:3.8\n",
      "#2 DONE 0.2s\n",
      "\n",
      "#3 [internal] load .dockerignore\n",
      "#3 transferring context: 2B done\n",
      "#3 DONE 0.0s\n",
      "\n",
      "#4 [1/6] FROM public.ecr.aws/lambda/python:3.8@sha256:9ae4af1397c3c7ac09aca53cca2621c9fdd5f0a2674f2bf05920888d24883f91\n",
      "#4 DONE 0.0s\n",
      "\n",
      "#5 [internal] load build context\n",
      "#5 transferring context: 108.89kB done\n",
      "#5 DONE 0.0s\n",
      "\n",
      "#6 [2/6] COPY requirements.txt ./\n",
      "#6 CACHED\n",
      "\n",
      "#7 [3/6] RUN pip3 install --no-cache-dir -r requirements.txt\n",
      "#7 CACHED\n",
      "\n",
      "#8 [4/6] COPY app.py ./\n",
      "#8 DONE 0.0s\n",
      "\n",
      "#9 [5/6] COPY src ./src\n",
      "#9 DONE 0.0s\n",
      "\n",
      "#10 [6/6] COPY multi_x_serverless ./multi_x_serverless\n",
      "#10 DONE 0.0s\n",
      "\n",
      "#11 exporting to image\n",
      "#11 exporting layers 0.0s done\n",
      "#11 writing image sha256:5cfa003e5b36adb2362095ca91d8275ab13197d8337f117f0ec11bfab6959b5c done\n",
      "#11 naming to docker.io/library/wo-dna_vis-ed-step_function-visualize:latest done\n",
      "#11 DONE 0.0s\n",
      "Docker image wo-dna_vis-ed-step_function-visualize:latest built successfully.\n",
      "WARNING! Using --password via the CLI is insecure. Use --password-stdin.\n",
      "WARNING! Your password will be stored unencrypted in /home/daniel/.docker/config.json.\n",
      "Configure a credential helper to remove this warning. See\n",
      "https://docs.docker.com/engine/reference/commandline/login/#credentials-store\n",
      "\n"
     ]
    },
    {
     "name": "stdout",
     "output_type": "stream",
     "text": [
      "Login Succeeded\n",
      "The push refers to repository [485595969306.dkr.ecr.us-east-2.amazonaws.com/wo-dna_vis-ed-step_function-visualize]\n",
      "9df28a6a8d0d: Preparing\n",
      "a8f9a66cb326: Preparing\n",
      "c1e1781d79d8: Preparing\n",
      "8e1b406f394f: Preparing\n",
      "3a89be36bfcd: Preparing\n",
      "0a20c8da2344: Preparing\n",
      "05788b7af5ed: Preparing\n",
      "706e59713fa4: Preparing\n",
      "052242efe275: Preparing\n",
      "274a79fec6a9: Preparing\n",
      "6849347e354b: Preparing\n",
      "05788b7af5ed: Waiting\n",
      "706e59713fa4: Waiting\n",
      "6849347e354b: Waiting\n",
      "052242efe275: Waiting\n",
      "274a79fec6a9: Waiting\n",
      "0a20c8da2344: Waiting\n",
      "3a89be36bfcd: Layer already exists\n",
      "8e1b406f394f: Layer already exists\n",
      "0a20c8da2344: Layer already exists\n",
      "05788b7af5ed: Layer already exists\n",
      "706e59713fa4: Layer already exists\n",
      "052242efe275: Layer already exists\n",
      "6849347e354b: Layer already exists\n",
      "274a79fec6a9: Layer already exists\n",
      "a8f9a66cb326: Pushed\n",
      "c1e1781d79d8: Pushed\n",
      "9df28a6a8d0d: Pushed\n"
     ]
    },
    {
     "name": "stderr",
     "output_type": "stream",
     "text": [
      "Successfully pushed Docker image 485595969306.dkr.ecr.us-east-2.amazonaws.com/wo-dna_vis-ed-step_function-visualize:latest to ECR.\n"
     ]
    },
    {
     "name": "stdout",
     "output_type": "stream",
     "text": [
      "latest: digest: sha256:781efce4e440e1ecaac77033f6960c4cf6b747b6230d89ce49078a46a17766e4 size: 2624\n",
      "Resulting Function ARN: arn:aws:lambda:us-east-2:485595969306:function:wo-dna_vis-ed-step_function-visualize\n",
      "\n",
      "Deploying wo-dna_vis-ed-step_function-get_input\n",
      "Removing old resources\n",
      "Old resources for Removed\n",
      "Creating iam role\n",
      "Resulting Policy ARN: arn:aws:iam::485595969306:role/wo-dna_vis-ed-step_function-get_input-policy\n",
      "Creating lambda function\n"
     ]
    },
    {
     "name": "stderr",
     "output_type": "stream",
     "text": [
      "#0 building with \"default\" instance using docker driver\n",
      "\n",
      "#1 [internal] load build definition from Dockerfile\n",
      "#1 transferring dockerfile: 325B done\n",
      "#1 DONE 0.0s\n",
      "\n",
      "#2 [internal] load metadata for public.ecr.aws/lambda/python:3.8\n",
      "#2 DONE 0.1s\n",
      "\n",
      "#3 [internal] load .dockerignore\n",
      "#3 transferring context: 2B done\n",
      "#3 DONE 0.0s\n",
      "\n",
      "#4 [1/6] FROM public.ecr.aws/lambda/python:3.8@sha256:9ae4af1397c3c7ac09aca53cca2621c9fdd5f0a2674f2bf05920888d24883f91\n",
      "#4 DONE 0.0s\n",
      "\n",
      "#5 [internal] load build context\n",
      "#5 transferring context: 106.27kB done\n",
      "#5 DONE 0.0s\n",
      "\n",
      "#6 [2/6] COPY requirements.txt ./\n",
      "#6 CACHED\n",
      "\n",
      "#7 [3/6] RUN pip3 install --no-cache-dir -r requirements.txt\n",
      "#7 CACHED\n",
      "\n",
      "#8 [4/6] COPY app.py ./\n",
      "#8 DONE 0.0s\n",
      "\n",
      "#9 [5/6] COPY src ./src\n",
      "#9 DONE 0.0s\n",
      "\n",
      "#10 [6/6] COPY multi_x_serverless ./multi_x_serverless\n",
      "#10 DONE 0.0s\n",
      "\n",
      "#11 exporting to image\n",
      "#11 exporting layers 0.0s done\n",
      "#11 writing image sha256:fbbd28bd98bffefaee60116f5bb26663bf76da7c8e809a63dc0cf1b8d0654aed done\n",
      "#11 naming to docker.io/library/wo-dna_vis-ed-step_function-get_input:latest done\n",
      "#11 DONE 0.0s\n",
      "Docker image wo-dna_vis-ed-step_function-get_input:latest built successfully.\n",
      "WARNING! Using --password via the CLI is insecure. Use --password-stdin.\n",
      "WARNING! Your password will be stored unencrypted in /home/daniel/.docker/config.json.\n",
      "Configure a credential helper to remove this warning. See\n",
      "https://docs.docker.com/engine/reference/commandline/login/#credentials-store\n",
      "\n"
     ]
    },
    {
     "name": "stdout",
     "output_type": "stream",
     "text": [
      "Login Succeeded\n",
      "The push refers to repository [485595969306.dkr.ecr.us-east-2.amazonaws.com/wo-dna_vis-ed-step_function-get_input]\n",
      "edbf480faeb2: Preparing\n",
      "e41be327bb84: Preparing\n",
      "52c0086b9e60: Preparing\n",
      "18f3008705b6: Preparing\n",
      "1c58f3f28eec: Preparing\n",
      "0a20c8da2344: Preparing\n",
      "05788b7af5ed: Preparing\n",
      "706e59713fa4: Preparing\n",
      "052242efe275: Preparing\n",
      "274a79fec6a9: Preparing\n",
      "6849347e354b: Preparing\n",
      "706e59713fa4: Waiting\n",
      "052242efe275: Waiting\n",
      "274a79fec6a9: Waiting\n",
      "6849347e354b: Waiting\n",
      "0a20c8da2344: Waiting\n",
      "05788b7af5ed: Waiting\n",
      "18f3008705b6: Layer already exists\n",
      "1c58f3f28eec: Layer already exists\n",
      "0a20c8da2344: Layer already exists\n",
      "05788b7af5ed: Layer already exists\n",
      "052242efe275: Layer already exists\n",
      "706e59713fa4: Layer already exists\n",
      "274a79fec6a9: Layer already exists\n",
      "6849347e354b: Layer already exists\n",
      "52c0086b9e60: Pushed\n",
      "e41be327bb84: Pushed\n",
      "edbf480faeb2: Pushed\n"
     ]
    },
    {
     "name": "stderr",
     "output_type": "stream",
     "text": [
      "Successfully pushed Docker image 485595969306.dkr.ecr.us-east-2.amazonaws.com/wo-dna_vis-ed-step_function-get_input:latest to ECR.\n"
     ]
    },
    {
     "name": "stdout",
     "output_type": "stream",
     "text": [
      "latest: digest: sha256:5cf9292cc0cbf3c6ba258fa8eb229c57739a4a167a9d61dc4ea9c6617d9b486e size: 2623\n",
      "Resulting Function ARN: arn:aws:lambda:us-east-2:485595969306:function:wo-dna_vis-ed-step_function-get_input\n",
      "Completed deployment of wo-dna_vis-ed-step_function\n",
      "\n",
      "\n",
      "Delete role arn\n",
      "Old resources for Removed\n",
      "Creating state machine iam role\n",
      "Resulting Policy ARN: arn:aws:iam::485595969306:role/state_machine-wo-dna_vis-ed-step_function-policy\n",
      "Updating state machine\n",
      "Resulting State Machine ARN: arn:aws:states:us-east-2:485595969306:stateMachine:state_machine-wo-dna_vis-ed-step_function\n",
      "Completed deployment of wo-dna_vis-ed-step_function\n",
      "\n",
      "\n"
     ]
    },
    {
     "data": {
      "text/plain": [
       "True"
      ]
     },
     "execution_count": 24,
     "metadata": {},
     "output_type": "execute_result"
    }
   ],
   "source": [
    "dna_vis_aws_step_functions_dir = \"./dna_visualization/external_database/aws_step_function\" # AWS Step Functions\n",
    "deployment_utility.deploy_experiment(dna_vis_aws_step_functions_dir)"
   ]
  },
  {
   "cell_type": "markdown",
   "metadata": {},
   "source": [
    "#### Multi-X"
   ]
  },
  {
   "cell_type": "code",
   "execution_count": 3,
   "metadata": {},
   "outputs": [
    {
     "name": "stderr",
     "output_type": "stream",
     "text": [
      "Found credentials in environment variables.\n",
      "Found credentials in environment variables.\n"
     ]
    },
    {
     "name": "stdout",
     "output_type": "stream",
     "text": [
      "Deploying multi_x workload\n",
      "wo-dna_vis-ed-multi_x-0_0_2\n"
     ]
    },
    {
     "name": "stderr",
     "output_type": "stream",
     "text": [
      "Found credentials in environment variables.\n",
      "Found credentials in environment variables.\n",
      "Found credentials in environment variables.\n"
     ]
    },
    {
     "name": "stdout",
     "output_type": "stream",
     "text": [
      "Removed workflow wo-dna_vis-ed-multi_x-0_0_2\n"
     ]
    },
    {
     "name": "stderr",
     "output_type": "stream",
     "text": [
      "Deploying workflow wo-dna_vis-ed-multi_x with version 0.0.2\n",
      "Found credentials in environment variables.\n",
      "Building deployment package\n",
      "Building deployment plan\n",
      "Found credentials in environment variables.\n",
      "Found credentials in environment variables.\n",
      "Executing deployment plan\n",
      "Found credentials in environment variables.\n",
      "#0 building with \"default\" instance using docker driver\n",
      "\n",
      "#1 [internal] load build definition from Dockerfile\n",
      "#1 transferring dockerfile: 326B done\n",
      "#1 DONE 0.0s\n",
      "\n",
      "#2 [internal] load metadata for public.ecr.aws/lambda/python:3.11\n",
      "#2 DONE 0.2s\n",
      "\n",
      "#3 [internal] load .dockerignore\n",
      "#3 transferring context: 2B done\n",
      "#3 DONE 0.0s\n",
      "\n",
      "#4 [1/6] FROM public.ecr.aws/lambda/python:3.11@sha256:e330bd08eb6e689d399d275bcd4c41e024dabb1d6917fb8a2bf06ae4e0a22876\n",
      "#4 DONE 0.0s\n",
      "\n",
      "#5 [internal] load build context\n",
      "#5 transferring context: 109.89kB done\n",
      "#5 DONE 0.0s\n",
      "\n",
      "#6 [2/6] COPY requirements.txt ./\n",
      "#6 CACHED\n",
      "\n",
      "#7 [3/6] RUN pip3 install --no-cache-dir -r requirements.txt\n",
      "#7 CACHED\n",
      "\n",
      "#8 [4/6] COPY app.py ./\n",
      "#8 DONE 0.0s\n",
      "\n",
      "#9 [5/6] COPY src ./src\n",
      "#9 DONE 0.0s\n",
      "\n",
      "#10 [6/6] COPY multi_x_serverless ./multi_x_serverless\n",
      "#10 DONE 0.0s\n",
      "\n",
      "#11 exporting to image\n",
      "#11 exporting layers 0.0s done\n",
      "#11 writing image sha256:ff794cceb2994493a3ab4283013fb1180e9a3c128889febd561846c9701284fd done\n",
      "#11 naming to docker.io/library/wo-dna_vis-ed-multi_x-0_0_2-getinput_aws-us-east-2:latest done\n",
      "#11 DONE 0.0s\n",
      "Docker image wo-dna_vis-ed-multi_x-0_0_2-getinput_aws-us-east-2:latest built successfully.\n",
      "WARNING! Using --password via the CLI is insecure. Use --password-stdin.\n",
      "WARNING! Your password will be stored unencrypted in /home/daniel/.docker/config.json.\n",
      "Configure a credential helper to remove this warning. See\n",
      "https://docs.docker.com/engine/reference/commandline/login/#credentials-store\n",
      "\n"
     ]
    },
    {
     "name": "stdout",
     "output_type": "stream",
     "text": [
      "Login Succeeded\n",
      "The push refers to repository [485595969306.dkr.ecr.us-east-2.amazonaws.com/wo-dna_vis-ed-multi_x-0_0_2-getinput_aws-us-east-2]\n",
      "c2135100defa: Preparing\n",
      "163866c5f3b9: Preparing\n",
      "e922c0b5dce3: Preparing\n",
      "c478a1ff5225: Preparing\n",
      "1116e88cf31a: Preparing\n",
      "73985012f706: Preparing\n",
      "206ba18557d7: Preparing\n",
      "706e59713fa4: Preparing\n",
      "4acdd4f61051: Preparing\n",
      "9c79f1260ae3: Preparing\n",
      "6849347e354b: Preparing\n",
      "73985012f706: Waiting\n",
      "206ba18557d7: Waiting\n",
      "706e59713fa4: Waiting\n",
      "4acdd4f61051: Waiting\n",
      "9c79f1260ae3: Waiting\n",
      "6849347e354b: Waiting\n",
      "163866c5f3b9: Pushed\n",
      "1116e88cf31a: Pushed\n",
      "c2135100defa: Pushed\n",
      "e922c0b5dce3: Pushed\n",
      "73985012f706: Pushed\n",
      "4acdd4f61051: Pushed\n",
      "706e59713fa4: Pushed\n",
      "9c79f1260ae3: Pushed\n",
      "c478a1ff5225: Pushed\n",
      "206ba18557d7: Pushed\n",
      "6849347e354b: Pushed\n"
     ]
    },
    {
     "name": "stderr",
     "output_type": "stream",
     "text": [
      "Successfully pushed Docker image 485595969306.dkr.ecr.us-east-2.amazonaws.com/wo-dna_vis-ed-multi_x-0_0_2-getinput_aws-us-east-2:latest to ECR.\n"
     ]
    },
    {
     "name": "stdout",
     "output_type": "stream",
     "text": [
      "latest: digest: sha256:f2f24394bb9a5b1d473cbec5ef4814079b45a00a2cd0534cda17097753edb8c2 size: 2622\n"
     ]
    },
    {
     "name": "stderr",
     "output_type": "stream",
     "text": [
      "#0 building with \"default\" instance using docker driver\n",
      "\n",
      "#1 [internal] load build definition from Dockerfile\n",
      "#1 transferring dockerfile: 326B done\n",
      "#1 DONE 0.0s\n",
      "\n",
      "#2 [internal] load metadata for public.ecr.aws/lambda/python:3.11\n",
      "#2 DONE 0.1s\n",
      "\n",
      "#3 [internal] load .dockerignore\n",
      "#3 transferring context: 2B done\n",
      "#3 DONE 0.0s\n",
      "\n",
      "#4 [1/6] FROM public.ecr.aws/lambda/python:3.11@sha256:e330bd08eb6e689d399d275bcd4c41e024dabb1d6917fb8a2bf06ae4e0a22876\n",
      "#4 DONE 0.0s\n",
      "\n",
      "#5 [internal] load build context\n",
      "#5 transferring context: 109.89kB done\n",
      "#5 DONE 0.0s\n",
      "\n",
      "#6 [5/6] COPY src ./src\n",
      "#6 CACHED\n",
      "\n",
      "#7 [3/6] RUN pip3 install --no-cache-dir -r requirements.txt\n",
      "#7 CACHED\n",
      "\n",
      "#8 [2/6] COPY requirements.txt ./\n",
      "#8 CACHED\n",
      "\n",
      "#9 [4/6] COPY app.py ./\n",
      "#9 CACHED\n",
      "\n",
      "#10 [6/6] COPY multi_x_serverless ./multi_x_serverless\n",
      "#10 CACHED\n",
      "\n",
      "#11 exporting to image\n",
      "#11 exporting layers done\n",
      "#11 writing image sha256:6b618f61c3326b219b4f7e0606a5c458924328a66733c2056c8baa55073daba5 done\n",
      "#11 naming to docker.io/library/wo-dna_vis-ed-multi_x-0_0_2-visualize_aws-us-east-2:latest done\n",
      "#11 DONE 0.0s\n",
      "Docker image wo-dna_vis-ed-multi_x-0_0_2-visualize_aws-us-east-2:latest built successfully.\n",
      "WARNING! Using --password via the CLI is insecure. Use --password-stdin.\n",
      "WARNING! Your password will be stored unencrypted in /home/daniel/.docker/config.json.\n",
      "Configure a credential helper to remove this warning. See\n",
      "https://docs.docker.com/engine/reference/commandline/login/#credentials-store\n",
      "\n"
     ]
    },
    {
     "name": "stdout",
     "output_type": "stream",
     "text": [
      "Login Succeeded\n",
      "The push refers to repository [485595969306.dkr.ecr.us-east-2.amazonaws.com/wo-dna_vis-ed-multi_x-0_0_2-visualize_aws-us-east-2]\n",
      "c2135100defa: Preparing\n",
      "163866c5f3b9: Preparing\n",
      "e922c0b5dce3: Preparing\n",
      "c478a1ff5225: Preparing\n",
      "1116e88cf31a: Preparing\n",
      "73985012f706: Preparing\n",
      "206ba18557d7: Preparing\n",
      "706e59713fa4: Preparing\n",
      "4acdd4f61051: Preparing\n",
      "9c79f1260ae3: Preparing\n",
      "6849347e354b: Preparing\n",
      "73985012f706: Waiting\n",
      "206ba18557d7: Waiting\n",
      "706e59713fa4: Waiting\n",
      "4acdd4f61051: Waiting\n",
      "9c79f1260ae3: Waiting\n",
      "6849347e354b: Waiting\n",
      "e922c0b5dce3: Pushed\n",
      "1116e88cf31a: Pushed\n",
      "163866c5f3b9: Pushed\n",
      "c2135100defa: Pushed\n",
      "4acdd4f61051: Pushed\n",
      "73985012f706: Pushed\n",
      "706e59713fa4: Pushed\n",
      "9c79f1260ae3: Pushed\n",
      "c478a1ff5225: Pushed\n",
      "206ba18557d7: Pushed\n",
      "6849347e354b: Pushed\n"
     ]
    },
    {
     "name": "stderr",
     "output_type": "stream",
     "text": [
      "Successfully pushed Docker image 485595969306.dkr.ecr.us-east-2.amazonaws.com/wo-dna_vis-ed-multi_x-0_0_2-visualize_aws-us-east-2:latest to ECR.\n"
     ]
    },
    {
     "name": "stdout",
     "output_type": "stream",
     "text": [
      "latest: digest: sha256:0092e224bf908abdefcf3f327f99a47e4768e61abe1161a73ee50e585e65bc08 size: 2622\n"
     ]
    },
    {
     "name": "stderr",
     "output_type": "stream",
     "text": [
      "Uploading workflow to configuration server\n",
      "Found credentials in environment variables.\n",
      "Workflow wo-dna_vis-ed-multi_x with version 0.0.2 deployed\n",
      "Workflow id: wo-dna_vis-ed-multi_x-0.0.2\n"
     ]
    },
    {
     "ename": "TypeError",
     "evalue": "'Config' object is not subscriptable",
     "output_type": "error",
     "traceback": [
      "\u001b[0;31m---------------------------------------------------------------------------\u001b[0m",
      "\u001b[0;31mTypeError\u001b[0m                                 Traceback (most recent call last)",
      "Cell \u001b[0;32mIn[3], line 2\u001b[0m\n\u001b[1;32m      1\u001b[0m dna_vis_aws_multi_x_dir \u001b[38;5;241m=\u001b[39m \u001b[38;5;124m\"\u001b[39m\u001b[38;5;124m./dna_visualization/external_database/multi_x\u001b[39m\u001b[38;5;124m\"\u001b[39m \u001b[38;5;66;03m# Multi+x\u001b[39;00m\n\u001b[0;32m----> 2\u001b[0m \u001b[43mdeployment_utility\u001b[49m\u001b[38;5;241;43m.\u001b[39;49m\u001b[43mdeploy_experiment\u001b[49m\u001b[43m(\u001b[49m\u001b[43mdna_vis_aws_multi_x_dir\u001b[49m\u001b[43m)\u001b[49m\n",
      "File \u001b[0;32m~/multi-x-serverless/benchmarks/experiments/wrapper_overhead/common/deployment_utility.py:48\u001b[0m, in \u001b[0;36mWrapperOverheadDeploymentUtility.deploy_experiment\u001b[0;34m(self, directory_path)\u001b[0m\n\u001b[1;32m     46\u001b[0m     \u001b[38;5;28;01mreturn\u001b[39;00m\n\u001b[1;32m     47\u001b[0m \u001b[38;5;28;01melif\u001b[39;00m experiment_type \u001b[38;5;241m==\u001b[39m \u001b[38;5;124m'\u001b[39m\u001b[38;5;124mmulti_x\u001b[39m\u001b[38;5;124m'\u001b[39m:\n\u001b[0;32m---> 48\u001b[0m     \u001b[38;5;28;43mself\u001b[39;49m\u001b[38;5;241;43m.\u001b[39;49m\u001b[43m_multi_x\u001b[49m\u001b[43m(\u001b[49m\u001b[43mconfig\u001b[49m\u001b[43m)\u001b[49m\n\u001b[1;32m     49\u001b[0m     \u001b[38;5;28;01mreturn\u001b[39;00m\n\u001b[1;32m     50\u001b[0m \u001b[38;5;28;01melse\u001b[39;00m:\n",
      "File \u001b[0;32m~/multi-x-serverless/benchmarks/experiments/wrapper_overhead/common/deployment_utility.py:72\u001b[0m, in \u001b[0;36mWrapperOverheadDeploymentUtility._multi_x\u001b[0;34m(self, config)\u001b[0m\n\u001b[1;32m     69\u001b[0m deployer: Deployer \u001b[38;5;241m=\u001b[39m factory\u001b[38;5;241m.\u001b[39mcreate_deployer(config\u001b[38;5;241m=\u001b[39mconfig)\n\u001b[1;32m     70\u001b[0m deployer\u001b[38;5;241m.\u001b[39mdeploy([config\u001b[38;5;241m.\u001b[39mhome_region])\n\u001b[0;32m---> 72\u001b[0m \u001b[38;5;28mprint\u001b[39m(\u001b[38;5;124mf\u001b[39m\u001b[38;5;124m\"\u001b[39m\u001b[38;5;124mCompleted deployment of \u001b[39m\u001b[38;5;132;01m{\u001b[39;00m\u001b[43mconfig\u001b[49m\u001b[43m[\u001b[49m\u001b[38;5;124;43m'\u001b[39;49m\u001b[38;5;124;43mworkload_name\u001b[39;49m\u001b[38;5;124;43m'\u001b[39;49m\u001b[43m]\u001b[49m\u001b[38;5;132;01m}\u001b[39;00m\u001b[38;5;130;01m\\n\u001b[39;00m\u001b[38;5;130;01m\\n\u001b[39;00m\u001b[38;5;124m\"\u001b[39m)\n",
      "\u001b[0;31mTypeError\u001b[0m: 'Config' object is not subscriptable"
     ]
    }
   ],
   "source": [
    "dna_vis_aws_multi_x_dir = \"./dna_visualization/external_database/multi_x\" # Multi+x\n",
    "deployment_utility.deploy_experiment(dna_vis_aws_multi_x_dir)"
   ]
  }
 ],
 "metadata": {
  "kernelspec": {
   "display_name": "multi-x-serverless--3Mr6ES7-py3.11",
   "language": "python",
   "name": "python3"
  },
  "language_info": {
   "codemirror_mode": {
    "name": "ipython",
    "version": 3
   },
   "file_extension": ".py",
   "mimetype": "text/x-python",
   "name": "python",
   "nbconvert_exporter": "python",
   "pygments_lexer": "ipython3",
   "version": "3.11.7"
  }
 },
 "nbformat": 4,
 "nbformat_minor": 2
}
