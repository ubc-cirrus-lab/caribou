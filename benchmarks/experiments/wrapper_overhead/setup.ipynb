{
 "cells": [
  {
   "cell_type": "markdown",
   "metadata": {},
   "source": [
    "## Setup"
   ]
  },
  {
   "cell_type": "markdown",
   "metadata": {},
   "source": [
    "### Import libraries"
   ]
  },
  {
   "cell_type": "code",
   "execution_count": 2,
   "metadata": {},
   "outputs": [],
   "source": [
    "from benchmarks.experiments.wrapper_overhead.common.deployment_utility import WrapperOverheadDeploymentUtility"
   ]
  },
  {
   "cell_type": "markdown",
   "metadata": {},
   "source": [
    "### Setup Common Resources"
   ]
  },
  {
   "cell_type": "code",
   "execution_count": 3,
   "metadata": {},
   "outputs": [],
   "source": [
    "region = 'ca-west-1'\n",
    "deployment_utility: WrapperOverheadDeploymentUtility = WrapperOverheadDeploymentUtility(region)"
   ]
  },
  {
   "cell_type": "markdown",
   "metadata": {},
   "source": [
    "## Deploy Associated AWS functions"
   ]
  },
  {
   "cell_type": "markdown",
   "metadata": {},
   "source": [
    "### DNA Visualization"
   ]
  },
  {
   "cell_type": "code",
   "execution_count": 4,
   "metadata": {},
   "outputs": [],
   "source": [
    "setup_dna = False\n",
    "if setup_dna:\n",
    "    # Boto3 Direct Calls\n",
    "    direct_calls_dir = \"./dna_visualization/external_database/boto3_direct\" # Boto3 only direct calls\n",
    "    deployment_utility.deploy_experiment(direct_calls_dir)\n",
    "\n",
    "    # Boto3 SNS calls\n",
    "    sns_calls_dir = \"./dna_visualization/external_database/boto3_sns\" # Boto3 only sns calls\n",
    "    deployment_utility.deploy_experiment(sns_calls_dir)\n",
    "\n",
    "    # AWS Step Function\n",
    "    aws_step_functions_dir = \"./dna_visualization/external_database/aws_step_function\" # AWS Step Functions\n",
    "    deployment_utility.deploy_experiment(aws_step_functions_dir)\n",
    "\n",
    "    # Multi-X\n",
    "    multi_x_dir = \"./dna_visualization/external_database/multi_x\" # Multi_x\n",
    "    deployment_utility.deploy_experiment(multi_x_dir)"
   ]
  },
  {
   "cell_type": "markdown",
   "metadata": {},
   "source": [
    "### Image Processing"
   ]
  },
  {
   "cell_type": "code",
   "execution_count": 5,
   "metadata": {},
   "outputs": [],
   "source": [
    "setup_image_processing = False\n",
    "\n",
    "if setup_image_processing:\n",
    "    # Boto3 Direct Calls\n",
    "    direct_calls_dir = \"./image_processing/external_database/boto3_direct\" # Boto3 only direct calls\n",
    "    deployment_utility.deploy_experiment(direct_calls_dir)\n",
    "\n",
    "    # Boto3 SNS calls\n",
    "    sns_calls_dir = \"./image_processing/external_database/boto3_sns\" # Boto3 only sns calls\n",
    "    deployment_utility.deploy_experiment(sns_calls_dir)\n",
    "\n",
    "    # AWS Step Function\n",
    "    aws_step_functions_dir = \"./image_processing/external_database/aws_step_function\" # AWS Step Functions\n",
    "    deployment_utility.deploy_experiment(aws_step_functions_dir)\n",
    "\n",
    "    # Multi-X\n",
    "    multi_x_dir = \"./image_processing/external_database/multi_x\" # Multi_x\n",
    "    deployment_utility.deploy_experiment(multi_x_dir)"
   ]
  },
  {
   "cell_type": "markdown",
   "metadata": {},
   "source": [
    "### Video Analytics"
   ]
  },
  {
   "cell_type": "code",
   "execution_count": 6,
   "metadata": {},
   "outputs": [
    {
     "name": "stderr",
     "output_type": "stream",
     "text": [
      "Found credentials in environment variables.\n"
     ]
    },
    {
     "name": "stdout",
     "output_type": "stream",
     "text": [
      "Deploying aws_step_function workload\n",
      "wo-vid_an-ed-step_function\n",
      "\n",
      "Deploying wo-vid_an-ed-step_function-streaming\n",
      "Removing old resources\n",
      "Old resources for Removed\n",
      "Creating iam role\n",
      "Resulting Policy ARN: arn:aws:iam::485595969306:role/wo-vid_an-ed-step_function-streaming-policy\n",
      "Creating lambda function\n"
     ]
    },
    {
     "name": "stderr",
     "output_type": "stream",
     "text": [
      "#0 building with \"default\" instance using docker driver\n",
      "\n",
      "#1 [internal] load build definition from Dockerfile\n",
      "#1 transferring dockerfile: 325B done\n",
      "#1 DONE 0.0s\n",
      "\n",
      "#2 [internal] load metadata for public.ecr.aws/lambda/python:3.8\n",
      "#2 DONE 0.2s\n",
      "\n",
      "#3 [internal] load .dockerignore\n",
      "#3 transferring context: 2B done\n",
      "#3 DONE 0.0s\n",
      "\n",
      "#4 [1/6] FROM public.ecr.aws/lambda/python:3.8@sha256:073bef913e4144bba15fabed2ab4a42d2881d1cee7e5c9da0ba78be0ddcfbd4b\n",
      "#4 DONE 0.0s\n",
      "\n",
      "#5 [internal] load build context\n",
      "#5 transferring context: 108.33kB done\n",
      "#5 DONE 0.0s\n",
      "\n",
      "#6 [2/6] COPY requirements.txt ./\n",
      "#6 CACHED\n",
      "\n",
      "#7 [3/6] RUN pip3 install --no-cache-dir -r requirements.txt\n",
      "#7 CACHED\n",
      "\n",
      "#8 [4/6] COPY app.py ./\n",
      "#8 DONE 0.0s\n",
      "\n",
      "#9 [5/6] COPY src ./src\n",
      "#9 DONE 0.0s\n",
      "\n",
      "#10 [6/6] COPY multi_x_serverless ./multi_x_serverless\n",
      "#10 DONE 0.0s\n",
      "\n",
      "#11 exporting to image\n",
      "#11 exporting layers 0.0s done\n",
      "#11 writing image sha256:06b13784966dda8b5bac82f8cc132107cd0b83f196e720ec33528816f5caebd6 done\n",
      "#11 naming to docker.io/library/wo-vid_an-ed-step_function-streaming:latest done\n",
      "#11 DONE 0.1s\n",
      "Docker image wo-vid_an-ed-step_function-streaming:latest built successfully.\n",
      "WARNING! Using --password via the CLI is insecure. Use --password-stdin.\n",
      "WARNING! Your password will be stored unencrypted in /home/daniel/.docker/config.json.\n",
      "Configure a credential helper to remove this warning. See\n",
      "https://docs.docker.com/engine/reference/commandline/login/#credentials-store\n",
      "\n"
     ]
    },
    {
     "name": "stdout",
     "output_type": "stream",
     "text": [
      "Login Succeeded\n",
      "The push refers to repository [485595969306.dkr.ecr.ca-west-1.amazonaws.com/wo-vid_an-ed-step_function-streaming]\n",
      "1ce295fed6f7: Preparing\n",
      "7812e6926203: Preparing\n",
      "720cd02a267b: Preparing\n",
      "821cf7d50d17: Preparing\n",
      "83463f895008: Preparing\n",
      "3a5edae477ec: Preparing\n",
      "2d18318c7f6d: Preparing\n",
      "59e530c8b37a: Preparing\n",
      "6c8d7ede4ae8: Preparing\n",
      "b30d0951e27f: Preparing\n",
      "25a97811023e: Preparing\n",
      "3a5edae477ec: Waiting\n",
      "2d18318c7f6d: Waiting\n",
      "59e530c8b37a: Waiting\n",
      "6c8d7ede4ae8: Waiting\n",
      "b30d0951e27f: Waiting\n",
      "25a97811023e: Waiting\n",
      "83463f895008: Layer already exists\n",
      "821cf7d50d17: Layer already exists\n",
      "2d18318c7f6d: Layer already exists\n",
      "3a5edae477ec: Layer already exists\n",
      "59e530c8b37a: Layer already exists\n",
      "6c8d7ede4ae8: Layer already exists\n",
      "b30d0951e27f: Layer already exists\n",
      "25a97811023e: Layer already exists\n",
      "1ce295fed6f7: Pushed\n",
      "720cd02a267b: Pushed\n",
      "7812e6926203: Pushed\n"
     ]
    },
    {
     "name": "stderr",
     "output_type": "stream",
     "text": [
      "Successfully pushed Docker image 485595969306.dkr.ecr.ca-west-1.amazonaws.com/wo-vid_an-ed-step_function-streaming:latest to ECR.\n"
     ]
    },
    {
     "name": "stdout",
     "output_type": "stream",
     "text": [
      "latest: digest: sha256:c5007f09e4e39ce3db6e0003615e03e471b79df96daf73c801bc2b4a251e5121 size: 2626\n",
      "Resulting Function ARN: arn:aws:lambda:ca-west-1:485595969306:function:wo-vid_an-ed-step_function-streaming\n",
      "\n",
      "Deploying wo-vid_an-ed-step_function-decode\n",
      "Removing old resources\n",
      "Old resources for Removed\n",
      "Creating iam role\n",
      "Resulting Policy ARN: arn:aws:iam::485595969306:role/wo-vid_an-ed-step_function-decode-policy\n",
      "Creating lambda function\n"
     ]
    },
    {
     "name": "stderr",
     "output_type": "stream",
     "text": [
      "#0 building with \"default\" instance using docker driver\n",
      "\n",
      "#1 [internal] load build definition from Dockerfile\n",
      "#1 transferring dockerfile: 322B done\n",
      "#1 DONE 0.0s\n",
      "\n",
      "#2 [internal] load metadata for public.ecr.aws/lambda/python:3.8\n",
      "#2 DONE 0.2s\n",
      "\n",
      "#3 [internal] load .dockerignore\n",
      "#3 transferring context: 2B done\n",
      "#3 DONE 0.0s\n",
      "\n",
      "#4 [1/6] FROM public.ecr.aws/lambda/python:3.8@sha256:073bef913e4144bba15fabed2ab4a42d2881d1cee7e5c9da0ba78be0ddcfbd4b\n",
      "#4 DONE 0.0s\n",
      "\n",
      "#5 [internal] load build context\n",
      "#5 transferring context: 108.79kB done\n",
      "#5 DONE 0.0s\n",
      "\n",
      "#6 [3/6] RUN pip3 install --no-cache-dir -r requirements.txt\n",
      "#6 CACHED\n",
      "\n",
      "#7 [4/6] COPY app.py ./\n",
      "#7 CACHED\n",
      "\n",
      "#8 [2/6] COPY requirements.txt ./\n",
      "#8 CACHED\n",
      "\n",
      "#9 [5/6] COPY src ./src\n",
      "#9 CACHED\n",
      "\n",
      "#10 [6/6] COPY multi_x_serverless ./multi_x_serverless\n",
      "#10 CACHED\n",
      "\n",
      "#11 exporting to image\n",
      "#11 exporting layers done\n",
      "#11 writing image sha256:25d2cead1fd585729a87d69301d412a86bcce498065f1a4a9f257b61dc14aa93 done\n",
      "#11 naming to docker.io/library/wo-vid_an-ed-step_function-decode:latest done\n",
      "#11 DONE 0.0s\n",
      "Docker image wo-vid_an-ed-step_function-decode:latest built successfully.\n",
      "WARNING! Using --password via the CLI is insecure. Use --password-stdin.\n",
      "WARNING! Your password will be stored unencrypted in /home/daniel/.docker/config.json.\n",
      "Configure a credential helper to remove this warning. See\n",
      "https://docs.docker.com/engine/reference/commandline/login/#credentials-store\n",
      "\n"
     ]
    },
    {
     "name": "stdout",
     "output_type": "stream",
     "text": [
      "Login Succeeded\n",
      "The push refers to repository [485595969306.dkr.ecr.ca-west-1.amazonaws.com/wo-vid_an-ed-step_function-decode]\n",
      "8a6f0adc1f6e: Preparing\n",
      "3e4ff7315f99: Preparing\n",
      "78296049b733: Preparing\n",
      "821cf7d50d17: Preparing\n",
      "83463f895008: Preparing\n",
      "3a5edae477ec: Preparing\n",
      "2d18318c7f6d: Preparing\n",
      "59e530c8b37a: Preparing\n",
      "6c8d7ede4ae8: Preparing\n",
      "b30d0951e27f: Preparing\n",
      "25a97811023e: Preparing\n",
      "2d18318c7f6d: Waiting\n",
      "59e530c8b37a: Waiting\n",
      "6c8d7ede4ae8: Waiting\n",
      "b30d0951e27f: Waiting\n",
      "25a97811023e: Waiting\n",
      "3a5edae477ec: Waiting\n",
      "821cf7d50d17: Layer already exists\n",
      "78296049b733: Layer already exists\n",
      "83463f895008: Layer already exists\n",
      "3a5edae477ec: Layer already exists\n",
      "59e530c8b37a: Layer already exists\n",
      "2d18318c7f6d: Layer already exists\n",
      "3e4ff7315f99: Layer already exists\n",
      "8a6f0adc1f6e: Layer already exists\n",
      "b30d0951e27f: Layer already exists\n",
      "25a97811023e: Layer already exists\n",
      "6c8d7ede4ae8: Layer already exists\n"
     ]
    },
    {
     "name": "stderr",
     "output_type": "stream",
     "text": [
      "Successfully pushed Docker image 485595969306.dkr.ecr.ca-west-1.amazonaws.com/wo-vid_an-ed-step_function-decode:latest to ECR.\n"
     ]
    },
    {
     "name": "stdout",
     "output_type": "stream",
     "text": [
      "latest: digest: sha256:54c527be67d9cf508f6ebf7e61e3b751884c3dfd7f81bf18a71bb67e38322c6f size: 2626\n",
      "Resulting Function ARN: arn:aws:lambda:ca-west-1:485595969306:function:wo-vid_an-ed-step_function-decode\n",
      "\n",
      "Deploying wo-vid_an-ed-step_function-recognition\n",
      "Removing old resources\n",
      "Old resources for Removed\n",
      "Creating iam role\n",
      "Resulting Policy ARN: arn:aws:iam::485595969306:role/wo-vid_an-ed-step_function-recognition-policy\n",
      "Creating lambda function\n"
     ]
    },
    {
     "name": "stderr",
     "output_type": "stream",
     "text": [
      "#0 building with \"default\" instance using docker driver\n",
      "\n",
      "#1 [internal] load build definition from Dockerfile\n",
      "#1 transferring dockerfile: 327B done\n",
      "#1 DONE 0.0s\n",
      "\n",
      "#2 [internal] load metadata for public.ecr.aws/lambda/python:3.8\n",
      "#2 DONE 0.2s\n",
      "\n",
      "#3 [internal] load .dockerignore\n",
      "#3 transferring context: 2B done\n",
      "#3 DONE 0.0s\n",
      "\n",
      "#4 [1/6] FROM public.ecr.aws/lambda/python:3.8@sha256:073bef913e4144bba15fabed2ab4a42d2881d1cee7e5c9da0ba78be0ddcfbd4b\n",
      "#4 DONE 0.0s\n",
      "\n",
      "#5 [internal] load build context\n",
      "#5 transferring context: 110.44kB done\n",
      "#5 DONE 0.0s\n",
      "\n",
      "#6 [2/6] COPY requirements.txt ./\n",
      "#6 CACHED\n",
      "\n",
      "#7 [4/6] COPY app.py ./\n",
      "#7 CACHED\n",
      "\n",
      "#8 [3/6] RUN pip3 install --no-cache-dir -r requirements.txt\n",
      "#8 CACHED\n",
      "\n",
      "#9 [5/6] COPY src ./src\n",
      "#9 CACHED\n",
      "\n",
      "#10 [6/6] COPY multi_x_serverless ./multi_x_serverless\n",
      "#10 CACHED\n",
      "\n",
      "#11 exporting to image\n",
      "#11 exporting layers done\n",
      "#11 writing image sha256:5d12853704624645d4586c7d27ae48567b4f7b2793ede0a48cd4e897cadb89f4 done\n",
      "#11 naming to docker.io/library/wo-vid_an-ed-step_function-recognition:latest done\n",
      "#11 DONE 0.0s\n",
      "Docker image wo-vid_an-ed-step_function-recognition:latest built successfully.\n",
      "WARNING! Using --password via the CLI is insecure. Use --password-stdin.\n",
      "WARNING! Your password will be stored unencrypted in /home/daniel/.docker/config.json.\n",
      "Configure a credential helper to remove this warning. See\n",
      "https://docs.docker.com/engine/reference/commandline/login/#credentials-store\n",
      "\n"
     ]
    },
    {
     "name": "stdout",
     "output_type": "stream",
     "text": [
      "Login Succeeded\n",
      "The push refers to repository [485595969306.dkr.ecr.ca-west-1.amazonaws.com/wo-vid_an-ed-step_function-recognition]\n",
      "342ecafaf1c1: Preparing\n",
      "b391cad1ebf8: Preparing\n",
      "923333b17151: Preparing\n",
      "821cf7d50d17: Preparing\n",
      "83463f895008: Preparing\n",
      "3a5edae477ec: Preparing\n",
      "2d18318c7f6d: Preparing\n",
      "59e530c8b37a: Preparing\n",
      "6c8d7ede4ae8: Preparing\n",
      "b30d0951e27f: Preparing\n",
      "25a97811023e: Preparing\n",
      "3a5edae477ec: Waiting\n",
      "2d18318c7f6d: Waiting\n",
      "59e530c8b37a: Waiting\n",
      "6c8d7ede4ae8: Waiting\n",
      "b30d0951e27f: Waiting\n",
      "25a97811023e: Waiting\n",
      "83463f895008: Layer already exists\n",
      "b391cad1ebf8: Layer already exists\n",
      "923333b17151: Layer already exists\n",
      "342ecafaf1c1: Layer already exists\n",
      "821cf7d50d17: Layer already exists\n",
      "3a5edae477ec: Layer already exists\n",
      "59e530c8b37a: Layer already exists\n",
      "6c8d7ede4ae8: Layer already exists\n",
      "b30d0951e27f: Layer already exists\n",
      "2d18318c7f6d: Layer already exists\n",
      "25a97811023e: Layer already exists\n"
     ]
    },
    {
     "name": "stderr",
     "output_type": "stream",
     "text": [
      "Successfully pushed Docker image 485595969306.dkr.ecr.ca-west-1.amazonaws.com/wo-vid_an-ed-step_function-recognition:latest to ECR.\n"
     ]
    },
    {
     "name": "stdout",
     "output_type": "stream",
     "text": [
      "latest: digest: sha256:76f7196bbf65fb4dd658a964f4df27860fec5c4c3e540f9f18a78a43febbc3cc size: 2626\n",
      "Resulting Function ARN: arn:aws:lambda:ca-west-1:485595969306:function:wo-vid_an-ed-step_function-recognition\n",
      "\n",
      "Deploying wo-vid_an-ed-step_function-get_input\n",
      "Removing old resources\n",
      "Old resources for Removed\n",
      "Creating iam role\n",
      "Resulting Policy ARN: arn:aws:iam::485595969306:role/wo-vid_an-ed-step_function-get_input-policy\n",
      "Creating lambda function\n"
     ]
    },
    {
     "name": "stderr",
     "output_type": "stream",
     "text": [
      "#0 building with \"default\" instance using docker driver\n",
      "\n",
      "#1 [internal] load build definition from Dockerfile\n",
      "#1 transferring dockerfile: 325B done\n",
      "#1 DONE 0.0s\n",
      "\n",
      "#2 [internal] load metadata for public.ecr.aws/lambda/python:3.8\n",
      "#2 DONE 0.2s\n",
      "\n",
      "#3 [internal] load .dockerignore\n",
      "#3 transferring context: 2B done\n",
      "#3 DONE 0.0s\n",
      "\n",
      "#4 [1/6] FROM public.ecr.aws/lambda/python:3.8@sha256:073bef913e4144bba15fabed2ab4a42d2881d1cee7e5c9da0ba78be0ddcfbd4b\n",
      "#4 DONE 0.0s\n",
      "\n",
      "#5 [internal] load build context\n",
      "#5 transferring context: 107.33kB done\n",
      "#5 DONE 0.0s\n",
      "\n",
      "#6 [4/6] COPY app.py ./\n",
      "#6 CACHED\n",
      "\n",
      "#7 [5/6] COPY src ./src\n",
      "#7 CACHED\n",
      "\n",
      "#8 [3/6] RUN pip3 install --no-cache-dir -r requirements.txt\n",
      "#8 CACHED\n",
      "\n",
      "#9 [2/6] COPY requirements.txt ./\n",
      "#9 CACHED\n",
      "\n",
      "#10 [6/6] COPY multi_x_serverless ./multi_x_serverless\n",
      "#10 CACHED\n",
      "\n",
      "#11 exporting to image\n",
      "#11 exporting layers done\n",
      "#11 writing image sha256:d1fde9c4bb487c41cf4049409288f75e1a19309916b21b1dae5ff3c1b9a83ae3 done\n",
      "#11 naming to docker.io/library/wo-vid_an-ed-step_function-get_input:latest done\n",
      "#11 DONE 0.0s\n",
      "Docker image wo-vid_an-ed-step_function-get_input:latest built successfully.\n",
      "WARNING! Using --password via the CLI is insecure. Use --password-stdin.\n",
      "WARNING! Your password will be stored unencrypted in /home/daniel/.docker/config.json.\n",
      "Configure a credential helper to remove this warning. See\n",
      "https://docs.docker.com/engine/reference/commandline/login/#credentials-store\n",
      "\n"
     ]
    },
    {
     "name": "stdout",
     "output_type": "stream",
     "text": [
      "Login Succeeded\n",
      "The push refers to repository [485595969306.dkr.ecr.ca-west-1.amazonaws.com/wo-vid_an-ed-step_function-get_input]\n",
      "e506ee172db7: Preparing\n",
      "8184f3ea6a8f: Preparing\n",
      "0dff7026efe0: Preparing\n",
      "821cf7d50d17: Preparing\n",
      "83463f895008: Preparing\n",
      "3a5edae477ec: Preparing\n",
      "2d18318c7f6d: Preparing\n",
      "59e530c8b37a: Preparing\n",
      "6c8d7ede4ae8: Preparing\n",
      "b30d0951e27f: Preparing\n",
      "25a97811023e: Preparing\n",
      "2d18318c7f6d: Waiting\n",
      "59e530c8b37a: Waiting\n",
      "6c8d7ede4ae8: Waiting\n",
      "b30d0951e27f: Waiting\n",
      "25a97811023e: Waiting\n",
      "3a5edae477ec: Waiting\n",
      "0dff7026efe0: Layer already exists\n",
      "821cf7d50d17: Layer already exists\n",
      "e506ee172db7: Layer already exists\n",
      "8184f3ea6a8f: Layer already exists\n",
      "83463f895008: Layer already exists\n",
      "3a5edae477ec: Layer already exists\n",
      "b30d0951e27f: Layer already exists\n",
      "6c8d7ede4ae8: Layer already exists\n",
      "59e530c8b37a: Layer already exists\n",
      "2d18318c7f6d: Layer already exists\n",
      "25a97811023e: Layer already exists\n"
     ]
    },
    {
     "name": "stderr",
     "output_type": "stream",
     "text": [
      "Successfully pushed Docker image 485595969306.dkr.ecr.ca-west-1.amazonaws.com/wo-vid_an-ed-step_function-get_input:latest to ECR.\n"
     ]
    },
    {
     "name": "stdout",
     "output_type": "stream",
     "text": [
      "latest: digest: sha256:d2b9891f1fbe8b66cadb09ecfa52f0b45b31910a29ad36950f555c6f76955cfc size: 2625\n"
     ]
    },
    {
     "name": "stderr",
     "output_type": "stream",
     "text": [
      "Found credentials in environment variables.\n"
     ]
    },
    {
     "name": "stdout",
     "output_type": "stream",
     "text": [
      "Resulting Function ARN: arn:aws:lambda:ca-west-1:485595969306:function:wo-vid_an-ed-step_function-get_input\n",
      "Completed deployment of wo-vid_an-ed-step_function\n",
      "\n",
      "\n",
      "Delete role arn\n",
      "Old resources for Removed\n",
      "Creating state machine iam role\n",
      "Resulting Policy ARN: arn:aws:iam::485595969306:role/state_machine-wo-vid_an-ed-step_function-policy\n",
      "Updating state machine\n",
      "Resulting State Machine ARN: arn:aws:states:ca-west-1:485595969306:stateMachine:state_machine-wo-vid_an-ed-step_function\n",
      "Completed deployment of wo-vid_an-ed-step_function\n",
      "\n",
      "\n"
     ]
    }
   ],
   "source": [
    "setup_video_analysis = True\n",
    "\n",
    "if setup_video_analysis:\n",
    "    # # Multi-X\n",
    "    # multi_x_dir = \"./video_analytics/external_database/multi_x\" # Multi_x\n",
    "    # deployment_utility.deploy_experiment(multi_x_dir)\n",
    "\n",
    "    # # Boto3 Direct Calls\n",
    "    # direct_calls_dir = \"./video_analytics/external_database/boto3_direct\" # Boto3 only direct calls\n",
    "    # deployment_utility.deploy_experiment(direct_calls_dir)\n",
    "\n",
    "    # # Boto3 SNS calls\n",
    "    # sns_calls_dir = \"./video_analytics/external_database/boto3_sns\" # Boto3 only sns calls\n",
    "    # deployment_utility.deploy_experiment(sns_calls_dir)\n",
    "\n",
    "    # # AWS Step Function\n",
    "    # aws_step_functions_dir = \"./video_analytics/external_database/aws_step_function\" # AWS Step Functions\n",
    "    # deployment_utility.deploy_experiment(aws_step_functions_dir)\n",
    "    pass"
   ]
  }
 ],
 "metadata": {
  "kernelspec": {
   "display_name": "multi-x-serverless--3Mr6ES7-py3.11",
   "language": "python",
   "name": "python3"
  },
  "language_info": {
   "codemirror_mode": {
    "name": "ipython",
    "version": 3
   },
   "file_extension": ".py",
   "mimetype": "text/x-python",
   "name": "python",
   "nbconvert_exporter": "python",
   "pygments_lexer": "ipython3",
   "version": "3.12.0"
  }
 },
 "nbformat": 4,
 "nbformat_minor": 2
}
