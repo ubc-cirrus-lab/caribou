{
 "cells": [
  {
   "cell_type": "markdown",
   "metadata": {},
   "source": [
    "## Setup"
   ]
  },
  {
   "cell_type": "markdown",
   "metadata": {},
   "source": [
    "### Import libraries"
   ]
  },
  {
   "cell_type": "code",
   "execution_count": 1,
   "metadata": {},
   "outputs": [],
   "source": [
    "from benchmarks.experiments.wrapper_overhead.common.deployment_utility import WrapperOverheadDeploymentUtility\n",
    "from benchmarks.experiments.wrapper_overhead.common.extended_aws_remote_client import ExtendedAWSRemoteClient"
   ]
  },
  {
   "cell_type": "markdown",
   "metadata": {},
   "source": [
    "### Setup Common Resources"
   ]
  },
  {
   "cell_type": "code",
   "execution_count": 5,
   "metadata": {},
   "outputs": [],
   "source": [
    "region = 'us-east-2'\n",
    "client: ExtendedAWSRemoteClient = ExtendedAWSRemoteClient(region)\n",
    "deployment_utility: WrapperOverheadDeploymentUtility = WrapperOverheadDeploymentUtility(region)"
   ]
  },
  {
   "cell_type": "markdown",
   "metadata": {},
   "source": [
    "## Deploy Associated AWS functions"
   ]
  },
  {
   "cell_type": "markdown",
   "metadata": {},
   "source": [
    "### DNA Visualization"
   ]
  },
  {
   "cell_type": "markdown",
   "metadata": {},
   "source": [
    "- For MultiX, please set it up according to readme contained in the file. \"./dna_visualization/external_database/multi_x\""
   ]
  },
  {
   "cell_type": "code",
   "execution_count": null,
   "metadata": {},
   "outputs": [],
   "source": [
    "dna_vis_direct_calls_dir = \"./dna_visualization/external_database/boto3_only_direct_calls\" # Boto3 only direct calls\n",
    "dna_vis_sns_calls_dir = \"./dna_visualization/external_database/boto3_only_sns\" # Boto3 only sns calls\n",
    "dna_vis_aws_step_functions_dir = \"./dna_visualization/external_database/aws_step_function\" # AWS Step Functions\n",
    "\n",
    "deployment_utility.deploy_experiment(dna_vis_direct_calls_dir)\n",
    "deployment_utility.deploy_experiment(dna_vis_sns_calls_dir)\n",
    "deployment_utility.deploy_experiment(dna_vis_aws_step_functions_dir)"
   ]
  }
 ],
 "metadata": {
  "kernelspec": {
   "display_name": "multi-x-serverless--3Mr6ES7-py3.11",
   "language": "python",
   "name": "python3"
  },
  "language_info": {
   "codemirror_mode": {
    "name": "ipython",
    "version": 3
   },
   "file_extension": ".py",
   "mimetype": "text/x-python",
   "name": "python",
   "nbconvert_exporter": "python",
   "pygments_lexer": "ipython3",
   "version": "3.11.7"
  }
 },
 "nbformat": 4,
 "nbformat_minor": 2
}
