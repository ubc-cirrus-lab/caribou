{
 "cells": [
  {
   "cell_type": "markdown",
   "metadata": {},
   "source": [
    "## Setup"
   ]
  },
  {
   "cell_type": "markdown",
   "metadata": {},
   "source": [
    "### Import libraries"
   ]
  },
  {
   "cell_type": "code",
   "execution_count": 1,
   "metadata": {},
   "outputs": [],
   "source": [
    "from benchmarks.experiments.wrapper_overhead.common.deployment_utility import WrapperOverheadDeploymentUtility\n",
    "from benchmarks.experiments.wrapper_overhead.common.file_utility import FileUtility\n",
    "\n",
    "import os\n",
    "import yaml"
   ]
  },
  {
   "cell_type": "markdown",
   "metadata": {},
   "source": [
    "### Setup Common Resources"
   ]
  },
  {
   "cell_type": "code",
   "execution_count": 8,
   "metadata": {},
   "outputs": [],
   "source": [
    "region = 'us-east-2'\n",
    "\n",
    "deployment_utility: WrapperOverheadDeploymentUtility = WrapperOverheadDeploymentUtility(region)\n",
    "file_utility: FileUtility = FileUtility()"
   ]
  },
  {
   "cell_type": "code",
   "execution_count": 21,
   "metadata": {},
   "outputs": [
    {
     "name": "stdout",
     "output_type": "stream",
     "text": [
      "Experiment type: boto3_direct\n",
      "{'function_name': 'wo-dna_vis-ed-direct-visualize', 'iam_policy_file': 'iam_policy.json', 'handler': 'app.visualize', 'configs': {'timeout': 300, 'memory': 512}}\n",
      "{'aws': {'Version': '2012-10-17', 'Statement': [{'Action': ['logs:CreateLogGroup', 'logs:CreateLogStream', 'logs:PutLogEvents'], 'Resource': 'arn:aws:logs:*:*:*', 'Effect': 'Allow'}, {'Action': ['dynamodb:GetItem', 'dynamodb:UpdateItem'], 'Resource': 'arn:aws:dynamodb:*:*:*', 'Effect': 'Allow'}, {'Action': ['s3:GetObject', 's3:PutObject'], 'Resource': 'arn:aws:s3:::multi-x-serverless-image-processing-benchmark/*', 'Effect': 'Allow'}]}}\n",
      "{'function_name': 'wo-dna_vis-ed-direct-get_input', 'iam_policy_file': 'iam_policy.json', 'handler': 'app.get_input', 'configs': {'timeout': 300, 'memory': 512}}\n",
      "{'aws': {'Version': '2012-10-17', 'Statement': [{'Action': ['logs:CreateLogGroup', 'logs:CreateLogStream', 'logs:PutLogEvents'], 'Resource': 'arn:aws:logs:*:*:*', 'Effect': 'Allow'}, {'Action': ['lambda:InvokeFunction'], 'Resource': '*', 'Effect': 'Allow'}]}}\n"
     ]
    }
   ],
   "source": [
    "dna_vis_direct_calls_dir = './dna_visualization/external_database/boto3_only_direct_calls' # Boto3 only direct calls\n",
    "\n",
    "files_dict, directories_dict = file_utility.get_files_and_directories(dna_vis_direct_calls_dir)\n",
    "# For the files list, find the files that end with config.yaml\n",
    "# If the file is found, then read the file and print the content\n",
    "\n",
    "if 'config.yml' in files_dict:\n",
    "    config_content = file_utility.load_yaml_file(files_dict['config.yml'])\n",
    "    experiment_type = config_content['type']\n",
    "    print(f'Experiment type: {experiment_type}')\n",
    "\n",
    "    # Step 1: Go through all the folders in the directory_path\n",
    "    # Those are the lambda functions that need to be deployed\n",
    "    for folder_path in directories_dict.values():\n",
    "        inner_files_dict, inner_directories_dict = file_utility.get_files_and_directories(folder_path)\n",
    "        # Step 2: For each folder, access the config to get the configuration\n",
    "        # (this may also determine if sns is used) and iam policies files\n",
    "        config_content = {}\n",
    "        iam_policies_content = {}\n",
    "        if 'configs' in inner_directories_dict:\n",
    "            config_files_dict, _ = file_utility.get_files_and_directories(inner_directories_dict['configs'])\n",
    "\n",
    "            # Load the config file\n",
    "            if 'config.yml' in config_files_dict:\n",
    "                config_content = file_utility.load_yaml_file(config_files_dict['config.yml'])\n",
    "                print(config_content)\n",
    "            else:\n",
    "                raise ValueError('config.yml not found in the configs directory')\n",
    "            \n",
    "            # Load the iam policies file\n",
    "            if 'iam_policy.json' in config_files_dict:\n",
    "                iam_policies_content = file_utility.load_yaml_file(config_files_dict['iam_policy.json'])\n",
    "                print(iam_policies_content)\n",
    "            else:\n",
    "                raise ValueError('iam_policy.json not found in the configs directory')\n",
    "            \n",
    "\n",
    "\n",
    "\n",
    "        else:\n",
    "            raise ValueError('configs directory not found')\n",
    "        \n",
    "        # print(inner_files_dict, inner_directories_dict)\n",
    "        \n",
    "    # Step 3: Check if the lambda function and sns topic exists\n",
    "    # If it does, delete the old lambda function and sns topic\n",
    "\n",
    "    # Step 4: Create a zip file of the contents of the code and the requirements\n",
    "    \n",
    "    # Step 5: Create the lambda function, with the zip file and the configuration with docker\n",
    "    \n",
    "    # Step 6: And sns topic and subscribe the lambda function to the sns topic (if it requires it)\n",
    "\n",
    "    # Step 7: verify that the lambda function and sns topic are created and correctly subscribed if needed\n",
    "\n",
    "\n",
    "else:\n",
    "    raise ValueError('Invalid experiment type: config.yml not found')"
   ]
  },
  {
   "cell_type": "code",
   "execution_count": 14,
   "metadata": {},
   "outputs": [
    {
     "name": "stdout",
     "output_type": "stream",
     "text": [
      "Experiment type: boto3_direct\n"
     ]
    }
   ],
   "source": [
    "dna_vis_direct_calls_dir = './dna_visualization/external_database/boto3_only_direct_calls' # Boto3 only direct calls\n",
    "\n",
    "files_dict, directories_dict = file_utility.get_files_and_directories(dna_vis_direct_calls_dir)\n",
    "# For the files list, find the files that end with config.yaml\n",
    "# If the file is found, then read the file and print the content\n",
    "\n",
    "if 'config.yml' in files_dict:\n",
    "    config_content = file_utility.load_yaml_file(files_dict['config.yml'])\n",
    "    experiment_type = config_content['type']\n",
    "    print(f'Experiment type: {experiment_type}')\n",
    "else:\n",
    "    raise ValueError('Invalid experiment type: config.yml not found')"
   ]
  },
  {
   "cell_type": "code",
   "execution_count": 7,
   "metadata": {},
   "outputs": [
    {
     "name": "stdout",
     "output_type": "stream",
     "text": [
      "config.yml found\n"
     ]
    }
   ],
   "source": [
    "test_dic = {'config.yml': './dna_visualization/external_database/boto3_only_direct_calls/config.yml'}\n",
    "\n",
    "if \"config.yml\" in test_dic:\n",
    "    print(\"config.yml found\")"
   ]
  },
  {
   "cell_type": "code",
   "execution_count": 4,
   "metadata": {},
   "outputs": [
    {
     "name": "stdout",
     "output_type": "stream",
     "text": [
      "Files:\n",
      "('config.yml', './dna_visualization/external_database/aws_step_function/config.yml')\n",
      "('state_machine.json', './dna_visualization/external_database/aws_step_function/state_machine.json')\n",
      "\n",
      "Directories:\n",
      "('visualize', './dna_visualization/external_database/aws_step_function/visualize')\n",
      "('get_input', './dna_visualization/external_database/aws_step_function/get_input')\n"
     ]
    }
   ],
   "source": [
    "dna_vis_direct_calls_dir = \"./dna_visualization/external_database/boto3_only_direct_calls\" # Boto3 only direct calls\n",
    "dna_vis_sns_calls_dir = \"./dna_visualization/external_database/boto3_only_sns\" # Boto3 only sns calls\n",
    "dna_vis_aws_step_functions_dir = \"./dna_visualization/external_database/aws_step_function\" # AWS Step Functions\n",
    "dna_vis_multi_x_dir = \"./dna_visualization/external_database/multi_x\" # Multix\n",
    "\n",
    "files_list, directories_list = file_utility.get_files_and_directories(dna_vis_aws_step_functions_dir)\n",
    "\n",
    "# Print files and directories\n",
    "print(\"Files:\")\n",
    "for file in files_list.items():\n",
    "    print(file)\n",
    "\n",
    "print(\"\\nDirectories:\")\n",
    "for directory in directories_list.items():\n",
    "    print(directory)"
   ]
  },
  {
   "cell_type": "code",
   "execution_count": 5,
   "metadata": {},
   "outputs": [
    {
     "name": "stdout",
     "output_type": "stream",
     "text": [
      "{'Comment': 'A workflow to visualize DNA sequences.', 'StartAt': 'GetInput', 'States': {'GetInput': {'Type': 'Task', 'Resource': 'wo-dna_vis-ed-step_function-get_input', 'Next': 'Visualize'}, 'Visualize': {'Type': 'Task', 'Resource': 'wo-dna_vis-ed-step_function-visualize', 'End': True}}}\n"
     ]
    }
   ],
   "source": [
    "json_file_path = \"./dna_visualization/external_database/aws_step_function/state_machine.json\"\n",
    "print(file_utility.load_json_file(json_file_path))"
   ]
  },
  {
   "cell_type": "code",
   "execution_count": 6,
   "metadata": {},
   "outputs": [
    {
     "name": "stdout",
     "output_type": "stream",
     "text": [
      "{'type': 'boto3-direct', 'starting_function_name': 'wo-dna_vis-ed-direct-get_input'}\n"
     ]
    }
   ],
   "source": [
    "# Specify the path to your YAML file\n",
    "yaml_file_path = './dna_visualization/external_database/boto3_only_direct_calls/config.yml'\n",
    "\n",
    "print(file_utility.load_yaml_file(yaml_file_path))"
   ]
  },
  {
   "cell_type": "markdown",
   "metadata": {},
   "source": [
    "## Deploy Associated AWS functions"
   ]
  },
  {
   "cell_type": "markdown",
   "metadata": {},
   "source": [
    "### DNA Visualization"
   ]
  },
  {
   "cell_type": "code",
   "execution_count": null,
   "metadata": {},
   "outputs": [],
   "source": []
  }
 ],
 "metadata": {
  "kernelspec": {
   "display_name": "multi-x-serverless--3Mr6ES7-py3.11",
   "language": "python",
   "name": "python3"
  },
  "language_info": {
   "codemirror_mode": {
    "name": "ipython",
    "version": 3
   },
   "file_extension": ".py",
   "mimetype": "text/x-python",
   "name": "python",
   "nbconvert_exporter": "python",
   "pygments_lexer": "ipython3",
   "version": "3.11.7"
  }
 },
 "nbformat": 4,
 "nbformat_minor": 2
}
