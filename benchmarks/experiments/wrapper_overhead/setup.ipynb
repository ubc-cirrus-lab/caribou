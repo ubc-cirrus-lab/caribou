{
 "cells": [
  {
   "cell_type": "markdown",
   "metadata": {},
   "source": [
    "## Setup"
   ]
  },
  {
   "cell_type": "markdown",
   "metadata": {},
   "source": [
    "### Import libraries"
   ]
  },
  {
   "cell_type": "code",
   "execution_count": 29,
   "metadata": {},
   "outputs": [],
   "source": [
    "from benchmarks.experiments.wrapper_overhead.common.deployment_utility import WrapperOverheadDeploymentUtility\n",
    "from benchmarks.experiments.wrapper_overhead.common.file_utility import FileUtility\n",
    "from benchmarks.experiments.wrapper_overhead.common.extended_aws_remote_client import ExtendedAWSRemoteClient\n",
    "from multi_x_serverless.deployment.common.deploy.models.resource import Resource\n",
    "\n",
    "\n",
    "import os\n",
    "import yaml"
   ]
  },
  {
   "cell_type": "markdown",
   "metadata": {},
   "source": [
    "### Setup Common Resources"
   ]
  },
  {
   "cell_type": "code",
   "execution_count": 36,
   "metadata": {},
   "outputs": [],
   "source": [
    "\n",
    "runtime = \"python3.8\"\n",
    "region = 'us-east-2'\n",
    "client: ExtendedAWSRemoteClient = ExtendedAWSRemoteClient(region)\n",
    "deployment_utility: WrapperOverheadDeploymentUtility = WrapperOverheadDeploymentUtility(region)\n",
    "file_utility: FileUtility = FileUtility()"
   ]
  },
  {
   "cell_type": "code",
   "execution_count": 40,
   "metadata": {},
   "outputs": [
    {
     "name": "stdout",
     "output_type": "stream",
     "text": [
      "Experiment type: boto3_direct\n",
      "{'requirement.txt': './dna_visualization/external_database/boto3_only_direct_calls/visualize/requirement.txt', 'app.py': './dna_visualization/external_database/boto3_only_direct_calls/visualize/app.py'}\n",
      "App file path: ./dna_visualization/external_database/boto3_only_direct_calls/visualize/app.py\n",
      "Requirements file path: ./dna_visualization/external_database/boto3_only_direct_calls/visualize/requirement.txt\n",
      "{'requirement.txt': './dna_visualization/external_database/boto3_only_direct_calls/get_input/requirement.txt', 'app.py': './dna_visualization/external_database/boto3_only_direct_calls/get_input/app.py'}\n",
      "App file path: ./dna_visualization/external_database/boto3_only_direct_calls/get_input/app.py\n",
      "Requirements file path: ./dna_visualization/external_database/boto3_only_direct_calls/get_input/requirement.txt\n"
     ]
    }
   ],
   "source": [
    "\n",
    "\n",
    "\n",
    "dna_vis_direct_calls_dir = './dna_visualization/external_database/boto3_only_direct_calls' # Boto3 only direct calls\n",
    "\n",
    "files_dict, directories_dict = file_utility.get_files_and_directories(dna_vis_direct_calls_dir)\n",
    "# For the files list, find the files that end with config.yaml\n",
    "# If the file is found, then read the file and print the content\n",
    "\n",
    "if 'config.yml' in files_dict:\n",
    "    config_content = file_utility.load_yaml_file(files_dict['config.yml'])\n",
    "    experiment_type = config_content['type']\n",
    "    print(f'Experiment type: {experiment_type}')\n",
    "\n",
    "    # Step 1: Go through all the folders in the directory_path\n",
    "    # Those are the lambda functions that need to be deployed\n",
    "    for folder_path in directories_dict.values():\n",
    "        inner_files_dict, inner_directories_dict = file_utility.get_files_and_directories(folder_path)\n",
    "\n",
    "        require_sns = False\n",
    "        # print(inner_files_dict)\n",
    "        # Step 2: For each folder, access the config to get the configuration\n",
    "        # (this may also determine if sns is used) and iam policies files\n",
    "        config_content = {}\n",
    "        iam_policies_content = {}\n",
    "        if 'configs' in inner_directories_dict:\n",
    "            config_files_dict, _ = file_utility.get_files_and_directories(inner_directories_dict['configs'])\n",
    "\n",
    "            # Load the config file\n",
    "            if 'config.yml' in config_files_dict:\n",
    "                config_content = file_utility.load_yaml_file(config_files_dict['config.yml'])\n",
    "                # print(config_content)\n",
    "            else:\n",
    "                raise ValueError('config.yml not found in the configs directory')\n",
    "            \n",
    "            # Load the iam policies file\n",
    "            if 'iam_policy.json' in config_files_dict:\n",
    "                iam_policies_content = file_utility.load_yaml_file(config_files_dict['iam_policy.json'])\n",
    "                # print(iam_policies_content)\n",
    "            else:\n",
    "                raise ValueError('iam_policy.json not found in the configs directory')\n",
    "        else:\n",
    "            raise ValueError('configs directory not found')\n",
    "        \n",
    "        # Lets get the path to the app.py and requirements.txt\n",
    "        app_file_path = None\n",
    "        requirements_file_path = None\n",
    "        if 'app.py' in inner_files_dict:\n",
    "            app_file_path = inner_files_dict['app.py']\n",
    "        else:\n",
    "            raise ValueError('app.py not found in the directory')\n",
    "        \n",
    "        if 'requirement.txt' in inner_files_dict:\n",
    "            requirements_file_path = inner_files_dict['requirement.txt']\n",
    "        else:\n",
    "            raise ValueError('requirement.txt not found in the directory')\n",
    "        \n",
    "        # print(f'App file path: {app_file_path}')\n",
    "        # print(f'Requirements file path: {requirements_file_path}')\n",
    "\n",
    "        # At this point we have both a valid config and iam policy file\n",
    "        # We can now deploy the lambda function\n",
    "        function_name = config_content['function_name']\n",
    "        iam_policy_name = f'{function_name}-policy'\n",
    "\n",
    "        # print(f'Function name: {function_name}')\n",
    "        # print(f'IAM Policy name: {iam_policy_name}')\n",
    "        # print(f'Image name: {image_name}')\n",
    "\n",
    "        # # Check if function and iam policy exists\n",
    "        # # If it does, delete the old function and iam policy\n",
    "        # if client.resource_exists(Resource(function_name, \"function\")):\n",
    "        #     print(f'Deleting old lambda function: {function_name}')\n",
    "        #     client.remove_function(function_name)\n",
    "        # if client.resource_exists(Resource(iam_policy_name, \"iam_role\")):\n",
    "        #     print(f'Deleting old IAM policy: {iam_policy_name}')\n",
    "        #     client.remove_role(iam_policy_name)\n",
    "\n",
    "        # Create new lambda function\n",
    "        timeout = config_content['configs']['timeout']\n",
    "        memory = config_content['configs']['memory']\n",
    "        handler = config_content['handler']\n",
    "        runtime = \"python3.8\"\n",
    "\n",
    "        # app_file_path -> path to the app.py\n",
    "        # requirements_file_path -> path to the requirements.txt\n",
    "\n",
    "        # # Create the new function and iam policy\n",
    "        # print(f'Creating new lambda function: {function_name}')\n",
    "        # client.create_function(function_name, config_content['handler'], config_content['runtime'], config_content['role'], config_content['zip_file'])\n",
    "        # print(f'Creating new IAM policy: {iam_policy_name}')\n",
    "        # client.create_role(iam_policy_name, iam_policies_content['policy_document'])\n",
    "\n",
    "\n",
    "\n",
    "\n",
    "        # if require_sns:\n",
    "        #     sns_topic_name = f'{function_name}-sns_topic'\n",
    "        #     # sns_topic_arn = deployment_utility.create_sns_topic(sns_topic_name)\n",
    "        #     # print(f'SNS Topic ARN: {sns_topic_arn}')\n",
    "        #     # deployment_utility.subscribe_lambda_to_sns_topic(function_name, sns_topic_arn)\n",
    "        \n",
    "\n",
    "        # # Step 3: Check if the lambda function and sns topic exists\n",
    "        # # If it does, delete the old lambda function and sns topic\n",
    "\n",
    "\n",
    "\n",
    "        # # print(inner_files_dict, inner_directories_dict)\n",
    "        \n",
    "\n",
    "\n",
    "    # Step 4: Create a zip file of the contents of the code and the requirements\n",
    "    \n",
    "    # Step 5: Create the lambda function, with the zip file and the configuration with docker\n",
    "    \n",
    "    # Step 6: And sns topic and subscribe the lambda function to the sns topic (if it requires it)\n",
    "\n",
    "    # Step 7: verify that the lambda function and sns topic are created and correctly subscribed if needed\n",
    "\n",
    "\n",
    "else:\n",
    "    raise ValueError('Invalid experiment type: config.yml not found')"
   ]
  },
  {
   "cell_type": "code",
   "execution_count": 14,
   "metadata": {},
   "outputs": [
    {
     "name": "stdout",
     "output_type": "stream",
     "text": [
      "Experiment type: boto3_direct\n"
     ]
    }
   ],
   "source": [
    "dna_vis_direct_calls_dir = './dna_visualization/external_database/boto3_only_direct_calls' # Boto3 only direct calls\n",
    "\n",
    "files_dict, directories_dict = file_utility.get_files_and_directories(dna_vis_direct_calls_dir)\n",
    "# For the files list, find the files that end with config.yaml\n",
    "# If the file is found, then read the file and print the content\n",
    "\n",
    "if 'config.yml' in files_dict:\n",
    "    config_content = file_utility.load_yaml_file(files_dict['config.yml'])\n",
    "    experiment_type = config_content['type']\n",
    "    print(f'Experiment type: {experiment_type}')\n",
    "else:\n",
    "    raise ValueError('Invalid experiment type: config.yml not found')"
   ]
  },
  {
   "cell_type": "code",
   "execution_count": 7,
   "metadata": {},
   "outputs": [
    {
     "name": "stdout",
     "output_type": "stream",
     "text": [
      "config.yml found\n"
     ]
    }
   ],
   "source": [
    "test_dic = {'config.yml': './dna_visualization/external_database/boto3_only_direct_calls/config.yml'}\n",
    "\n",
    "if \"config.yml\" in test_dic:\n",
    "    print(\"config.yml found\")"
   ]
  },
  {
   "cell_type": "code",
   "execution_count": 4,
   "metadata": {},
   "outputs": [
    {
     "name": "stdout",
     "output_type": "stream",
     "text": [
      "Files:\n",
      "('config.yml', './dna_visualization/external_database/aws_step_function/config.yml')\n",
      "('state_machine.json', './dna_visualization/external_database/aws_step_function/state_machine.json')\n",
      "\n",
      "Directories:\n",
      "('visualize', './dna_visualization/external_database/aws_step_function/visualize')\n",
      "('get_input', './dna_visualization/external_database/aws_step_function/get_input')\n"
     ]
    }
   ],
   "source": [
    "dna_vis_direct_calls_dir = \"./dna_visualization/external_database/boto3_only_direct_calls\" # Boto3 only direct calls\n",
    "dna_vis_sns_calls_dir = \"./dna_visualization/external_database/boto3_only_sns\" # Boto3 only sns calls\n",
    "dna_vis_aws_step_functions_dir = \"./dna_visualization/external_database/aws_step_function\" # AWS Step Functions\n",
    "dna_vis_multi_x_dir = \"./dna_visualization/external_database/multi_x\" # Multix\n",
    "\n",
    "files_list, directories_list = file_utility.get_files_and_directories(dna_vis_aws_step_functions_dir)\n",
    "\n",
    "# Print files and directories\n",
    "print(\"Files:\")\n",
    "for file in files_list.items():\n",
    "    print(file)\n",
    "\n",
    "print(\"\\nDirectories:\")\n",
    "for directory in directories_list.items():\n",
    "    print(directory)"
   ]
  },
  {
   "cell_type": "code",
   "execution_count": 5,
   "metadata": {},
   "outputs": [
    {
     "name": "stdout",
     "output_type": "stream",
     "text": [
      "{'Comment': 'A workflow to visualize DNA sequences.', 'StartAt': 'GetInput', 'States': {'GetInput': {'Type': 'Task', 'Resource': 'wo-dna_vis-ed-step_function-get_input', 'Next': 'Visualize'}, 'Visualize': {'Type': 'Task', 'Resource': 'wo-dna_vis-ed-step_function-visualize', 'End': True}}}\n"
     ]
    }
   ],
   "source": [
    "json_file_path = \"./dna_visualization/external_database/aws_step_function/state_machine.json\"\n",
    "print(file_utility.load_json_file(json_file_path))"
   ]
  },
  {
   "cell_type": "code",
   "execution_count": 6,
   "metadata": {},
   "outputs": [
    {
     "name": "stdout",
     "output_type": "stream",
     "text": [
      "{'type': 'boto3-direct', 'starting_function_name': 'wo-dna_vis-ed-direct-get_input'}\n"
     ]
    }
   ],
   "source": [
    "# Specify the path to your YAML file\n",
    "yaml_file_path = './dna_visualization/external_database/boto3_only_direct_calls/config.yml'\n",
    "\n",
    "print(file_utility.load_yaml_file(yaml_file_path))"
   ]
  },
  {
   "cell_type": "markdown",
   "metadata": {},
   "source": [
    "## Deploy Associated AWS functions"
   ]
  },
  {
   "cell_type": "markdown",
   "metadata": {},
   "source": [
    "### DNA Visualization"
   ]
  },
  {
   "cell_type": "code",
   "execution_count": null,
   "metadata": {},
   "outputs": [],
   "source": []
  }
 ],
 "metadata": {
  "kernelspec": {
   "display_name": "multi-x-serverless--3Mr6ES7-py3.11",
   "language": "python",
   "name": "python3"
  },
  "language_info": {
   "codemirror_mode": {
    "name": "ipython",
    "version": 3
   },
   "file_extension": ".py",
   "mimetype": "text/x-python",
   "name": "python",
   "nbconvert_exporter": "python",
   "pygments_lexer": "ipython3",
   "version": "3.11.7"
  }
 },
 "nbformat": 4,
 "nbformat_minor": 2
}
