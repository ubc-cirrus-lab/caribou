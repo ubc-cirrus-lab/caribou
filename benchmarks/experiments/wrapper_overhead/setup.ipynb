{
 "cells": [
  {
   "cell_type": "markdown",
   "metadata": {},
   "source": [
    "## Setup"
   ]
  },
  {
   "cell_type": "markdown",
   "metadata": {},
   "source": [
    "### Import libraries"
   ]
  },
  {
   "cell_type": "code",
   "execution_count": 1,
   "metadata": {},
   "outputs": [],
   "source": [
    "from benchmarks.experiments.wrapper_overhead.common.deployment_utility import WrapperOverheadDeploymentUtility"
   ]
  },
  {
   "cell_type": "markdown",
   "metadata": {},
   "source": [
    "### Setup Common Resources"
   ]
  },
  {
   "cell_type": "code",
   "execution_count": 2,
   "metadata": {},
   "outputs": [],
   "source": [
    "region = 'us-east-2'\n",
    "deployment_utility: WrapperOverheadDeploymentUtility = WrapperOverheadDeploymentUtility(region)"
   ]
  },
  {
   "cell_type": "markdown",
   "metadata": {},
   "source": [
    "## Deploy Associated AWS functions"
   ]
  },
  {
   "cell_type": "markdown",
   "metadata": {},
   "source": [
    "### DNA Visualization"
   ]
  },
  {
   "cell_type": "markdown",
   "metadata": {},
   "source": [
    "#### Boto3 Direct Calls"
   ]
  },
  {
   "cell_type": "code",
   "execution_count": 22,
   "metadata": {},
   "outputs": [
    {
     "name": "stdout",
     "output_type": "stream",
     "text": [
      "Deploying boto3_direct workload\n",
      "workflow-wo-dna_vis-ed-direct\n",
      "\n",
      "Deploying wo-dna_vis-ed-direct-visualize\n",
      "Removing old resources\n",
      "Old resources for Removed\n",
      "Creating iam role\n",
      "Resulting Policy ARN: arn:aws:iam::485595969306:role/wo-dna_vis-ed-direct-visualize-policy\n",
      "Creating lambda function\n"
     ]
    },
    {
     "name": "stderr",
     "output_type": "stream",
     "text": [
      "#0 building with \"default\" instance using docker driver\n",
      "\n",
      "#1 [internal] load build definition from Dockerfile\n",
      "#1 transferring dockerfile: 325B done\n",
      "#1 DONE 0.0s\n",
      "\n",
      "#2 [internal] load metadata for public.ecr.aws/lambda/python:3.8\n",
      "#2 DONE 0.2s\n",
      "\n",
      "#3 [internal] load .dockerignore\n",
      "#3 transferring context: 2B done\n",
      "#3 DONE 0.0s\n",
      "\n",
      "#4 [1/6] FROM public.ecr.aws/lambda/python:3.8@sha256:9ae4af1397c3c7ac09aca53cca2621c9fdd5f0a2674f2bf05920888d24883f91\n",
      "#4 DONE 0.0s\n",
      "\n",
      "#5 [internal] load build context\n",
      "#5 transferring context: 108.82kB done\n",
      "#5 DONE 0.0s\n",
      "\n",
      "#6 [2/6] COPY requirements.txt ./\n",
      "#6 CACHED\n",
      "\n",
      "#7 [4/6] COPY app.py ./\n",
      "#7 CACHED\n",
      "\n",
      "#8 [3/6] RUN pip3 install --no-cache-dir -r requirements.txt\n",
      "#8 CACHED\n",
      "\n",
      "#9 [5/6] COPY src ./src\n",
      "#9 CACHED\n",
      "\n",
      "#10 [6/6] COPY multi_x_serverless ./multi_x_serverless\n",
      "#10 CACHED\n",
      "\n",
      "#11 exporting to image\n",
      "#11 exporting layers done\n",
      "#11 writing image sha256:05eeb6d255b2f613b77cd26af60ae066fabea0d11f5b7994162bea5e0e880c8b done\n",
      "#11 naming to docker.io/library/wo-dna_vis-ed-direct-visualize:latest done\n",
      "#11 DONE 0.0s\n",
      "Docker image wo-dna_vis-ed-direct-visualize:latest built successfully.\n",
      "WARNING! Using --password via the CLI is insecure. Use --password-stdin.\n",
      "WARNING! Your password will be stored unencrypted in /home/daniel/.docker/config.json.\n",
      "Configure a credential helper to remove this warning. See\n",
      "https://docs.docker.com/engine/reference/commandline/login/#credentials-store\n",
      "\n"
     ]
    },
    {
     "name": "stdout",
     "output_type": "stream",
     "text": [
      "Login Succeeded\n",
      "The push refers to repository [485595969306.dkr.ecr.us-east-2.amazonaws.com/wo-dna_vis-ed-direct-visualize]\n",
      "2b945486522c: Preparing\n",
      "3d69f38a8b7a: Preparing\n",
      "a487354e1091: Preparing\n",
      "8e1b406f394f: Preparing\n",
      "3a89be36bfcd: Preparing\n",
      "0a20c8da2344: Preparing\n",
      "05788b7af5ed: Preparing\n",
      "706e59713fa4: Preparing\n",
      "052242efe275: Preparing\n",
      "274a79fec6a9: Preparing\n",
      "6849347e354b: Preparing\n",
      "05788b7af5ed: Waiting\n",
      "706e59713fa4: Waiting\n",
      "052242efe275: Waiting\n",
      "274a79fec6a9: Waiting\n",
      "6849347e354b: Waiting\n",
      "0a20c8da2344: Waiting\n",
      "3d69f38a8b7a: Layer already exists\n",
      "3a89be36bfcd: Layer already exists\n",
      "8e1b406f394f: Layer already exists\n",
      "a487354e1091: Layer already exists\n",
      "2b945486522c: Layer already exists\n",
      "0a20c8da2344: Layer already exists\n",
      "05788b7af5ed: Layer already exists\n",
      "274a79fec6a9: Layer already exists\n",
      "706e59713fa4: Layer already exists\n",
      "052242efe275: Layer already exists\n",
      "6849347e354b: Layer already exists\n"
     ]
    },
    {
     "name": "stderr",
     "output_type": "stream",
     "text": [
      "Successfully pushed Docker image 485595969306.dkr.ecr.us-east-2.amazonaws.com/wo-dna_vis-ed-direct-visualize:latest to ECR.\n"
     ]
    },
    {
     "name": "stdout",
     "output_type": "stream",
     "text": [
      "latest: digest: sha256:1e3287d058c482c86b35019c11af0e7014363bb2a4d9753757b08b4ae74c4c37 size: 2624\n",
      "Resulting Function ARN: arn:aws:lambda:us-east-2:485595969306:function:wo-dna_vis-ed-direct-visualize\n",
      "\n",
      "Deploying wo-dna_vis-ed-direct-get_input\n",
      "Removing old resources\n",
      "Old resources for Removed\n",
      "Creating iam role\n",
      "Resulting Policy ARN: arn:aws:iam::485595969306:role/wo-dna_vis-ed-direct-get_input-policy\n",
      "Creating lambda function\n"
     ]
    },
    {
     "name": "stderr",
     "output_type": "stream",
     "text": [
      "#0 building with \"default\" instance using docker driver\n",
      "\n",
      "#1 [internal] load build definition from Dockerfile\n",
      "#1 transferring dockerfile: 325B done\n",
      "#1 DONE 0.0s\n",
      "\n",
      "#2 [internal] load metadata for public.ecr.aws/lambda/python:3.8\n",
      "#2 DONE 0.1s\n",
      "\n",
      "#3 [internal] load .dockerignore\n",
      "#3 transferring context:\n",
      "#3 transferring context: 2B done\n",
      "#3 DONE 0.0s\n",
      "\n",
      "#4 [1/6] FROM public.ecr.aws/lambda/python:3.8@sha256:9ae4af1397c3c7ac09aca53cca2621c9fdd5f0a2674f2bf05920888d24883f91\n",
      "#4 DONE 0.0s\n",
      "\n",
      "#5 [internal] load build context\n",
      "#5 transferring context: 106.69kB done\n",
      "#5 DONE 0.0s\n",
      "\n",
      "#6 [5/6] COPY src ./src\n",
      "#6 CACHED\n",
      "\n",
      "#7 [2/6] COPY requirements.txt ./\n",
      "#7 CACHED\n",
      "\n",
      "#8 [3/6] RUN pip3 install --no-cache-dir -r requirements.txt\n",
      "#8 CACHED\n",
      "\n",
      "#9 [4/6] COPY app.py ./\n",
      "#9 CACHED\n",
      "\n",
      "#10 [6/6] COPY multi_x_serverless ./multi_x_serverless\n",
      "#10 CACHED\n",
      "\n",
      "#11 exporting to image\n",
      "#11 exporting layers done\n",
      "#11 writing image sha256:a47657b0c433b9c7fe387c8f3e7a3c7b9ba2c5e83b8c42801c455253d8bfc198 done\n",
      "#11 naming to docker.io/library/wo-dna_vis-ed-direct-get_input:latest done\n",
      "#11 DONE 0.0s\n",
      "Docker image wo-dna_vis-ed-direct-get_input:latest built successfully.\n",
      "WARNING! Using --password via the CLI is insecure. Use --password-stdin.\n",
      "WARNING! Your password will be stored unencrypted in /home/daniel/.docker/config.json.\n",
      "Configure a credential helper to remove this warning. See\n",
      "https://docs.docker.com/engine/reference/commandline/login/#credentials-store\n",
      "\n"
     ]
    },
    {
     "name": "stdout",
     "output_type": "stream",
     "text": [
      "Login Succeeded\n",
      "The push refers to repository [485595969306.dkr.ecr.us-east-2.amazonaws.com/wo-dna_vis-ed-direct-get_input]\n",
      "882ab2a529f2: Preparing\n",
      "49721b2ff3a4: Preparing\n",
      "9c922acf8575: Preparing\n",
      "6fe8485efa46: Preparing\n",
      "34352bc5dfd0: Preparing\n",
      "0a20c8da2344: Preparing\n",
      "05788b7af5ed: Preparing\n",
      "706e59713fa4: Preparing\n",
      "052242efe275: Preparing\n",
      "274a79fec6a9: Preparing\n",
      "6849347e354b: Preparing\n",
      "274a79fec6a9: Waiting\n",
      "706e59713fa4: Waiting\n",
      "052242efe275: Waiting\n",
      "6849347e354b: Waiting\n",
      "0a20c8da2344: Waiting\n",
      "05788b7af5ed: Waiting\n",
      "9c922acf8575: Layer already exists\n",
      "882ab2a529f2: Layer already exists\n",
      "34352bc5dfd0: Layer already exists\n",
      "49721b2ff3a4: Layer already exists\n",
      "6fe8485efa46: Layer already exists\n",
      "0a20c8da2344: Layer already exists\n",
      "274a79fec6a9: Layer already exists\n",
      "706e59713fa4: Layer already exists\n",
      "052242efe275: Layer already exists\n",
      "05788b7af5ed: Layer already exists\n",
      "6849347e354b: Layer already exists\n"
     ]
    },
    {
     "name": "stderr",
     "output_type": "stream",
     "text": [
      "Successfully pushed Docker image 485595969306.dkr.ecr.us-east-2.amazonaws.com/wo-dna_vis-ed-direct-get_input:latest to ECR.\n"
     ]
    },
    {
     "name": "stdout",
     "output_type": "stream",
     "text": [
      "latest: digest: sha256:a1a45d13a9a038f76f70d7ea281e4a1e64e881f153e021759ba601c4adedb60f size: 2623\n",
      "Resulting Function ARN: arn:aws:lambda:us-east-2:485595969306:function:wo-dna_vis-ed-direct-get_input\n",
      "Completed deployment of workflow-wo-dna_vis-ed-direct\n",
      "\n",
      "\n"
     ]
    },
    {
     "data": {
      "text/plain": [
       "True"
      ]
     },
     "execution_count": 22,
     "metadata": {},
     "output_type": "execute_result"
    }
   ],
   "source": [
    "dna_vis_direct_calls_dir = \"./dna_visualization/external_database/boto3_only_direct_calls\" # Boto3 only direct calls\n",
    "deployment_utility.deploy_experiment(dna_vis_direct_calls_dir)"
   ]
  },
  {
   "cell_type": "markdown",
   "metadata": {},
   "source": [
    "#### Boto3 SNS calls"
   ]
  },
  {
   "cell_type": "code",
   "execution_count": 23,
   "metadata": {},
   "outputs": [
    {
     "name": "stdout",
     "output_type": "stream",
     "text": [
      "Deploying boto3_sns workload\n",
      "workflow-wo-dna_vis-ed-direct_sns\n",
      "\n",
      "Deploying wo-dna_vis-ed-direct_sns-visualize\n",
      "Removing old resources\n",
      "Old resources for Removed\n",
      "Creating iam role\n",
      "Resulting Policy ARN: arn:aws:iam::485595969306:role/wo-dna_vis-ed-direct_sns-visualize-policy\n",
      "Creating lambda function\n"
     ]
    },
    {
     "name": "stderr",
     "output_type": "stream",
     "text": [
      "#0 building with \"default\" instance using docker driver\n",
      "\n",
      "#1 [internal] load build definition from Dockerfile\n",
      "#1 transferring dockerfile: 325B done\n",
      "#1 DONE 0.0s\n",
      "\n",
      "#2 [internal] load metadata for public.ecr.aws/lambda/python:3.8\n",
      "#2 DONE 0.2s\n",
      "\n",
      "#3 [internal] load .dockerignore\n",
      "#3 transferring context: 2B done\n",
      "#3 DONE 0.0s\n",
      "\n",
      "#4 [1/6] FROM public.ecr.aws/lambda/python:3.8@sha256:9ae4af1397c3c7ac09aca53cca2621c9fdd5f0a2674f2bf05920888d24883f91\n",
      "#4 DONE 0.0s\n",
      "\n",
      "#5 [internal] load build context\n",
      "#5 transferring context: 108.89kB done\n",
      "#5 DONE 0.0s\n",
      "\n",
      "#6 [2/6] COPY requirements.txt ./\n",
      "#6 CACHED\n",
      "\n",
      "#7 [3/6] RUN pip3 install --no-cache-dir -r requirements.txt\n",
      "#7 CACHED\n",
      "\n",
      "#8 [4/6] COPY app.py ./\n",
      "#8 DONE 0.0s\n",
      "\n",
      "#9 [5/6] COPY src ./src\n",
      "#9 DONE 0.0s\n",
      "\n",
      "#10 [6/6] COPY multi_x_serverless ./multi_x_serverless\n",
      "#10 DONE 0.0s\n",
      "\n",
      "#11 exporting to image\n",
      "#11 exporting layers 0.0s done\n",
      "#11 writing image sha256:1ce368045b5cc215ce57ce037eae30a97b9bacbf6d1b4118b53a5e77c8cfd6ea done\n",
      "#11 naming to docker.io/library/wo-dna_vis-ed-direct_sns-visualize:latest done\n",
      "#11 DONE 0.0s\n",
      "Docker image wo-dna_vis-ed-direct_sns-visualize:latest built successfully.\n",
      "WARNING! Using --password via the CLI is insecure. Use --password-stdin.\n",
      "WARNING! Your password will be stored unencrypted in /home/daniel/.docker/config.json.\n",
      "Configure a credential helper to remove this warning. See\n",
      "https://docs.docker.com/engine/reference/commandline/login/#credentials-store\n",
      "\n"
     ]
    },
    {
     "name": "stdout",
     "output_type": "stream",
     "text": [
      "Login Succeeded\n",
      "The push refers to repository [485595969306.dkr.ecr.us-east-2.amazonaws.com/wo-dna_vis-ed-direct_sns-visualize]\n",
      "79cde3b2ad05: Preparing\n",
      "119481f27e36: Preparing\n",
      "ae411482cccc: Preparing\n",
      "8e1b406f394f: Preparing\n",
      "3a89be36bfcd: Preparing\n",
      "0a20c8da2344: Preparing\n",
      "05788b7af5ed: Preparing\n",
      "706e59713fa4: Preparing\n",
      "052242efe275: Preparing\n",
      "274a79fec6a9: Preparing\n",
      "6849347e354b: Preparing\n",
      "706e59713fa4: Waiting\n",
      "0a20c8da2344: Waiting\n",
      "05788b7af5ed: Waiting\n",
      "274a79fec6a9: Waiting\n",
      "6849347e354b: Waiting\n",
      "052242efe275: Waiting\n",
      "8e1b406f394f: Layer already exists\n",
      "3a89be36bfcd: Layer already exists\n",
      "05788b7af5ed: Layer already exists\n",
      "0a20c8da2344: Layer already exists\n",
      "706e59713fa4: Layer already exists\n",
      "052242efe275: Layer already exists\n",
      "274a79fec6a9: Layer already exists\n",
      "6849347e354b: Layer already exists\n",
      "ae411482cccc: Pushed\n",
      "119481f27e36: Pushed\n",
      "79cde3b2ad05: Pushed\n"
     ]
    },
    {
     "name": "stderr",
     "output_type": "stream",
     "text": [
      "Successfully pushed Docker image 485595969306.dkr.ecr.us-east-2.amazonaws.com/wo-dna_vis-ed-direct_sns-visualize:latest to ECR.\n"
     ]
    },
    {
     "name": "stdout",
     "output_type": "stream",
     "text": [
      "latest: digest: sha256:b6dc50ee8a0124298f5883b7dbb0c53b72591a6c3ce0c1e0c7ffc91ad812f53a size: 2624\n",
      "Resulting Function ARN: arn:aws:lambda:us-east-2:485595969306:function:wo-dna_vis-ed-direct_sns-visualize\n",
      "Creating sns topic and subscribing lambda function\n",
      "Resulting Topic ARN: arn:aws:sns:us-east-2:485595969306:wo-dna_vis-ed-direct_sns-visualize-sns_topic\n",
      "Resulting Subscription ARN: arn:aws:sns:us-east-2:485595969306:wo-dna_vis-ed-direct_sns-visualize-sns_topic:8f6a0835-cf76-4577-9c33-288cb39b5a5c\n",
      "\n",
      "Deploying wo-dna_vis-ed-direct_sns-get_input\n",
      "Removing old resources\n",
      "Old resources for Removed\n",
      "Creating iam role\n",
      "Resulting Policy ARN: arn:aws:iam::485595969306:role/wo-dna_vis-ed-direct_sns-get_input-policy\n",
      "Creating lambda function\n"
     ]
    },
    {
     "name": "stderr",
     "output_type": "stream",
     "text": [
      "#0 building with \"default\" instance using docker driver\n",
      "\n",
      "#1 [internal] load build definition from Dockerfile\n",
      "#1 transferring dockerfile: 325B done\n",
      "#1 DONE 0.0s\n",
      "\n",
      "#2 [internal] load metadata for public.ecr.aws/lambda/python:3.8\n",
      "#2 DONE 0.1s\n",
      "\n",
      "#3 [internal] load .dockerignore\n",
      "#3 transferring context:\n",
      "#3 transferring context: 2B done\n",
      "#3 DONE 0.0s\n",
      "\n",
      "#4 [1/6] FROM public.ecr.aws/lambda/python:3.8@sha256:9ae4af1397c3c7ac09aca53cca2621c9fdd5f0a2674f2bf05920888d24883f91\n",
      "#4 DONE 0.0s\n",
      "\n",
      "#5 [internal] load build context\n",
      "#5 transferring context: 107.14kB done\n",
      "#5 DONE 0.0s\n",
      "\n",
      "#6 [2/6] COPY requirements.txt ./\n",
      "#6 CACHED\n",
      "\n",
      "#7 [3/6] RUN pip3 install --no-cache-dir -r requirements.txt\n",
      "#7 CACHED\n",
      "\n",
      "#8 [4/6] COPY app.py ./\n",
      "#8 DONE 0.0s\n",
      "\n",
      "#9 [5/6] COPY src ./src\n",
      "#9 DONE 0.0s\n",
      "\n",
      "#10 [6/6] COPY multi_x_serverless ./multi_x_serverless\n",
      "#10 DONE 0.0s\n",
      "\n",
      "#11 exporting to image\n",
      "#11 exporting layers 0.0s done\n",
      "#11 writing image sha256:35df3fdc8e91980b3b28f578c10307496214e394be81e25d200ce332001fcc1c done\n",
      "#11 naming to docker.io/library/wo-dna_vis-ed-direct_sns-get_input:latest done\n",
      "#11 DONE 0.0s\n",
      "Docker image wo-dna_vis-ed-direct_sns-get_input:latest built successfully.\n",
      "WARNING! Using --password via the CLI is insecure. Use --password-stdin.\n",
      "WARNING! Your password will be stored unencrypted in /home/daniel/.docker/config.json.\n",
      "Configure a credential helper to remove this warning. See\n",
      "https://docs.docker.com/engine/reference/commandline/login/#credentials-store\n",
      "\n"
     ]
    },
    {
     "name": "stdout",
     "output_type": "stream",
     "text": [
      "Login Succeeded\n",
      "The push refers to repository [485595969306.dkr.ecr.us-east-2.amazonaws.com/wo-dna_vis-ed-direct_sns-get_input]\n",
      "78ed9b80978c: Preparing\n",
      "4f97db2c5e2b: Preparing\n",
      "5422b33b9934: Preparing\n",
      "6fe8485efa46: Preparing\n",
      "34352bc5dfd0: Preparing\n",
      "0a20c8da2344: Preparing\n",
      "05788b7af5ed: Preparing\n",
      "706e59713fa4: Preparing\n",
      "052242efe275: Preparing\n",
      "274a79fec6a9: Preparing\n",
      "6849347e354b: Preparing\n",
      "05788b7af5ed: Waiting\n",
      "274a79fec6a9: Waiting\n",
      "6849347e354b: Waiting\n",
      "706e59713fa4: Waiting\n",
      "052242efe275: Waiting\n",
      "0a20c8da2344: Waiting\n",
      "34352bc5dfd0: Layer already exists\n",
      "6fe8485efa46: Layer already exists\n",
      "0a20c8da2344: Layer already exists\n",
      "05788b7af5ed: Layer already exists\n",
      "706e59713fa4: Layer already exists\n",
      "052242efe275: Layer already exists\n",
      "274a79fec6a9: Layer already exists\n",
      "6849347e354b: Layer already exists\n",
      "4f97db2c5e2b: Pushed\n",
      "5422b33b9934: Pushed\n",
      "78ed9b80978c: Pushed\n"
     ]
    },
    {
     "name": "stderr",
     "output_type": "stream",
     "text": [
      "Successfully pushed Docker image 485595969306.dkr.ecr.us-east-2.amazonaws.com/wo-dna_vis-ed-direct_sns-get_input:latest to ECR.\n"
     ]
    },
    {
     "name": "stdout",
     "output_type": "stream",
     "text": [
      "latest: digest: sha256:4508bc80b6dfe6d795504f512de73013894ca9e76524646e2f57fc04f06cd529 size: 2623\n",
      "Resulting Function ARN: arn:aws:lambda:us-east-2:485595969306:function:wo-dna_vis-ed-direct_sns-get_input\n",
      "Creating sns topic and subscribing lambda function\n",
      "Resulting Topic ARN: arn:aws:sns:us-east-2:485595969306:wo-dna_vis-ed-direct_sns-get_input-sns_topic\n",
      "Resulting Subscription ARN: arn:aws:sns:us-east-2:485595969306:wo-dna_vis-ed-direct_sns-get_input-sns_topic:182ed0e2-8468-4893-9e6f-c788cf210a2c\n",
      "Completed deployment of workflow-wo-dna_vis-ed-direct_sns\n",
      "\n",
      "\n"
     ]
    },
    {
     "data": {
      "text/plain": [
       "True"
      ]
     },
     "execution_count": 23,
     "metadata": {},
     "output_type": "execute_result"
    }
   ],
   "source": [
    "dna_vis_sns_calls_dir = \"./dna_visualization/external_database/boto3_only_sns\" # Boto3 only sns calls\n",
    "deployment_utility.deploy_experiment(dna_vis_sns_calls_dir)"
   ]
  },
  {
   "cell_type": "markdown",
   "metadata": {},
   "source": [
    "#### AWS Step Function"
   ]
  },
  {
   "cell_type": "code",
   "execution_count": 24,
   "metadata": {},
   "outputs": [
    {
     "name": "stdout",
     "output_type": "stream",
     "text": [
      "Deploying aws_step_function workload\n",
      "wo-dna_vis-ed-step_function\n",
      "\n",
      "Deploying wo-dna_vis-ed-step_function-visualize\n",
      "Removing old resources\n",
      "Old resources for Removed\n",
      "Creating iam role\n",
      "Resulting Policy ARN: arn:aws:iam::485595969306:role/wo-dna_vis-ed-step_function-visualize-policy\n",
      "Creating lambda function\n"
     ]
    },
    {
     "name": "stderr",
     "output_type": "stream",
     "text": [
      "#0 building with \"default\" instance using docker driver\n",
      "\n",
      "#1 [internal] load build definition from Dockerfile\n",
      "#1 transferring dockerfile: 325B done\n",
      "#1 DONE 0.0s\n",
      "\n",
      "#2 [internal] load metadata for public.ecr.aws/lambda/python:3.8\n",
      "#2 DONE 0.2s\n",
      "\n",
      "#3 [internal] load .dockerignore\n",
      "#3 transferring context: 2B done\n",
      "#3 DONE 0.0s\n",
      "\n",
      "#4 [1/6] FROM public.ecr.aws/lambda/python:3.8@sha256:9ae4af1397c3c7ac09aca53cca2621c9fdd5f0a2674f2bf05920888d24883f91\n",
      "#4 DONE 0.0s\n",
      "\n",
      "#5 [internal] load build context\n",
      "#5 transferring context: 108.89kB done\n",
      "#5 DONE 0.0s\n",
      "\n",
      "#6 [2/6] COPY requirements.txt ./\n",
      "#6 CACHED\n",
      "\n",
      "#7 [3/6] RUN pip3 install --no-cache-dir -r requirements.txt\n",
      "#7 CACHED\n",
      "\n",
      "#8 [4/6] COPY app.py ./\n",
      "#8 DONE 0.0s\n",
      "\n",
      "#9 [5/6] COPY src ./src\n",
      "#9 DONE 0.0s\n",
      "\n",
      "#10 [6/6] COPY multi_x_serverless ./multi_x_serverless\n",
      "#10 DONE 0.0s\n",
      "\n",
      "#11 exporting to image\n",
      "#11 exporting layers 0.0s done\n",
      "#11 writing image sha256:5cfa003e5b36adb2362095ca91d8275ab13197d8337f117f0ec11bfab6959b5c done\n",
      "#11 naming to docker.io/library/wo-dna_vis-ed-step_function-visualize:latest done\n",
      "#11 DONE 0.0s\n",
      "Docker image wo-dna_vis-ed-step_function-visualize:latest built successfully.\n",
      "WARNING! Using --password via the CLI is insecure. Use --password-stdin.\n",
      "WARNING! Your password will be stored unencrypted in /home/daniel/.docker/config.json.\n",
      "Configure a credential helper to remove this warning. See\n",
      "https://docs.docker.com/engine/reference/commandline/login/#credentials-store\n",
      "\n"
     ]
    },
    {
     "name": "stdout",
     "output_type": "stream",
     "text": [
      "Login Succeeded\n",
      "The push refers to repository [485595969306.dkr.ecr.us-east-2.amazonaws.com/wo-dna_vis-ed-step_function-visualize]\n",
      "9df28a6a8d0d: Preparing\n",
      "a8f9a66cb326: Preparing\n",
      "c1e1781d79d8: Preparing\n",
      "8e1b406f394f: Preparing\n",
      "3a89be36bfcd: Preparing\n",
      "0a20c8da2344: Preparing\n",
      "05788b7af5ed: Preparing\n",
      "706e59713fa4: Preparing\n",
      "052242efe275: Preparing\n",
      "274a79fec6a9: Preparing\n",
      "6849347e354b: Preparing\n",
      "05788b7af5ed: Waiting\n",
      "706e59713fa4: Waiting\n",
      "6849347e354b: Waiting\n",
      "052242efe275: Waiting\n",
      "274a79fec6a9: Waiting\n",
      "0a20c8da2344: Waiting\n",
      "3a89be36bfcd: Layer already exists\n",
      "8e1b406f394f: Layer already exists\n",
      "0a20c8da2344: Layer already exists\n",
      "05788b7af5ed: Layer already exists\n",
      "706e59713fa4: Layer already exists\n",
      "052242efe275: Layer already exists\n",
      "6849347e354b: Layer already exists\n",
      "274a79fec6a9: Layer already exists\n",
      "a8f9a66cb326: Pushed\n",
      "c1e1781d79d8: Pushed\n",
      "9df28a6a8d0d: Pushed\n"
     ]
    },
    {
     "name": "stderr",
     "output_type": "stream",
     "text": [
      "Successfully pushed Docker image 485595969306.dkr.ecr.us-east-2.amazonaws.com/wo-dna_vis-ed-step_function-visualize:latest to ECR.\n"
     ]
    },
    {
     "name": "stdout",
     "output_type": "stream",
     "text": [
      "latest: digest: sha256:781efce4e440e1ecaac77033f6960c4cf6b747b6230d89ce49078a46a17766e4 size: 2624\n",
      "Resulting Function ARN: arn:aws:lambda:us-east-2:485595969306:function:wo-dna_vis-ed-step_function-visualize\n",
      "\n",
      "Deploying wo-dna_vis-ed-step_function-get_input\n",
      "Removing old resources\n",
      "Old resources for Removed\n",
      "Creating iam role\n",
      "Resulting Policy ARN: arn:aws:iam::485595969306:role/wo-dna_vis-ed-step_function-get_input-policy\n",
      "Creating lambda function\n"
     ]
    },
    {
     "name": "stderr",
     "output_type": "stream",
     "text": [
      "#0 building with \"default\" instance using docker driver\n",
      "\n",
      "#1 [internal] load build definition from Dockerfile\n",
      "#1 transferring dockerfile: 325B done\n",
      "#1 DONE 0.0s\n",
      "\n",
      "#2 [internal] load metadata for public.ecr.aws/lambda/python:3.8\n",
      "#2 DONE 0.1s\n",
      "\n",
      "#3 [internal] load .dockerignore\n",
      "#3 transferring context: 2B done\n",
      "#3 DONE 0.0s\n",
      "\n",
      "#4 [1/6] FROM public.ecr.aws/lambda/python:3.8@sha256:9ae4af1397c3c7ac09aca53cca2621c9fdd5f0a2674f2bf05920888d24883f91\n",
      "#4 DONE 0.0s\n",
      "\n",
      "#5 [internal] load build context\n",
      "#5 transferring context: 106.27kB done\n",
      "#5 DONE 0.0s\n",
      "\n",
      "#6 [2/6] COPY requirements.txt ./\n",
      "#6 CACHED\n",
      "\n",
      "#7 [3/6] RUN pip3 install --no-cache-dir -r requirements.txt\n",
      "#7 CACHED\n",
      "\n",
      "#8 [4/6] COPY app.py ./\n",
      "#8 DONE 0.0s\n",
      "\n",
      "#9 [5/6] COPY src ./src\n",
      "#9 DONE 0.0s\n",
      "\n",
      "#10 [6/6] COPY multi_x_serverless ./multi_x_serverless\n",
      "#10 DONE 0.0s\n",
      "\n",
      "#11 exporting to image\n",
      "#11 exporting layers 0.0s done\n",
      "#11 writing image sha256:fbbd28bd98bffefaee60116f5bb26663bf76da7c8e809a63dc0cf1b8d0654aed done\n",
      "#11 naming to docker.io/library/wo-dna_vis-ed-step_function-get_input:latest done\n",
      "#11 DONE 0.0s\n",
      "Docker image wo-dna_vis-ed-step_function-get_input:latest built successfully.\n",
      "WARNING! Using --password via the CLI is insecure. Use --password-stdin.\n",
      "WARNING! Your password will be stored unencrypted in /home/daniel/.docker/config.json.\n",
      "Configure a credential helper to remove this warning. See\n",
      "https://docs.docker.com/engine/reference/commandline/login/#credentials-store\n",
      "\n"
     ]
    },
    {
     "name": "stdout",
     "output_type": "stream",
     "text": [
      "Login Succeeded\n",
      "The push refers to repository [485595969306.dkr.ecr.us-east-2.amazonaws.com/wo-dna_vis-ed-step_function-get_input]\n",
      "edbf480faeb2: Preparing\n",
      "e41be327bb84: Preparing\n",
      "52c0086b9e60: Preparing\n",
      "18f3008705b6: Preparing\n",
      "1c58f3f28eec: Preparing\n",
      "0a20c8da2344: Preparing\n",
      "05788b7af5ed: Preparing\n",
      "706e59713fa4: Preparing\n",
      "052242efe275: Preparing\n",
      "274a79fec6a9: Preparing\n",
      "6849347e354b: Preparing\n",
      "706e59713fa4: Waiting\n",
      "052242efe275: Waiting\n",
      "274a79fec6a9: Waiting\n",
      "6849347e354b: Waiting\n",
      "0a20c8da2344: Waiting\n",
      "05788b7af5ed: Waiting\n",
      "18f3008705b6: Layer already exists\n",
      "1c58f3f28eec: Layer already exists\n",
      "0a20c8da2344: Layer already exists\n",
      "05788b7af5ed: Layer already exists\n",
      "052242efe275: Layer already exists\n",
      "706e59713fa4: Layer already exists\n",
      "274a79fec6a9: Layer already exists\n",
      "6849347e354b: Layer already exists\n",
      "52c0086b9e60: Pushed\n",
      "e41be327bb84: Pushed\n",
      "edbf480faeb2: Pushed\n"
     ]
    },
    {
     "name": "stderr",
     "output_type": "stream",
     "text": [
      "Successfully pushed Docker image 485595969306.dkr.ecr.us-east-2.amazonaws.com/wo-dna_vis-ed-step_function-get_input:latest to ECR.\n"
     ]
    },
    {
     "name": "stdout",
     "output_type": "stream",
     "text": [
      "latest: digest: sha256:5cf9292cc0cbf3c6ba258fa8eb229c57739a4a167a9d61dc4ea9c6617d9b486e size: 2623\n",
      "Resulting Function ARN: arn:aws:lambda:us-east-2:485595969306:function:wo-dna_vis-ed-step_function-get_input\n",
      "Completed deployment of wo-dna_vis-ed-step_function\n",
      "\n",
      "\n",
      "Delete role arn\n",
      "Old resources for Removed\n",
      "Creating state machine iam role\n",
      "Resulting Policy ARN: arn:aws:iam::485595969306:role/state_machine-wo-dna_vis-ed-step_function-policy\n",
      "Updating state machine\n",
      "Resulting State Machine ARN: arn:aws:states:us-east-2:485595969306:stateMachine:state_machine-wo-dna_vis-ed-step_function\n",
      "Completed deployment of wo-dna_vis-ed-step_function\n",
      "\n",
      "\n"
     ]
    },
    {
     "data": {
      "text/plain": [
       "True"
      ]
     },
     "execution_count": 24,
     "metadata": {},
     "output_type": "execute_result"
    }
   ],
   "source": [
    "dna_vis_aws_step_functions_dir = \"./dna_visualization/external_database/aws_step_function\" # AWS Step Functions\n",
    "deployment_utility.deploy_experiment(dna_vis_aws_step_functions_dir)"
   ]
  },
  {
   "cell_type": "markdown",
   "metadata": {},
   "source": [
    "#### Multi-X"
   ]
  },
  {
   "cell_type": "markdown",
   "metadata": {},
   "source": [
    "- For MultiX, please set it up according to readme contained in the file. \"./dna_visualization/external_database/multi_x\""
   ]
  }
 ],
 "metadata": {
  "kernelspec": {
   "display_name": "multi-x-serverless--3Mr6ES7-py3.11",
   "language": "python",
   "name": "python3"
  },
  "language_info": {
   "codemirror_mode": {
    "name": "ipython",
    "version": 3
   },
   "file_extension": ".py",
   "mimetype": "text/x-python",
   "name": "python",
   "nbconvert_exporter": "python",
   "pygments_lexer": "ipython3",
   "version": "3.11.7"
  }
 },
 "nbformat": 4,
 "nbformat_minor": 2
}
