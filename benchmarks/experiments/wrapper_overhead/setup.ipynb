{
 "cells": [
  {
   "cell_type": "markdown",
   "metadata": {},
   "source": [
    "## Setup"
   ]
  },
  {
   "cell_type": "markdown",
   "metadata": {},
   "source": [
    "### Import libraries"
   ]
  },
  {
   "cell_type": "code",
   "execution_count": 1,
   "metadata": {},
   "outputs": [],
   "source": [
    "from benchmarks.experiments.wrapper_overhead.common.deployment_utility import WrapperOverheadDeploymentUtility"
   ]
  },
  {
   "cell_type": "markdown",
   "metadata": {},
   "source": [
    "### Setup Common Resources"
   ]
  },
  {
   "cell_type": "code",
   "execution_count": 2,
   "metadata": {},
   "outputs": [],
   "source": [
    "region = 'us-east-2'\n",
    "deployment_utility: WrapperOverheadDeploymentUtility = WrapperOverheadDeploymentUtility(region)"
   ]
  },
  {
   "cell_type": "markdown",
   "metadata": {},
   "source": [
    "## Deploy Associated AWS functions"
   ]
  },
  {
   "cell_type": "markdown",
   "metadata": {},
   "source": [
    "### DNA Visualization"
   ]
  },
  {
   "cell_type": "markdown",
   "metadata": {},
   "source": [
    "#### Boto3 Direct Calls"
   ]
  },
  {
   "cell_type": "code",
   "execution_count": 12,
   "metadata": {},
   "outputs": [
    {
     "name": "stdout",
     "output_type": "stream",
     "text": [
      "Deploying boto3_direct workload\n",
      "workflow-wo-dna_vis-ed-direct\n",
      "\n",
      "Deploying wo-dna_vis-ed-direct-visualize\n",
      "Removing old resources\n",
      "Old resources for Removed\n",
      "Creating iam role\n",
      "Resulting Policy ARN: arn:aws:iam::485595969306:role/wo-dna_vis-ed-direct-visualize-policy\n",
      "Creating lambda function\n"
     ]
    },
    {
     "name": "stderr",
     "output_type": "stream",
     "text": [
      "#0 building with \"default\" instance using docker driver\n",
      "\n",
      "#1 [internal] load build definition from Dockerfile\n",
      "#1 transferring dockerfile: 325B done\n",
      "#1 DONE 0.0s\n",
      "\n",
      "#2 [internal] load metadata for public.ecr.aws/lambda/python:3.8\n",
      "#2 DONE 0.2s\n",
      "\n",
      "#3 [internal] load .dockerignore\n",
      "#3 transferring context: 2B done\n",
      "#3 DONE 0.0s\n",
      "\n",
      "#4 [1/6] FROM public.ecr.aws/lambda/python:3.8@sha256:9ae4af1397c3c7ac09aca53cca2621c9fdd5f0a2674f2bf05920888d24883f91\n",
      "#4 DONE 0.0s\n",
      "\n",
      "#5 [internal] load build context\n",
      "#5 transferring context: 108.76kB done\n",
      "#5 DONE 0.0s\n",
      "\n",
      "#6 [2/6] COPY requirements.txt ./\n",
      "#6 CACHED\n",
      "\n",
      "#7 [3/6] RUN pip3 install --no-cache-dir -r requirements.txt\n",
      "#7 CACHED\n",
      "\n",
      "#8 [4/6] COPY app.py ./\n",
      "#8 DONE 0.0s\n",
      "\n",
      "#9 [5/6] COPY src ./src\n",
      "#9 DONE 0.0s\n",
      "\n",
      "#10 [6/6] COPY multi_x_serverless ./multi_x_serverless\n",
      "#10 DONE 0.0s\n",
      "\n",
      "#11 exporting to image\n",
      "#11 exporting layers 0.0s done\n",
      "#11 writing image sha256:fc27a18479f29a61e936116a5238425cedad20cc475fa97239bd4f61fa8e4e5b done\n",
      "#11 naming to docker.io/library/wo-dna_vis-ed-direct-visualize:latest done\n",
      "#11 DONE 0.0s\n",
      "Docker image wo-dna_vis-ed-direct-visualize:latest built successfully.\n",
      "WARNING! Using --password via the CLI is insecure. Use --password-stdin.\n",
      "WARNING! Your password will be stored unencrypted in /home/daniel/.docker/config.json.\n",
      "Configure a credential helper to remove this warning. See\n",
      "https://docs.docker.com/engine/reference/commandline/login/#credentials-store\n",
      "\n"
     ]
    },
    {
     "name": "stdout",
     "output_type": "stream",
     "text": [
      "Login Succeeded\n",
      "The push refers to repository [485595969306.dkr.ecr.us-east-2.amazonaws.com/wo-dna_vis-ed-direct-visualize]\n",
      "ff099a48b25c: Preparing\n",
      "1b64c10ef09e: Preparing\n",
      "a85c2f3154ef: Preparing\n",
      "8e1b406f394f: Preparing\n",
      "3a89be36bfcd: Preparing\n",
      "0a20c8da2344: Preparing\n",
      "05788b7af5ed: Preparing\n",
      "706e59713fa4: Preparing\n",
      "052242efe275: Preparing\n",
      "274a79fec6a9: Preparing\n",
      "6849347e354b: Preparing\n",
      "05788b7af5ed: Waiting\n",
      "706e59713fa4: Waiting\n",
      "052242efe275: Waiting\n",
      "274a79fec6a9: Waiting\n",
      "0a20c8da2344: Waiting\n",
      "6849347e354b: Waiting\n",
      "8e1b406f394f: Layer already exists\n",
      "3a89be36bfcd: Layer already exists\n",
      "0a20c8da2344: Layer already exists\n",
      "05788b7af5ed: Layer already exists\n",
      "052242efe275: Layer already exists\n",
      "706e59713fa4: Layer already exists\n",
      "274a79fec6a9: Layer already exists\n",
      "6849347e354b: Layer already exists\n",
      "a85c2f3154ef: Pushed\n",
      "1b64c10ef09e: Pushed\n",
      "ff099a48b25c: Pushed\n"
     ]
    },
    {
     "name": "stderr",
     "output_type": "stream",
     "text": [
      "Successfully pushed Docker image 485595969306.dkr.ecr.us-east-2.amazonaws.com/wo-dna_vis-ed-direct-visualize:latest to ECR.\n"
     ]
    },
    {
     "name": "stdout",
     "output_type": "stream",
     "text": [
      "latest: digest: sha256:4c58e2814fd8d2211dc1dadf052ca2201821ceb7aa665a888ab65e2b8f8136b2 size: 2624\n",
      "Resulting Function ARN: arn:aws:lambda:us-east-2:485595969306:function:wo-dna_vis-ed-direct-visualize\n",
      "\n",
      "Deploying wo-dna_vis-ed-direct-get_input\n",
      "Removing old resources\n",
      "Old resources for Removed\n",
      "Creating iam role\n",
      "Resulting Policy ARN: arn:aws:iam::485595969306:role/wo-dna_vis-ed-direct-get_input-policy\n",
      "Creating lambda function\n"
     ]
    },
    {
     "name": "stderr",
     "output_type": "stream",
     "text": [
      "#0 building with \"default\" instance using docker driver\n",
      "\n",
      "#1 [internal] load build definition from Dockerfile\n",
      "#1 transferring dockerfile: 325B done\n",
      "#1 DONE 0.0s\n",
      "\n",
      "#2 [internal] load metadata for public.ecr.aws/lambda/python:3.8\n",
      "#2 DONE 0.1s\n",
      "\n",
      "#3 [internal] load .dockerignore\n",
      "#3 transferring context:\n",
      "#3 transferring context: 2B done\n",
      "#3 DONE 0.0s\n",
      "\n",
      "#4 [1/6] FROM public.ecr.aws/lambda/python:3.8@sha256:9ae4af1397c3c7ac09aca53cca2621c9fdd5f0a2674f2bf05920888d24883f91\n",
      "#4 DONE 0.0s\n",
      "\n",
      "#5 [internal] load build context\n",
      "#5 transferring context: 106.67kB done\n",
      "#5 DONE 0.0s\n",
      "\n",
      "#6 [2/6] COPY requirements.txt ./\n",
      "#6 CACHED\n",
      "\n",
      "#7 [3/6] RUN pip3 install --no-cache-dir -r requirements.txt\n",
      "#7 CACHED\n",
      "\n",
      "#8 [4/6] COPY app.py ./\n",
      "#8 DONE 0.0s\n",
      "\n",
      "#9 [5/6] COPY src ./src\n",
      "#9 DONE 0.0s\n",
      "\n",
      "#10 [6/6] COPY multi_x_serverless ./multi_x_serverless\n",
      "#10 DONE 0.0s\n",
      "\n",
      "#11 exporting to image\n",
      "#11 exporting layers 0.0s done\n",
      "#11 writing image sha256:1118d7a328602f35a6ba1a00416a629acbdcc116b625e6cfe99e12c9689c4209 done\n",
      "#11 naming to docker.io/library/wo-dna_vis-ed-direct-get_input:latest done\n",
      "#11 DONE 0.0s\n",
      "Docker image wo-dna_vis-ed-direct-get_input:latest built successfully.\n",
      "WARNING! Using --password via the CLI is insecure. Use --password-stdin.\n",
      "WARNING! Your password will be stored unencrypted in /home/daniel/.docker/config.json.\n",
      "Configure a credential helper to remove this warning. See\n",
      "https://docs.docker.com/engine/reference/commandline/login/#credentials-store\n",
      "\n"
     ]
    },
    {
     "name": "stdout",
     "output_type": "stream",
     "text": [
      "Login Succeeded\n",
      "The push refers to repository [485595969306.dkr.ecr.us-east-2.amazonaws.com/wo-dna_vis-ed-direct-get_input]\n",
      "a332f03f55c4: Preparing\n",
      "ff793b0c6b78: Preparing\n",
      "11c1e1de5b7d: Preparing\n",
      "6fe8485efa46: Preparing\n",
      "34352bc5dfd0: Preparing\n",
      "0a20c8da2344: Preparing\n",
      "05788b7af5ed: Preparing\n",
      "706e59713fa4: Preparing\n",
      "052242efe275: Preparing\n",
      "274a79fec6a9: Preparing\n",
      "6849347e354b: Preparing\n",
      "706e59713fa4: Waiting\n",
      "6849347e354b: Waiting\n",
      "052242efe275: Waiting\n",
      "274a79fec6a9: Waiting\n",
      "0a20c8da2344: Waiting\n",
      "05788b7af5ed: Waiting\n",
      "34352bc5dfd0: Layer already exists\n",
      "6fe8485efa46: Layer already exists\n",
      "0a20c8da2344: Layer already exists\n",
      "05788b7af5ed: Layer already exists\n",
      "706e59713fa4: Layer already exists\n",
      "052242efe275: Layer already exists\n",
      "274a79fec6a9: Layer already exists\n",
      "6849347e354b: Layer already exists\n",
      "11c1e1de5b7d: Pushed\n",
      "ff793b0c6b78: Pushed\n",
      "a332f03f55c4: Pushed\n"
     ]
    },
    {
     "name": "stderr",
     "output_type": "stream",
     "text": [
      "Successfully pushed Docker image 485595969306.dkr.ecr.us-east-2.amazonaws.com/wo-dna_vis-ed-direct-get_input:latest to ECR.\n"
     ]
    },
    {
     "name": "stdout",
     "output_type": "stream",
     "text": [
      "latest: digest: sha256:f99057dffa33a529ca8bea8a2700588d06e1bfe6b9330f03395d2e5a25f8131d size: 2623\n",
      "Resulting Function ARN: arn:aws:lambda:us-east-2:485595969306:function:wo-dna_vis-ed-direct-get_input\n",
      "Completed deployment of workflow-wo-dna_vis-ed-direct\n",
      "\n",
      "\n"
     ]
    },
    {
     "data": {
      "text/plain": [
       "True"
      ]
     },
     "execution_count": 12,
     "metadata": {},
     "output_type": "execute_result"
    }
   ],
   "source": [
    "dna_vis_direct_calls_dir = \"./dna_visualization/external_database/boto3_only_direct_calls\" # Boto3 only direct calls\n",
    "deployment_utility.deploy_experiment(dna_vis_direct_calls_dir)"
   ]
  },
  {
   "cell_type": "markdown",
   "metadata": {},
   "source": [
    "#### Boto3 SNS calls"
   ]
  },
  {
   "cell_type": "code",
   "execution_count": 13,
   "metadata": {},
   "outputs": [
    {
     "name": "stdout",
     "output_type": "stream",
     "text": [
      "Deploying boto3_sns workload\n",
      "workflow-wo-dna_vis-ed-direct_sns\n",
      "\n",
      "Deploying wo-dna_vis-ed-direct_sns-visualize\n",
      "Removing old resources\n",
      "Old resources for Removed\n",
      "Creating iam role\n",
      "Resulting Policy ARN: arn:aws:iam::485595969306:role/wo-dna_vis-ed-direct_sns-visualize-policy\n",
      "Creating lambda function\n"
     ]
    },
    {
     "name": "stderr",
     "output_type": "stream",
     "text": [
      "#0 building with \"default\" instance using docker driver\n",
      "\n",
      "#1 [internal] load build definition from Dockerfile\n",
      "#1 transferring dockerfile: 325B done\n",
      "#1 DONE 0.0s\n",
      "\n",
      "#2 [internal] load metadata for public.ecr.aws/lambda/python:3.8\n",
      "#2 DONE 0.2s\n",
      "\n",
      "#3 [internal] load .dockerignore\n",
      "#3 transferring context: 2B done\n",
      "#3 DONE 0.0s\n",
      "\n",
      "#4 [1/6] FROM public.ecr.aws/lambda/python:3.8@sha256:9ae4af1397c3c7ac09aca53cca2621c9fdd5f0a2674f2bf05920888d24883f91\n",
      "#4 DONE 0.0s\n",
      "\n",
      "#5 [internal] load build context\n",
      "#5 transferring context: 108.84kB done\n",
      "#5 DONE 0.0s\n",
      "\n",
      "#6 [2/6] COPY requirements.txt ./\n",
      "#6 CACHED\n",
      "\n",
      "#7 [3/6] RUN pip3 install --no-cache-dir -r requirements.txt\n",
      "#7 CACHED\n",
      "\n",
      "#8 [4/6] COPY app.py ./\n",
      "#8 DONE 0.0s\n",
      "\n",
      "#9 [5/6] COPY src ./src\n",
      "#9 DONE 0.0s\n",
      "\n",
      "#10 [6/6] COPY multi_x_serverless ./multi_x_serverless\n",
      "#10 DONE 0.0s\n",
      "\n",
      "#11 exporting to image\n",
      "#11 exporting layers 0.0s done\n",
      "#11 writing image sha256:9efb8bef44800ec686158f8c041b0313792f0fde8e230f630aa739071bd3e107 done\n",
      "#11 naming to docker.io/library/wo-dna_vis-ed-direct_sns-visualize:latest done\n",
      "#11 DONE 0.0s\n",
      "Docker image wo-dna_vis-ed-direct_sns-visualize:latest built successfully.\n",
      "WARNING! Using --password via the CLI is insecure. Use --password-stdin.\n",
      "WARNING! Your password will be stored unencrypted in /home/daniel/.docker/config.json.\n",
      "Configure a credential helper to remove this warning. See\n",
      "https://docs.docker.com/engine/reference/commandline/login/#credentials-store\n",
      "\n"
     ]
    },
    {
     "name": "stdout",
     "output_type": "stream",
     "text": [
      "Login Succeeded\n",
      "The push refers to repository [485595969306.dkr.ecr.us-east-2.amazonaws.com/wo-dna_vis-ed-direct_sns-visualize]\n",
      "55a8a8f9310d: Preparing\n",
      "b44f79ea1cdc: Preparing\n",
      "e3c6852c69dd: Preparing\n",
      "8e1b406f394f: Preparing\n",
      "3a89be36bfcd: Preparing\n",
      "0a20c8da2344: Preparing\n",
      "05788b7af5ed: Preparing\n",
      "706e59713fa4: Preparing\n",
      "052242efe275: Preparing\n",
      "274a79fec6a9: Preparing\n",
      "6849347e354b: Preparing\n",
      "05788b7af5ed: Waiting\n",
      "706e59713fa4: Waiting\n",
      "052242efe275: Waiting\n",
      "274a79fec6a9: Waiting\n",
      "6849347e354b: Waiting\n",
      "0a20c8da2344: Waiting\n",
      "8e1b406f394f: Layer already exists\n",
      "3a89be36bfcd: Layer already exists\n",
      "05788b7af5ed: Layer already exists\n",
      "0a20c8da2344: Layer already exists\n",
      "052242efe275: Layer already exists\n",
      "706e59713fa4: Layer already exists\n",
      "6849347e354b: Layer already exists\n",
      "274a79fec6a9: Layer already exists\n",
      "b44f79ea1cdc: Pushed\n",
      "e3c6852c69dd: Pushed\n",
      "55a8a8f9310d: Pushed\n"
     ]
    },
    {
     "name": "stderr",
     "output_type": "stream",
     "text": [
      "Successfully pushed Docker image 485595969306.dkr.ecr.us-east-2.amazonaws.com/wo-dna_vis-ed-direct_sns-visualize:latest to ECR.\n"
     ]
    },
    {
     "name": "stdout",
     "output_type": "stream",
     "text": [
      "latest: digest: sha256:8d71d31ad66c28d903da230b6c84bc2ec063b76d1895e96e86712a24817dc694 size: 2624\n",
      "Resulting Function ARN: arn:aws:lambda:us-east-2:485595969306:function:wo-dna_vis-ed-direct_sns-visualize\n",
      "Creating sns topic and subscribing lambda function\n",
      "Resulting Topic ARN: arn:aws:sns:us-east-2:485595969306:wo-dna_vis-ed-direct_sns-visualize-sns_topic\n",
      "Resulting Subscription ARN: arn:aws:sns:us-east-2:485595969306:wo-dna_vis-ed-direct_sns-visualize-sns_topic:b1d6bd5e-1149-4c3d-a89d-6c7e5598c9d0\n",
      "\n",
      "Deploying wo-dna_vis-ed-direct_sns-get_input\n",
      "Removing old resources\n",
      "Old resources for Removed\n",
      "Creating iam role\n",
      "Resulting Policy ARN: arn:aws:iam::485595969306:role/wo-dna_vis-ed-direct_sns-get_input-policy\n",
      "Creating lambda function\n"
     ]
    },
    {
     "name": "stderr",
     "output_type": "stream",
     "text": [
      "#0 building with \"default\" instance using docker driver\n",
      "\n",
      "#1 [internal] load build definition from Dockerfile\n",
      "#1 transferring dockerfile: 325B done\n",
      "#1 DONE 0.0s\n",
      "\n",
      "#2 [internal] load metadata for public.ecr.aws/lambda/python:3.8\n",
      "#2 DONE 0.1s\n",
      "\n",
      "#3 [internal] load .dockerignore\n",
      "#3 transferring context:\n",
      "#3 transferring context: 2B done\n",
      "#3 DONE 0.0s\n",
      "\n",
      "#4 [1/6] FROM public.ecr.aws/lambda/python:3.8@sha256:9ae4af1397c3c7ac09aca53cca2621c9fdd5f0a2674f2bf05920888d24883f91\n",
      "#4 DONE 0.0s\n",
      "\n",
      "#5 [internal] load build context\n",
      "#5 transferring context: 107.14kB done\n",
      "#5 DONE 0.0s\n",
      "\n",
      "#6 [2/6] COPY requirements.txt ./\n",
      "#6 CACHED\n",
      "\n",
      "#7 [3/6] RUN pip3 install --no-cache-dir -r requirements.txt\n",
      "#7 CACHED\n",
      "\n",
      "#8 [4/6] COPY app.py ./\n",
      "#8 DONE 0.0s\n",
      "\n",
      "#9 [5/6] COPY src ./src\n",
      "#9 DONE 0.0s\n",
      "\n",
      "#10 [6/6] COPY multi_x_serverless ./multi_x_serverless\n",
      "#10 DONE 0.0s\n",
      "\n",
      "#11 exporting to image\n",
      "#11 exporting layers 0.0s done\n",
      "#11 writing image sha256:39d309232ec739e1f1f397f537ea52c80998db9938d898e0d06980fde1d7dd8e done\n",
      "#11 naming to docker.io/library/wo-dna_vis-ed-direct_sns-get_input:latest done\n",
      "#11 DONE 0.0s\n",
      "Docker image wo-dna_vis-ed-direct_sns-get_input:latest built successfully.\n",
      "WARNING! Using --password via the CLI is insecure. Use --password-stdin.\n",
      "WARNING! Your password will be stored unencrypted in /home/daniel/.docker/config.json.\n",
      "Configure a credential helper to remove this warning. See\n",
      "https://docs.docker.com/engine/reference/commandline/login/#credentials-store\n",
      "\n"
     ]
    },
    {
     "name": "stdout",
     "output_type": "stream",
     "text": [
      "Login Succeeded\n",
      "The push refers to repository [485595969306.dkr.ecr.us-east-2.amazonaws.com/wo-dna_vis-ed-direct_sns-get_input]\n",
      "f51a8ed27576: Preparing\n",
      "e29f925bb07a: Preparing\n",
      "f590117785db: Preparing\n",
      "6fe8485efa46: Preparing\n",
      "34352bc5dfd0: Preparing\n",
      "0a20c8da2344: Preparing\n",
      "05788b7af5ed: Preparing\n",
      "706e59713fa4: Preparing\n",
      "05788b7af5ed: Waiting\n",
      "0a20c8da2344: Waiting\n",
      "052242efe275: Preparing\n",
      "274a79fec6a9: Preparing\n",
      "6849347e354b: Preparing\n",
      "706e59713fa4: Waiting\n",
      "6849347e354b: Waiting\n",
      "052242efe275: Waiting\n",
      "274a79fec6a9: Waiting\n",
      "34352bc5dfd0: Layer already exists\n",
      "6fe8485efa46: Layer already exists\n",
      "05788b7af5ed: Layer already exists\n",
      "0a20c8da2344: Layer already exists\n",
      "706e59713fa4: Layer already exists\n",
      "052242efe275: Layer already exists\n",
      "274a79fec6a9: Layer already exists\n",
      "6849347e354b: Layer already exists\n",
      "e29f925bb07a: Pushed\n",
      "f590117785db: Pushed\n",
      "f51a8ed27576: Pushed\n"
     ]
    },
    {
     "name": "stderr",
     "output_type": "stream",
     "text": [
      "Successfully pushed Docker image 485595969306.dkr.ecr.us-east-2.amazonaws.com/wo-dna_vis-ed-direct_sns-get_input:latest to ECR.\n"
     ]
    },
    {
     "name": "stdout",
     "output_type": "stream",
     "text": [
      "latest: digest: sha256:2a175bff215b5d1a91c8f55e4d15c602321b373b7834a6a68cad24a81a36aa4c size: 2623\n",
      "Resulting Function ARN: arn:aws:lambda:us-east-2:485595969306:function:wo-dna_vis-ed-direct_sns-get_input\n",
      "Creating sns topic and subscribing lambda function\n",
      "Resulting Topic ARN: arn:aws:sns:us-east-2:485595969306:wo-dna_vis-ed-direct_sns-get_input-sns_topic\n",
      "Resulting Subscription ARN: arn:aws:sns:us-east-2:485595969306:wo-dna_vis-ed-direct_sns-get_input-sns_topic:b132e2f6-25ce-4eb4-99e7-f8f9662b9561\n",
      "Completed deployment of workflow-wo-dna_vis-ed-direct_sns\n",
      "\n",
      "\n"
     ]
    },
    {
     "data": {
      "text/plain": [
       "True"
      ]
     },
     "execution_count": 13,
     "metadata": {},
     "output_type": "execute_result"
    }
   ],
   "source": [
    "dna_vis_sns_calls_dir = \"./dna_visualization/external_database/boto3_only_sns\" # Boto3 only sns calls\n",
    "deployment_utility.deploy_experiment(dna_vis_sns_calls_dir)"
   ]
  },
  {
   "cell_type": "markdown",
   "metadata": {},
   "source": [
    "#### AWS Step Function"
   ]
  },
  {
   "cell_type": "code",
   "execution_count": null,
   "metadata": {},
   "outputs": [],
   "source": [
    "dna_vis_aws_step_functions_dir = \"./dna_visualization/external_database/aws_step_function\" # AWS Step Functions\n",
    "deployment_utility.deploy_experiment(dna_vis_aws_step_functions_dir)"
   ]
  },
  {
   "cell_type": "markdown",
   "metadata": {},
   "source": [
    "#### Multi-X"
   ]
  },
  {
   "cell_type": "markdown",
   "metadata": {},
   "source": [
    "- For MultiX, please set it up according to readme contained in the file. \"./dna_visualization/external_database/multi_x\""
   ]
  }
 ],
 "metadata": {
  "kernelspec": {
   "display_name": "multi-x-serverless--3Mr6ES7-py3.11",
   "language": "python",
   "name": "python3"
  },
  "language_info": {
   "codemirror_mode": {
    "name": "ipython",
    "version": 3
   },
   "file_extension": ".py",
   "mimetype": "text/x-python",
   "name": "python",
   "nbconvert_exporter": "python",
   "pygments_lexer": "ipython3",
   "version": "3.11.7"
  }
 },
 "nbformat": 4,
 "nbformat_minor": 2
}
