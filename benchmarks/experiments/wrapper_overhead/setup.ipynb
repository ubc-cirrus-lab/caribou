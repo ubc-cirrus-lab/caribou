{
 "cells": [
  {
   "cell_type": "markdown",
   "metadata": {},
   "source": [
    "## Setup"
   ]
  },
  {
   "cell_type": "markdown",
   "metadata": {},
   "source": [
    "### Import libraries"
   ]
  },
  {
   "cell_type": "code",
   "execution_count": 1,
   "metadata": {},
   "outputs": [],
   "source": [
    "from benchmarks.experiments.wrapper_overhead.common.deployment_utility import WrapperOverheadDeploymentUtility\n",
    "from benchmarks.experiments.wrapper_overhead.common.file_utility import FileUtility\n",
    "from benchmarks.experiments.wrapper_overhead.common.extended_aws_remote_client import ExtendedAWSRemoteClient\n",
    "from multi_x_serverless.deployment.common.deploy.models.resource import Resource\n",
    "\n",
    "\n",
    "import os\n",
    "import yaml"
   ]
  },
  {
   "cell_type": "markdown",
   "metadata": {},
   "source": [
    "### Setup Common Resources"
   ]
  },
  {
   "cell_type": "code",
   "execution_count": 2,
   "metadata": {},
   "outputs": [],
   "source": [
    "\n",
    "from unittest.mock import MagicMock\n",
    "from multi_x_serverless.deployment.common.deploy.deployment_packager import DeploymentPackager\n",
    "\n",
    "\n",
    "runtime = \"python3.8\"\n",
    "region = 'us-east-2'\n",
    "client: ExtendedAWSRemoteClient = ExtendedAWSRemoteClient(region)\n",
    "file_utility: FileUtility = FileUtility()\n",
    "\n",
    "deployment_utility: WrapperOverheadDeploymentUtility = WrapperOverheadDeploymentUtility(region)\n",
    "config: MagicMock = MagicMock()\n",
    "deployment_packager: DeploymentPackager = DeploymentPackager(config)"
   ]
  },
  {
   "cell_type": "code",
   "execution_count": 3,
   "metadata": {},
   "outputs": [
    {
     "name": "stdout",
     "output_type": "stream",
     "text": [
      "{'config.yml': './dna_visualization/external_database/boto3_only_direct_calls/config.yml'} {'visualize': './dna_visualization/external_database/boto3_only_direct_calls/visualize', 'get_input': './dna_visualization/external_database/boto3_only_direct_calls/get_input'}\n"
     ]
    },
    {
     "data": {
      "text/plain": [
       "{'type': 'boto3_direct',\n",
       " 'workload_name': 'workflow-wo-dna_vis-ed-direct',\n",
       " 'starting_function_name': 'wo-dna_vis-ed-direct-get_input',\n",
       " 'functions': {'wo-dna_vis-ed-direct-visualize': {'function_name': 'wo-dna_vis-ed-direct-visualize',\n",
       "   'iam_policy_name': 'wo-dna_vis-ed-direct-visualize-policy',\n",
       "   'sns_topic_name': 'wo-dna_vis-ed-direct-visualize-sns_topic',\n",
       "   'timeout': 300,\n",
       "   'memory': 512,\n",
       "   'handler': 'app.visualize',\n",
       "   'data_directory_path': './dna_visualization/external_database/boto3_only_direct_calls/visualize',\n",
       "   'iam_policies_content': '{\\n  \"Version\": \"2012-10-17\",\\n  \"Statement\": [\\n    {\\n      \"Action\": [\\n        \"logs:CreateLogGroup\",\\n        \"logs:CreateLogStream\",\\n        \"logs:PutLogEvents\"\\n      ],\\n      \"Resource\": \"arn:aws:logs:*:*:*\",\\n      \"Effect\": \"Allow\"\\n    },\\n    {\\n      \"Action\": [\"dynamodb:GetItem\", \"dynamodb:UpdateItem\"],\\n      \"Resource\": \"arn:aws:dynamodb:*:*:*\",\\n      \"Effect\": \"Allow\"\\n    },\\n    {\\n      \"Action\": [\"s3:GetObject\", \"s3:PutObject\"],\\n      \"Resource\": \"arn:aws:s3:::multi-x-serverless-image-processing-benchmark/*\",\\n      \"Effect\": \"Allow\"\\n    }\\n  ]\\n}\\n',\n",
       "   'additional_docker_commands': None},\n",
       "  'wo-dna_vis-ed-direct-get_input': {'function_name': 'wo-dna_vis-ed-direct-get_input',\n",
       "   'iam_policy_name': 'wo-dna_vis-ed-direct-get_input-policy',\n",
       "   'sns_topic_name': 'wo-dna_vis-ed-direct-get_input-sns_topic',\n",
       "   'timeout': 300,\n",
       "   'memory': 512,\n",
       "   'handler': 'app.get_input',\n",
       "   'data_directory_path': './dna_visualization/external_database/boto3_only_direct_calls/get_input',\n",
       "   'iam_policies_content': '{\\n  \"aws\": {\\n    \"Version\": \"2012-10-17\",\\n    \"Statement\": [\\n      {\\n        \"Action\": [\\n          \"logs:CreateLogGroup\",\\n          \"logs:CreateLogStream\",\\n          \"logs:PutLogEvents\"\\n        ],\\n        \"Resource\": \"arn:aws:logs:*:*:*\",\\n        \"Effect\": \"Allow\"\\n      },\\n      {\\n        \"Action\": [\"lambda:InvokeFunction\"],\\n        \"Resource\": \"*\",\\n        \"Effect\": \"Allow\"\\n      }\\n    ]\\n  }\\n}\\n',\n",
       "   'additional_docker_commands': None}}}"
      ]
     },
     "execution_count": 3,
     "metadata": {},
     "output_type": "execute_result"
    }
   ],
   "source": [
    "dna_vis_direct_calls_dir = './dna_visualization/external_database/boto3_only_direct_calls' # Boto3 only direct calls\n",
    "\n",
    "config = file_utility.get_config(dna_vis_direct_calls_dir)\n",
    "\n",
    "config"
   ]
  },
  {
   "cell_type": "code",
   "execution_count": 4,
   "metadata": {},
   "outputs": [
    {
     "name": "stdout",
     "output_type": "stream",
     "text": [
      "{'config.yml': './dna_visualization/external_database/boto3_only_direct_calls/config.yml'} {'visualize': './dna_visualization/external_database/boto3_only_direct_calls/visualize', 'get_input': './dna_visualization/external_database/boto3_only_direct_calls/get_input'}\n"
     ]
    },
    {
     "ename": "KeyError",
     "evalue": "'experiment_type'",
     "output_type": "error",
     "traceback": [
      "\u001b[0;31m---------------------------------------------------------------------------\u001b[0m",
      "\u001b[0;31mKeyError\u001b[0m                                  Traceback (most recent call last)",
      "Cell \u001b[0;32mIn[4], line 3\u001b[0m\n\u001b[1;32m      1\u001b[0m dna_vis_direct_calls_dir \u001b[38;5;241m=\u001b[39m \u001b[38;5;124m'\u001b[39m\u001b[38;5;124m./dna_visualization/external_database/boto3_only_direct_calls\u001b[39m\u001b[38;5;124m'\u001b[39m \u001b[38;5;66;03m# Boto3 only direct calls\u001b[39;00m\n\u001b[0;32m----> 3\u001b[0m \u001b[43mdeployment_utility\u001b[49m\u001b[38;5;241;43m.\u001b[39;49m\u001b[43mdeploy_experiment\u001b[49m\u001b[43m(\u001b[49m\u001b[43mdna_vis_direct_calls_dir\u001b[49m\u001b[43m)\u001b[49m\n",
      "File \u001b[0;32m~/multi-x-serverless/benchmarks/experiments/wrapper_overhead/common/deployment_utility.py:27\u001b[0m, in \u001b[0;36mWrapperOverheadDeploymentUtility.deploy_experiment\u001b[0;34m(self, directory_path)\u001b[0m\n\u001b[1;32m     24\u001b[0m config \u001b[38;5;241m=\u001b[39m \u001b[38;5;28mself\u001b[39m\u001b[38;5;241m.\u001b[39m_file_utility\u001b[38;5;241m.\u001b[39mget_config(directory_path)\n\u001b[1;32m     26\u001b[0m \u001b[38;5;28;01mif\u001b[39;00m config \u001b[38;5;241m!=\u001b[39m {}:\n\u001b[0;32m---> 27\u001b[0m     experiment_type \u001b[38;5;241m=\u001b[39m \u001b[43mconfig\u001b[49m\u001b[43m[\u001b[49m\u001b[38;5;124;43m'\u001b[39;49m\u001b[38;5;124;43mexperiment_type\u001b[39;49m\u001b[38;5;124;43m'\u001b[39;49m\u001b[43m]\u001b[49m\n\u001b[1;32m     28\u001b[0m     \u001b[38;5;28;01mif\u001b[39;00m experiment_type \u001b[38;5;241m==\u001b[39m \u001b[38;5;124m'\u001b[39m\u001b[38;5;124mboto3_direct\u001b[39m\u001b[38;5;124m'\u001b[39m \u001b[38;5;129;01mor\u001b[39;00m experiment_type \u001b[38;5;241m==\u001b[39m \u001b[38;5;124m'\u001b[39m\u001b[38;5;124mboto3_sns\u001b[39m\u001b[38;5;124m'\u001b[39m:\n\u001b[1;32m     29\u001b[0m         \u001b[38;5;28;01mreturn\u001b[39;00m \u001b[38;5;28mself\u001b[39m\u001b[38;5;241m.\u001b[39m_deploy_lambda_functions(config)\n",
      "\u001b[0;31mKeyError\u001b[0m: 'experiment_type'"
     ]
    }
   ],
   "source": [
    "dna_vis_direct_calls_dir = './dna_visualization/external_database/boto3_only_direct_calls' # Boto3 only direct calls\n",
    "\n",
    "deployment_utility.deploy_experiment(dna_vis_direct_calls_dir)"
   ]
  },
  {
   "cell_type": "code",
   "execution_count": 3,
   "metadata": {},
   "outputs": [
    {
     "data": {
      "text/plain": [
       "{'experiment_type': 'boto3_direct',\n",
       " 'functions': {'wo-dna_vis-ed-direct-visualize': {'function_name': 'wo-dna_vis-ed-direct-visualize',\n",
       "   'iam_policy_name': 'wo-dna_vis-ed-direct-visualize-policy',\n",
       "   'sns_topic_name': 'wo-dna_vis-ed-direct-visualize-sns_topic',\n",
       "   'timeout': 300,\n",
       "   'memory': 512,\n",
       "   'handler': 'app.visualize',\n",
       "   'runtime': 'python3.8',\n",
       "   'data_directory_path': './dna_visualization/external_database/boto3_only_direct_calls/visualize',\n",
       "   'iam_policies_content': '{\\n  \"Version\": \"2012-10-17\",\\n  \"Statement\": [\\n    {\\n      \"Action\": [\\n        \"logs:CreateLogGroup\",\\n        \"logs:CreateLogStream\",\\n        \"logs:PutLogEvents\"\\n      ],\\n      \"Resource\": \"arn:aws:logs:*:*:*\",\\n      \"Effect\": \"Allow\"\\n    },\\n    {\\n      \"Action\": [\"dynamodb:GetItem\", \"dynamodb:UpdateItem\"],\\n      \"Resource\": \"arn:aws:dynamodb:*:*:*\",\\n      \"Effect\": \"Allow\"\\n    },\\n    {\\n      \"Action\": [\"s3:GetObject\", \"s3:PutObject\"],\\n      \"Resource\": \"arn:aws:s3:::multi-x-serverless-image-processing-benchmark/*\",\\n      \"Effect\": \"Allow\"\\n    }\\n  ]\\n}\\n',\n",
       "   'additional_docker_commands': ['yum update -y',\n",
       "    'yum install -y tar gzip',\n",
       "    'yum install -y xz',\n",
       "    'curl https://johnvansickle.com/ffmpeg/releases/ffmpeg-release-amd64-static.tar.xz > /tmp/ffmpeg-release.tar.xz',\n",
       "    'tar xvf /tmp/ffmpeg-release.tar.xz -C /opt',\n",
       "    'mv /opt/ffmpeg-* /opt/ffmpeg',\n",
       "    'cd /opt/ffmpeg',\n",
       "    'mv model /usr/local/share',\n",
       "    'mv ffmpeg ffprobe qt-faststart /usr/local/bin',\n",
       "    'rm /tmp/ffmpeg-release.tar.xz']},\n",
       "  'wo-dna_vis-ed-direct-get_input': {'function_name': 'wo-dna_vis-ed-direct-get_input',\n",
       "   'iam_policy_name': 'wo-dna_vis-ed-direct-get_input-policy',\n",
       "   'sns_topic_name': 'wo-dna_vis-ed-direct-get_input-sns_topic',\n",
       "   'timeout': 300,\n",
       "   'memory': 512,\n",
       "   'handler': 'app.get_input',\n",
       "   'runtime': 'python3.8',\n",
       "   'data_directory_path': './dna_visualization/external_database/boto3_only_direct_calls/get_input',\n",
       "   'iam_policies_content': '{\\n  \"aws\": {\\n    \"Version\": \"2012-10-17\",\\n    \"Statement\": [\\n      {\\n        \"Action\": [\\n          \"logs:CreateLogGroup\",\\n          \"logs:CreateLogStream\",\\n          \"logs:PutLogEvents\"\\n        ],\\n        \"Resource\": \"arn:aws:logs:*:*:*\",\\n        \"Effect\": \"Allow\"\\n      },\\n      {\\n        \"Action\": [\"lambda:InvokeFunction\"],\\n        \"Resource\": \"*\",\\n        \"Effect\": \"Allow\"\\n      }\\n    ]\\n  }\\n}\\n',\n",
       "   'additional_docker_commands': None}}}"
      ]
     },
     "execution_count": 3,
     "metadata": {},
     "output_type": "execute_result"
    }
   ],
   "source": []
  },
  {
   "cell_type": "code",
   "execution_count": 9,
   "metadata": {},
   "outputs": [
    {
     "name": "stdout",
     "output_type": "stream",
     "text": [
      "Experiment type: boto3_direct\n",
      "Zip path: ./dna_visualization/external_database/boto3_only_direct_calls/visualize/.multi-x-serverless/deployment-packages/267ccfcd05a141cb69c11c21e335a329f1e10af416dea5bf5e572b345e417872-python3.8-wo-dna_vis-ed-direct-visualize-1.0.0.zip\n",
      "SNS Topic ARN: arn:aws:sns:us-east-2:485595969306:wo-dna_vis-ed-direct-visualize-sns_topic\n",
      "Subscription ARN: arn:aws:sns:us-east-2:485595969306:wo-dna_vis-ed-direct-visualize-sns_topic:a876c935-0927-4974-9ba9-8631ae7d8079\n"
     ]
    }
   ],
   "source": [
    "\n",
    "import json\n",
    "\n",
    "\n",
    "\n",
    "\n",
    "dna_vis_direct_calls_dir = './dna_visualization/external_database/boto3_only_direct_calls' # Boto3 only direct calls\n",
    "\n",
    "files_dict, directories_dict = file_utility.get_files_and_directories(dna_vis_direct_calls_dir)\n",
    "# For the files list, find the files that end with config.yaml\n",
    "# If the file is found, then read the file and print the content\n",
    "\n",
    "if 'config.yml' in files_dict:\n",
    "    config_content = file_utility.load_yaml_file(files_dict['config.yml'])\n",
    "    experiment_type = config_content['type']\n",
    "    print(f'Experiment type: {experiment_type}')\n",
    "\n",
    "    # Step 1: Go through all the folders in the directory_path\n",
    "    # Those are the lambda functions that need to be deployed\n",
    "    for folder_path in directories_dict.values():\n",
    "        inner_files_dict, inner_directories_dict = file_utility.get_files_and_directories(folder_path)\n",
    "\n",
    "        require_sns = False\n",
    "        # print(inner_files_dict)\n",
    "        # Step 2: For each folder, access the config to get the configuration\n",
    "        # (this may also determine if sns is used) and iam policies files\n",
    "        config_content = {}\n",
    "        iam_policies_content = {}\n",
    "        if 'configs' in inner_directories_dict:\n",
    "            config_files_dict, _ = file_utility.get_files_and_directories(inner_directories_dict['configs'])\n",
    "\n",
    "            # Load the config file\n",
    "            if 'config.yml' in config_files_dict:\n",
    "                config_content = file_utility.load_yaml_file(config_files_dict['config.yml'])\n",
    "                # print(config_content)\n",
    "            else:\n",
    "                raise ValueError('config.yml not found in the configs directory')\n",
    "            \n",
    "            # Load the iam policies file\n",
    "            if 'iam_policy.json' in config_files_dict:\n",
    "                iam_policies_content = file_utility.load_yaml_file(config_files_dict['iam_policy.json'])\n",
    "                # print(iam_policies_content)\n",
    "            else:\n",
    "                raise ValueError('iam_policy.json not found in the configs directory')\n",
    "        else:\n",
    "            raise ValueError('configs directory not found')\n",
    "        \n",
    "        # Lets get the path to the app.py and requirements.txt\n",
    "        app_file_path = None\n",
    "        requirements_file_path = None\n",
    "        if 'app.py' in inner_files_dict:\n",
    "            app_file_path = inner_files_dict['app.py']\n",
    "        else:\n",
    "            raise ValueError('app.py not found in the directory')\n",
    "        \n",
    "        if 'requirements.txt' in inner_files_dict:\n",
    "            requirements_file_path = inner_files_dict['requirements.txt']\n",
    "        else:\n",
    "            raise ValueError('requirements.txt not found in the directory')\n",
    "        \n",
    "        # print(f'App file path: {app_file_path}')\n",
    "        # print(f'Requirements file path: {requirements_file_path}')\n",
    "\n",
    "        # At this point we have both a valid config and iam policy file\n",
    "        # We can now deploy the lambda function\n",
    "        function_name = config_content['function_name']\n",
    "        iam_policy_name = f'{function_name}-policy'\n",
    "\n",
    "        # print(f'Function name: {function_name}')\n",
    "        # print(f'IAM Policy name: {iam_policy_name}')\n",
    "        # print(f'Image name: {image_name}')\n",
    "\n",
    "        # # Check if function and iam policy exists\n",
    "        # # If it does, delete the old function and iam policy\n",
    "        # if client.resource_exists(Resource(function_name, \"function\")):\n",
    "        #     print(f'Deleting old lambda function: {function_name}')\n",
    "        #     client.remove_function(function_name)\n",
    "        # if client.resource_exists(Resource(iam_policy_name, \"iam_role\")):\n",
    "        #     print(f'Deleting old IAM policy: {iam_policy_name}')\n",
    "        #     client.remove_role(iam_policy_name)\n",
    "\n",
    "        # Create new lambda function\n",
    "        timeout = config_content['configs']['timeout']\n",
    "        memory = config_content['configs']['memory']\n",
    "        handler = config_content['handler']\n",
    "        runtime = \"python3.8\"\n",
    "        app_file_path # -> path to the app.py\n",
    "        requirements_file_path # -> path to the requirements.txt\n",
    "\n",
    "\n",
    "        # First lets print all the variables\n",
    "        # print(f'Function name: {function_name}')\n",
    "        # print(f'IAM Policy name: {iam_policy_name}')\n",
    "        # print(f'Handler: {handler}')\n",
    "        # print(f'Runtime: {runtime}')\n",
    "        # print(f'App file path: {app_file_path}')\n",
    "        # print(f'Requirements file path: {requirements_file_path}')\n",
    "        # print(f'Timeout: {timeout}')\n",
    "        # print(f'Memory: {memory}')\n",
    "\n",
    "        # policy_arn = client.create_role(iam_policy_name, json.dumps(iam_policies_content), lambda_trust_policy)\n",
    "        # print(f'Policy ARN: {policy_arn}')\n",
    "        # break \n",
    "        policy_arn = \"arn:aws:iam::485595969306:role/wo-dna_vis-ed-direct-visualize-policy\"\n",
    "\n",
    "        # Experiment type: boto3_direct\n",
    "        # Function name: wo-dna_vis-ed-direct-visualize\n",
    "        # IAM Policy name: wo-dna_vis-ed-direct-visualize-policy\n",
    "        # Handler: app.visualize\n",
    "        # Runtime: python3.8\n",
    "        # App file path: ./dna_visualization/external_database/boto3_only_direct_calls/visualize/app.py\n",
    "        # Requirements file path: ./dna_visualization/external_database/boto3_only_direct_calls/visualize/requirement.txt\n",
    "        # Timeout: 300\n",
    "        # Memory: 512\n",
    "        # Also have iam_policies_content (or path if needed)\n",
    "\n",
    "        # put_role_policy(self, role_name: str, policy_name: str, policy_document: str)\n",
    "        # create_role(self, role_name: str, policy: str, trust_policy: dict)\n",
    "        \n",
    "        # Get the parent directory of the app file\n",
    "        # parent_directory = os.path.dirname(app_file_path)\n",
    "        # # print(f'Parent directory: {parent_directory}')\n",
    "\n",
    "        # config.workflow_name = function_name\n",
    "        # config.workflow_version = \"1.0.0\"\n",
    "        # zip_path = deployment_packager._create_deployment_package(parent_directory, \"python3.8\")\n",
    "        # print(f'Zip path: {zip_path}')\n",
    "\n",
    "        # with open(zip_path, 'rb') as f:\n",
    "        #     zip_contents = f.read()\n",
    "    \n",
    "        # function_arn = client.create_function(\n",
    "        #     function_name = function_name,\n",
    "        #     role_identifier = policy_arn,\n",
    "        #     zip_contents = zip_contents,\n",
    "        #     runtime = runtime,\n",
    "        #     handler =  handler,\n",
    "        #     environment_variables = {},\n",
    "        #     timeout = timeout,\n",
    "        #     memory_size = memory\n",
    "        # )\n",
    "\n",
    "        # print(f'Timeout: {}')\n",
    "        # print(f'Memory: {memory}')\n",
    "        function_arn = client.get_lambda_function(function_name)['FunctionArn']\n",
    "        # print(function_arn)\n",
    "        sns_topic_name = f'{function_name}-sns_topic'\n",
    "\n",
    "        # print(f'Function ARN: {function_arn}')\n",
    "        sns_topic_arn = client.create_sns_topic(sns_topic_name)\n",
    "\n",
    "        print(f'SNS Topic ARN: {sns_topic_arn}')\n",
    "\n",
    "        protocol = \"lambda\"\n",
    "        subscriptionArn = client.subscribe_sns_topic(sns_topic_arn, protocol, function_arn)\n",
    "        print(f'Subscription ARN: {subscriptionArn}')\n",
    "\n",
    "        break\n",
    "\n",
    "\n",
    "        # # Create the new function and iam policy\n",
    "        # print(f'Creating new lambda function: {function_name}')\n",
    "        # client.create_function(function_name, config_content['handler'], config_content['runtime'], config_content['role'], config_content['zip_file'])\n",
    "        # print(f'Creating new IAM policy: {iam_policy_name}')\n",
    "        # client.create_role(iam_policy_name, iam_policies_content['policy_document'])\n",
    "\n",
    "\n",
    "\n",
    "\n",
    "        # if require_sns:\n",
    "        #     sns_topic_name = f'{function_name}-sns_topic'\n",
    "        #     # sns_topic_arn = deployment_utility.create_sns_topic(sns_topic_name)\n",
    "        #     # print(f'SNS Topic ARN: {sns_topic_arn}')\n",
    "        #     # deployment_utility.subscribe_lambda_to_sns_topic(function_name, sns_topic_arn)\n",
    "        \n",
    "\n",
    "        # # Step 3: Check if the lambda function and sns topic exists\n",
    "        # # If it does, delete the old lambda function and sns topic\n",
    "\n",
    "\n",
    "\n",
    "        # # print(inner_files_dict, inner_directories_dict)\n",
    "\n",
    "\n",
    "    # Step 4: Create a zip file of the contents of the code and the requirements\n",
    "    \n",
    "    # Step 5: Create the lambda function, with the zip file and the configuration with docker\n",
    "    \n",
    "    # Step 6: And sns topic and subscribe the lambda function to the sns topic (if it requires it)\n",
    "\n",
    "    # Step 7: verify that the lambda function and sns topic are created and correctly subscribed if needed\n",
    "\n",
    "\n",
    "else:\n",
    "    raise ValueError('Invalid experiment type: config.yml not found')"
   ]
  },
  {
   "cell_type": "code",
   "execution_count": 14,
   "metadata": {},
   "outputs": [
    {
     "name": "stdout",
     "output_type": "stream",
     "text": [
      "Experiment type: boto3_direct\n"
     ]
    }
   ],
   "source": [
    "dna_vis_direct_calls_dir = './dna_visualization/external_database/boto3_only_direct_calls' # Boto3 only direct calls\n",
    "\n",
    "files_dict, directories_dict = file_utility.get_files_and_directories(dna_vis_direct_calls_dir)\n",
    "# For the files list, find the files that end with config.yaml\n",
    "# If the file is found, then read the file and print the content\n",
    "\n",
    "if 'config.yml' in files_dict:\n",
    "    config_content = file_utility.load_yaml_file(files_dict['config.yml'])\n",
    "    experiment_type = config_content['type']\n",
    "    print(f'Experiment type: {experiment_type}')\n",
    "else:\n",
    "    raise ValueError('Invalid experiment type: config.yml not found')"
   ]
  },
  {
   "cell_type": "code",
   "execution_count": 7,
   "metadata": {},
   "outputs": [
    {
     "name": "stdout",
     "output_type": "stream",
     "text": [
      "config.yml found\n"
     ]
    }
   ],
   "source": [
    "test_dic = {'config.yml': './dna_visualization/external_database/boto3_only_direct_calls/config.yml'}\n",
    "\n",
    "if \"config.yml\" in test_dic:\n",
    "    print(\"config.yml found\")"
   ]
  },
  {
   "cell_type": "code",
   "execution_count": 4,
   "metadata": {},
   "outputs": [
    {
     "name": "stdout",
     "output_type": "stream",
     "text": [
      "Files:\n",
      "('config.yml', './dna_visualization/external_database/aws_step_function/config.yml')\n",
      "('state_machine.json', './dna_visualization/external_database/aws_step_function/state_machine.json')\n",
      "\n",
      "Directories:\n",
      "('visualize', './dna_visualization/external_database/aws_step_function/visualize')\n",
      "('get_input', './dna_visualization/external_database/aws_step_function/get_input')\n"
     ]
    }
   ],
   "source": [
    "dna_vis_direct_calls_dir = \"./dna_visualization/external_database/boto3_only_direct_calls\" # Boto3 only direct calls\n",
    "dna_vis_sns_calls_dir = \"./dna_visualization/external_database/boto3_only_sns\" # Boto3 only sns calls\n",
    "dna_vis_aws_step_functions_dir = \"./dna_visualization/external_database/aws_step_function\" # AWS Step Functions\n",
    "dna_vis_multi_x_dir = \"./dna_visualization/external_database/multi_x\" # Multix\n",
    "\n",
    "files_list, directories_list = file_utility.get_files_and_directories(dna_vis_aws_step_functions_dir)\n",
    "\n",
    "# Print files and directories\n",
    "print(\"Files:\")\n",
    "for file in files_list.items():\n",
    "    print(file)\n",
    "\n",
    "print(\"\\nDirectories:\")\n",
    "for directory in directories_list.items():\n",
    "    print(directory)"
   ]
  },
  {
   "cell_type": "code",
   "execution_count": 5,
   "metadata": {},
   "outputs": [
    {
     "name": "stdout",
     "output_type": "stream",
     "text": [
      "{'Comment': 'A workflow to visualize DNA sequences.', 'StartAt': 'GetInput', 'States': {'GetInput': {'Type': 'Task', 'Resource': 'wo-dna_vis-ed-step_function-get_input', 'Next': 'Visualize'}, 'Visualize': {'Type': 'Task', 'Resource': 'wo-dna_vis-ed-step_function-visualize', 'End': True}}}\n"
     ]
    }
   ],
   "source": [
    "json_file_path = \"./dna_visualization/external_database/aws_step_function/state_machine.json\"\n",
    "print(file_utility.load_json_file(json_file_path))"
   ]
  },
  {
   "cell_type": "code",
   "execution_count": 6,
   "metadata": {},
   "outputs": [
    {
     "name": "stdout",
     "output_type": "stream",
     "text": [
      "{'type': 'boto3-direct', 'starting_function_name': 'wo-dna_vis-ed-direct-get_input'}\n"
     ]
    }
   ],
   "source": [
    "# Specify the path to your YAML file\n",
    "yaml_file_path = './dna_visualization/external_database/boto3_only_direct_calls/config.yml'\n",
    "\n",
    "print(file_utility.load_yaml_file(yaml_file_path))"
   ]
  },
  {
   "cell_type": "markdown",
   "metadata": {},
   "source": [
    "## Deploy Associated AWS functions"
   ]
  },
  {
   "cell_type": "markdown",
   "metadata": {},
   "source": [
    "### DNA Visualization"
   ]
  },
  {
   "cell_type": "code",
   "execution_count": null,
   "metadata": {},
   "outputs": [],
   "source": []
  }
 ],
 "metadata": {
  "kernelspec": {
   "display_name": "multi-x-serverless--3Mr6ES7-py3.11",
   "language": "python",
   "name": "python3"
  },
  "language_info": {
   "codemirror_mode": {
    "name": "ipython",
    "version": 3
   },
   "file_extension": ".py",
   "mimetype": "text/x-python",
   "name": "python",
   "nbconvert_exporter": "python",
   "pygments_lexer": "ipython3",
   "version": "3.11.7"
  }
 },
 "nbformat": 4,
 "nbformat_minor": 2
}
