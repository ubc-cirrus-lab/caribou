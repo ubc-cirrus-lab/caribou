{
 "cells": [
  {
   "cell_type": "markdown",
   "metadata": {},
   "source": [
    "## Setup"
   ]
  },
  {
   "cell_type": "markdown",
   "metadata": {},
   "source": [
    "### Import libraries"
   ]
  },
  {
   "cell_type": "code",
   "execution_count": 1,
   "metadata": {},
   "outputs": [],
   "source": [
    "from benchmarks.experiments.wrapper_overhead.common.deployment_utility import WrapperOverheadDeploymentUtility"
   ]
  },
  {
   "cell_type": "markdown",
   "metadata": {},
   "source": [
    "### Setup Common Resources"
   ]
  },
  {
   "cell_type": "code",
   "execution_count": 2,
   "metadata": {},
   "outputs": [],
   "source": [
    "region = 'us-east-2'\n",
    "deployment_utility: WrapperOverheadDeploymentUtility = WrapperOverheadDeploymentUtility(region)"
   ]
  },
  {
   "cell_type": "markdown",
   "metadata": {},
   "source": [
    "## Deploy Associated AWS functions"
   ]
  },
  {
   "cell_type": "markdown",
   "metadata": {},
   "source": [
    "### DNA Visualization"
   ]
  },
  {
   "cell_type": "markdown",
   "metadata": {},
   "source": [
    "#### Boto3 Direct Calls"
   ]
  },
  {
   "cell_type": "code",
   "execution_count": 4,
   "metadata": {},
   "outputs": [
    {
     "name": "stdout",
     "output_type": "stream",
     "text": [
      "Deploying boto3_direct workload\n",
      "workflow-wo-dna_vis-ed-direct\n",
      "\n",
      "Deploying wo-dna_vis-ed-direct-visualize\n",
      "Removing old resources\n",
      "Old resources for Removed\n",
      "Creating iam role\n",
      "Resulting Policy ARN: arn:aws:iam::485595969306:role/wo-dna_vis-ed-direct-visualize-policy\n",
      "Creating lambda function\n"
     ]
    },
    {
     "name": "stderr",
     "output_type": "stream",
     "text": [
      "#0 building with \"default\" instance using docker driver\n",
      "\n",
      "#1 [internal] load build definition from Dockerfile\n",
      "#1 transferring dockerfile: 325B done\n",
      "#1 DONE 0.0s\n",
      "\n",
      "#2 [internal] load metadata for public.ecr.aws/lambda/python:3.8\n",
      "#2 DONE 0.2s\n",
      "\n",
      "#3 [internal] load .dockerignore\n",
      "#3 transferring context: 2B done\n",
      "#3 DONE 0.0s\n",
      "\n",
      "#4 [1/6] FROM public.ecr.aws/lambda/python:3.8@sha256:e2e878efd514d6dfc1664bf38408d05426b2699c94ab114327f7cad328beedbe\n",
      "#4 DONE 0.0s\n",
      "\n",
      "#5 [internal] load build context\n",
      "#5 transferring context: 108.82kB done\n",
      "#5 DONE 0.0s\n",
      "\n",
      "#6 [5/6] COPY src ./src\n",
      "#6 CACHED\n",
      "\n",
      "#7 [3/6] RUN pip3 install --no-cache-dir -r requirements.txt\n",
      "#7 CACHED\n",
      "\n",
      "#8 [4/6] COPY app.py ./\n",
      "#8 CACHED\n",
      "\n",
      "#9 [2/6] COPY requirements.txt ./\n",
      "#9 CACHED\n",
      "\n",
      "#10 [6/6] COPY multi_x_serverless ./multi_x_serverless\n",
      "#10 CACHED\n",
      "\n",
      "#11 exporting to image\n",
      "#11 exporting layers done\n",
      "#11 writing image sha256:ab628f4321e594e7c97d5b010b535162dd1564e410d098f303909720d1dee946 done\n",
      "#11 naming to docker.io/library/wo-dna_vis-ed-direct-visualize:latest done\n",
      "#11 DONE 0.0s\n",
      "Docker image wo-dna_vis-ed-direct-visualize:latest built successfully.\n",
      "WARNING! Using --password via the CLI is insecure. Use --password-stdin.\n",
      "WARNING! Your password will be stored unencrypted in /home/daniel/.docker/config.json.\n",
      "Configure a credential helper to remove this warning. See\n",
      "https://docs.docker.com/engine/reference/commandline/login/#credentials-store\n",
      "\n"
     ]
    },
    {
     "name": "stdout",
     "output_type": "stream",
     "text": [
      "Login Succeeded\n",
      "The push refers to repository [485595969306.dkr.ecr.us-east-2.amazonaws.com/wo-dna_vis-ed-direct-visualize]\n",
      "a4bd2afee604: Preparing\n",
      "d7111ae4e93e: Preparing\n",
      "0353d441e2d0: Preparing\n",
      "1fdd887af25f: Preparing\n",
      "eafcb56910c1: Preparing\n",
      "74637855f7cc: Preparing\n",
      "ad3ac724d2e0: Preparing\n",
      "59e530c8b37a: Preparing\n",
      "31e2451dfd86: Preparing\n",
      "286961768411: Preparing\n",
      "25a97811023e: Preparing\n",
      "74637855f7cc: Waiting\n",
      "ad3ac724d2e0: Waiting\n",
      "59e530c8b37a: Waiting\n",
      "31e2451dfd86: Waiting\n",
      "286961768411: Waiting\n",
      "25a97811023e: Waiting\n",
      "d7111ae4e93e: Pushed\n",
      "eafcb56910c1: Pushed\n",
      "0353d441e2d0: Pushed\n",
      "a4bd2afee604: Pushed\n",
      "31e2451dfd86: Pushed\n",
      "59e530c8b37a: Pushed\n",
      "286961768411: Pushed\n",
      "74637855f7cc: Pushed\n",
      "1fdd887af25f: Pushed\n",
      "ad3ac724d2e0: Pushed\n",
      "25a97811023e: Pushed\n"
     ]
    },
    {
     "name": "stderr",
     "output_type": "stream",
     "text": [
      "Successfully pushed Docker image 485595969306.dkr.ecr.us-east-2.amazonaws.com/wo-dna_vis-ed-direct-visualize:latest to ECR.\n"
     ]
    },
    {
     "name": "stdout",
     "output_type": "stream",
     "text": [
      "latest: digest: sha256:c3098badd42041142e46064ea401d875e35217c3fa69b48bf3230ea20bce0a7f size: 2624\n",
      "Resulting Function ARN: arn:aws:lambda:us-east-2:485595969306:function:wo-dna_vis-ed-direct-visualize\n",
      "\n",
      "Deploying wo-dna_vis-ed-direct-get_input\n",
      "Removing old resources\n",
      "Old resources for Removed\n",
      "Creating iam role\n",
      "Resulting Policy ARN: arn:aws:iam::485595969306:role/wo-dna_vis-ed-direct-get_input-policy\n",
      "Creating lambda function\n"
     ]
    },
    {
     "name": "stderr",
     "output_type": "stream",
     "text": [
      "#0 building with \"default\" instance using docker driver\n",
      "\n",
      "#1 [internal] load build definition from Dockerfile\n",
      "#1 transferring dockerfile: 325B done\n",
      "#1 DONE 0.0s\n",
      "\n",
      "#2 [internal] load metadata for public.ecr.aws/lambda/python:3.8\n",
      "#2 DONE 0.1s\n",
      "\n",
      "#3 [internal] load .dockerignore\n",
      "#3 transferring context: 2B done\n",
      "#3 DONE 0.0s\n",
      "\n",
      "#4 [internal] load build context\n",
      "#4 transferring context: 106.69kB done\n",
      "#4 DONE 0.0s\n",
      "\n",
      "#5 [1/6] FROM public.ecr.aws/lambda/python:3.8@sha256:e2e878efd514d6dfc1664bf38408d05426b2699c94ab114327f7cad328beedbe\n",
      "#5 CACHED\n",
      "\n",
      "#6 [2/6] COPY requirements.txt ./\n",
      "#6 DONE 0.0s\n",
      "\n",
      "#7 [3/6] RUN pip3 install --no-cache-dir -r requirements.txt\n",
      "#7 0.920 Collecting boto3==1.34.43\n",
      "#7 0.985   Downloading boto3-1.34.43-py3-none-any.whl (139 kB)\n",
      "#7 1.004      ━━━━━━━━━━━━━━━━━━━━━━━━━━━━━━━━━━━━━━━ 139.3/139.3 kB 9.4 MB/s eta 0:00:00\n",
      "#7 1.064 Collecting pyyaml==6.0.1\n",
      "#7 1.074   Downloading PyYAML-6.0.1-cp38-cp38-manylinux_2_17_x86_64.manylinux2014_x86_64.whl (736 kB)\n",
      "#7 1.090      ━━━━━━━━━━━━━━━━━━━━━━━━━━━━━━━━━━━━━━ 736.6/736.6 kB 52.3 MB/s eta 0:00:00\n",
      "#7 1.146 Collecting pytz==2024.1\n",
      "#7 1.154   Downloading pytz-2024.1-py2.py3-none-any.whl (505 kB)\n",
      "#7 1.171      ━━━━━━━━━━━━━━━━━━━━━━━━━━━━━━━━━━━━━━ 505.5/505.5 kB 34.5 MB/s eta 0:00:00\n",
      "#7 1.200 Collecting s3transfer<0.11.0,>=0.10.0\n",
      "#7 1.209   Downloading s3transfer-0.10.1-py3-none-any.whl (82 kB)\n",
      "#7 1.211      ━━━━━━━━━━━━━━━━━━━━━━━━━━━━━━━━━━━━━━━ 82.2/82.2 kB 414.5 MB/s eta 0:00:00\n",
      "#7 1.228 Collecting jmespath<2.0.0,>=0.7.1\n",
      "#7 1.237   Downloading jmespath-1.0.1-py3-none-any.whl (20 kB)\n",
      "#7 1.742 Collecting botocore<1.35.0,>=1.34.43\n",
      "#7 1.750   Downloading botocore-1.34.68-py3-none-any.whl (12.0 MB)\n",
      "#7 1.869      ━━━━━━━━━━━━━━━━━━━━━━━━━━━━━━━━━━━━━━━ 12.0/12.0 MB 102.6 MB/s eta 0:00:00\n",
      "#7 1.914 Collecting python-dateutil<3.0.0,>=2.1\n",
      "#7 1.923   Downloading python_dateutil-2.9.0.post0-py2.py3-none-any.whl (229 kB)\n",
      "#7 1.926      ━━━━━━━━━━━━━━━━━━━━━━━━━━━━━━━━━━━━━ 229.9/229.9 kB 332.1 MB/s eta 0:00:00\n",
      "#7 1.975 Collecting urllib3<1.27,>=1.25.4\n",
      "#7 1.984   Downloading urllib3-1.26.18-py2.py3-none-any.whl (143 kB)\n",
      "#7 1.986      ━━━━━━━━━━━━━━━━━━━━━━━━━━━━━━━━━━━━━ 143.8/143.8 kB 469.4 MB/s eta 0:00:00\n",
      "#7 2.101 Collecting six>=1.5\n",
      "#7 2.109   Downloading six-1.16.0-py2.py3-none-any.whl (11 kB)\n",
      "#7 2.181 Installing collected packages: pytz, urllib3, six, pyyaml, jmespath, python-dateutil, botocore, s3transfer, boto3\n",
      "#7 2.832 Successfully installed boto3-1.34.43 botocore-1.34.68 jmespath-1.0.1 python-dateutil-2.9.0.post0 pytz-2024.1 pyyaml-6.0.1 s3transfer-0.10.1 six-1.16.0 urllib3-1.26.18\n",
      "#7 2.832 WARNING: Running pip as the 'root' user can result in broken permissions and conflicting behaviour with the system package manager. It is recommended to use a virtual environment instead: https://pip.pypa.io/warnings/venv\n",
      "#7 2.919 \n",
      "#7 2.919 [notice] A new release of pip is available: 23.0.1 -> 24.0\n",
      "#7 2.919 [notice] To update, run: pip install --upgrade pip\n",
      "#7 DONE 3.0s\n",
      "\n",
      "#8 [4/6] COPY app.py ./\n",
      "#8 DONE 0.0s\n",
      "\n",
      "#9 [5/6] COPY src ./src\n",
      "#9 DONE 0.0s\n",
      "\n",
      "#10 [6/6] COPY multi_x_serverless ./multi_x_serverless\n",
      "#10 DONE 0.0s\n",
      "\n",
      "#11 exporting to image\n",
      "#11 exporting layers\n",
      "#11 exporting layers 0.2s done\n",
      "#11 writing image sha256:e03397cc2f8c22c79ad85547fed886c6df436abd19c39812110164e8c09b5198 done\n",
      "#11 naming to docker.io/library/wo-dna_vis-ed-direct-get_input:latest done\n",
      "#11 DONE 0.2s\n",
      "Docker image wo-dna_vis-ed-direct-get_input:latest built successfully.\n",
      "WARNING! Using --password via the CLI is insecure. Use --password-stdin.\n",
      "WARNING! Your password will be stored unencrypted in /home/daniel/.docker/config.json.\n",
      "Configure a credential helper to remove this warning. See\n",
      "https://docs.docker.com/engine/reference/commandline/login/#credentials-store\n",
      "\n"
     ]
    },
    {
     "name": "stdout",
     "output_type": "stream",
     "text": [
      "Login Succeeded\n",
      "The push refers to repository [485595969306.dkr.ecr.us-east-2.amazonaws.com/wo-dna_vis-ed-direct-get_input]\n",
      "c7fd822af798: Preparing\n",
      "85ce48ab73a1: Preparing\n",
      "2244122f4841: Preparing\n",
      "c809fbb196d5: Preparing\n",
      "d5ec00af5d11: Preparing\n",
      "74637855f7cc: Preparing\n",
      "ad3ac724d2e0: Preparing\n",
      "59e530c8b37a: Preparing\n",
      "31e2451dfd86: Preparing\n",
      "286961768411: Preparing\n",
      "25a97811023e: Preparing\n",
      "ad3ac724d2e0: Waiting\n",
      "59e530c8b37a: Waiting\n",
      "31e2451dfd86: Waiting\n",
      "286961768411: Waiting\n",
      "25a97811023e: Waiting\n",
      "74637855f7cc: Waiting\n",
      "85ce48ab73a1: Pushed\n",
      "2244122f4841: Pushed\n",
      "c7fd822af798: Pushed\n",
      "d5ec00af5d11: Pushed\n",
      "c809fbb196d5: Pushed\n",
      "59e530c8b37a: Pushed\n",
      "31e2451dfd86: Pushed\n",
      "286961768411: Pushed\n",
      "74637855f7cc: Pushed\n",
      "ad3ac724d2e0: Pushed\n",
      "25a97811023e: Pushed\n"
     ]
    },
    {
     "name": "stderr",
     "output_type": "stream",
     "text": [
      "Successfully pushed Docker image 485595969306.dkr.ecr.us-east-2.amazonaws.com/wo-dna_vis-ed-direct-get_input:latest to ECR.\n"
     ]
    },
    {
     "name": "stdout",
     "output_type": "stream",
     "text": [
      "latest: digest: sha256:ddc6e63824ac1fcc6cf95acb533e4f70c7a6b055de95eb6b67cf8cbbc3562703 size: 2623\n",
      "Resulting Function ARN: arn:aws:lambda:us-east-2:485595969306:function:wo-dna_vis-ed-direct-get_input\n",
      "Completed deployment of workflow-wo-dna_vis-ed-direct\n",
      "\n",
      "\n"
     ]
    }
   ],
   "source": [
    "dna_vis_direct_calls_dir = \"./dna_visualization/external_database/boto3_direct\" # Boto3 only direct calls\n",
    "deployment_utility.deploy_experiment(dna_vis_direct_calls_dir)"
   ]
  },
  {
   "cell_type": "markdown",
   "metadata": {},
   "source": [
    "#### Boto3 SNS calls"
   ]
  },
  {
   "cell_type": "code",
   "execution_count": 23,
   "metadata": {},
   "outputs": [
    {
     "name": "stdout",
     "output_type": "stream",
     "text": [
      "Deploying boto3_sns workload\n",
      "workflow-wo-dna_vis-ed-direct_sns\n",
      "\n",
      "Deploying wo-dna_vis-ed-direct_sns-visualize\n",
      "Removing old resources\n",
      "Old resources for Removed\n",
      "Creating iam role\n",
      "Resulting Policy ARN: arn:aws:iam::485595969306:role/wo-dna_vis-ed-direct_sns-visualize-policy\n",
      "Creating lambda function\n"
     ]
    },
    {
     "name": "stderr",
     "output_type": "stream",
     "text": [
      "#0 building with \"default\" instance using docker driver\n",
      "\n",
      "#1 [internal] load build definition from Dockerfile\n",
      "#1 transferring dockerfile: 325B done\n",
      "#1 DONE 0.0s\n",
      "\n",
      "#2 [internal] load metadata for public.ecr.aws/lambda/python:3.8\n",
      "#2 DONE 0.2s\n",
      "\n",
      "#3 [internal] load .dockerignore\n",
      "#3 transferring context: 2B done\n",
      "#3 DONE 0.0s\n",
      "\n",
      "#4 [1/6] FROM public.ecr.aws/lambda/python:3.8@sha256:9ae4af1397c3c7ac09aca53cca2621c9fdd5f0a2674f2bf05920888d24883f91\n",
      "#4 DONE 0.0s\n",
      "\n",
      "#5 [internal] load build context\n",
      "#5 transferring context: 108.89kB done\n",
      "#5 DONE 0.0s\n",
      "\n",
      "#6 [2/6] COPY requirements.txt ./\n",
      "#6 CACHED\n",
      "\n",
      "#7 [3/6] RUN pip3 install --no-cache-dir -r requirements.txt\n",
      "#7 CACHED\n",
      "\n",
      "#8 [4/6] COPY app.py ./\n",
      "#8 DONE 0.0s\n",
      "\n",
      "#9 [5/6] COPY src ./src\n",
      "#9 DONE 0.0s\n",
      "\n",
      "#10 [6/6] COPY multi_x_serverless ./multi_x_serverless\n",
      "#10 DONE 0.0s\n",
      "\n",
      "#11 exporting to image\n",
      "#11 exporting layers 0.0s done\n",
      "#11 writing image sha256:1ce368045b5cc215ce57ce037eae30a97b9bacbf6d1b4118b53a5e77c8cfd6ea done\n",
      "#11 naming to docker.io/library/wo-dna_vis-ed-direct_sns-visualize:latest done\n",
      "#11 DONE 0.0s\n",
      "Docker image wo-dna_vis-ed-direct_sns-visualize:latest built successfully.\n",
      "WARNING! Using --password via the CLI is insecure. Use --password-stdin.\n",
      "WARNING! Your password will be stored unencrypted in /home/daniel/.docker/config.json.\n",
      "Configure a credential helper to remove this warning. See\n",
      "https://docs.docker.com/engine/reference/commandline/login/#credentials-store\n",
      "\n"
     ]
    },
    {
     "name": "stdout",
     "output_type": "stream",
     "text": [
      "Login Succeeded\n",
      "The push refers to repository [485595969306.dkr.ecr.us-east-2.amazonaws.com/wo-dna_vis-ed-direct_sns-visualize]\n",
      "79cde3b2ad05: Preparing\n",
      "119481f27e36: Preparing\n",
      "ae411482cccc: Preparing\n",
      "8e1b406f394f: Preparing\n",
      "3a89be36bfcd: Preparing\n",
      "0a20c8da2344: Preparing\n",
      "05788b7af5ed: Preparing\n",
      "706e59713fa4: Preparing\n",
      "052242efe275: Preparing\n",
      "274a79fec6a9: Preparing\n",
      "6849347e354b: Preparing\n",
      "706e59713fa4: Waiting\n",
      "0a20c8da2344: Waiting\n",
      "05788b7af5ed: Waiting\n",
      "274a79fec6a9: Waiting\n",
      "6849347e354b: Waiting\n",
      "052242efe275: Waiting\n",
      "8e1b406f394f: Layer already exists\n",
      "3a89be36bfcd: Layer already exists\n",
      "05788b7af5ed: Layer already exists\n",
      "0a20c8da2344: Layer already exists\n",
      "706e59713fa4: Layer already exists\n",
      "052242efe275: Layer already exists\n",
      "274a79fec6a9: Layer already exists\n",
      "6849347e354b: Layer already exists\n",
      "ae411482cccc: Pushed\n",
      "119481f27e36: Pushed\n",
      "79cde3b2ad05: Pushed\n"
     ]
    },
    {
     "name": "stderr",
     "output_type": "stream",
     "text": [
      "Successfully pushed Docker image 485595969306.dkr.ecr.us-east-2.amazonaws.com/wo-dna_vis-ed-direct_sns-visualize:latest to ECR.\n"
     ]
    },
    {
     "name": "stdout",
     "output_type": "stream",
     "text": [
      "latest: digest: sha256:b6dc50ee8a0124298f5883b7dbb0c53b72591a6c3ce0c1e0c7ffc91ad812f53a size: 2624\n",
      "Resulting Function ARN: arn:aws:lambda:us-east-2:485595969306:function:wo-dna_vis-ed-direct_sns-visualize\n",
      "Creating sns topic and subscribing lambda function\n",
      "Resulting Topic ARN: arn:aws:sns:us-east-2:485595969306:wo-dna_vis-ed-direct_sns-visualize-sns_topic\n",
      "Resulting Subscription ARN: arn:aws:sns:us-east-2:485595969306:wo-dna_vis-ed-direct_sns-visualize-sns_topic:8f6a0835-cf76-4577-9c33-288cb39b5a5c\n",
      "\n",
      "Deploying wo-dna_vis-ed-direct_sns-get_input\n",
      "Removing old resources\n",
      "Old resources for Removed\n",
      "Creating iam role\n",
      "Resulting Policy ARN: arn:aws:iam::485595969306:role/wo-dna_vis-ed-direct_sns-get_input-policy\n",
      "Creating lambda function\n"
     ]
    },
    {
     "name": "stderr",
     "output_type": "stream",
     "text": [
      "#0 building with \"default\" instance using docker driver\n",
      "\n",
      "#1 [internal] load build definition from Dockerfile\n",
      "#1 transferring dockerfile: 325B done\n",
      "#1 DONE 0.0s\n",
      "\n",
      "#2 [internal] load metadata for public.ecr.aws/lambda/python:3.8\n",
      "#2 DONE 0.1s\n",
      "\n",
      "#3 [internal] load .dockerignore\n",
      "#3 transferring context:\n",
      "#3 transferring context: 2B done\n",
      "#3 DONE 0.0s\n",
      "\n",
      "#4 [1/6] FROM public.ecr.aws/lambda/python:3.8@sha256:9ae4af1397c3c7ac09aca53cca2621c9fdd5f0a2674f2bf05920888d24883f91\n",
      "#4 DONE 0.0s\n",
      "\n",
      "#5 [internal] load build context\n",
      "#5 transferring context: 107.14kB done\n",
      "#5 DONE 0.0s\n",
      "\n",
      "#6 [2/6] COPY requirements.txt ./\n",
      "#6 CACHED\n",
      "\n",
      "#7 [3/6] RUN pip3 install --no-cache-dir -r requirements.txt\n",
      "#7 CACHED\n",
      "\n",
      "#8 [4/6] COPY app.py ./\n",
      "#8 DONE 0.0s\n",
      "\n",
      "#9 [5/6] COPY src ./src\n",
      "#9 DONE 0.0s\n",
      "\n",
      "#10 [6/6] COPY multi_x_serverless ./multi_x_serverless\n",
      "#10 DONE 0.0s\n",
      "\n",
      "#11 exporting to image\n",
      "#11 exporting layers 0.0s done\n",
      "#11 writing image sha256:35df3fdc8e91980b3b28f578c10307496214e394be81e25d200ce332001fcc1c done\n",
      "#11 naming to docker.io/library/wo-dna_vis-ed-direct_sns-get_input:latest done\n",
      "#11 DONE 0.0s\n",
      "Docker image wo-dna_vis-ed-direct_sns-get_input:latest built successfully.\n",
      "WARNING! Using --password via the CLI is insecure. Use --password-stdin.\n",
      "WARNING! Your password will be stored unencrypted in /home/daniel/.docker/config.json.\n",
      "Configure a credential helper to remove this warning. See\n",
      "https://docs.docker.com/engine/reference/commandline/login/#credentials-store\n",
      "\n"
     ]
    },
    {
     "name": "stdout",
     "output_type": "stream",
     "text": [
      "Login Succeeded\n",
      "The push refers to repository [485595969306.dkr.ecr.us-east-2.amazonaws.com/wo-dna_vis-ed-direct_sns-get_input]\n",
      "78ed9b80978c: Preparing\n",
      "4f97db2c5e2b: Preparing\n",
      "5422b33b9934: Preparing\n",
      "6fe8485efa46: Preparing\n",
      "34352bc5dfd0: Preparing\n",
      "0a20c8da2344: Preparing\n",
      "05788b7af5ed: Preparing\n",
      "706e59713fa4: Preparing\n",
      "052242efe275: Preparing\n",
      "274a79fec6a9: Preparing\n",
      "6849347e354b: Preparing\n",
      "05788b7af5ed: Waiting\n",
      "274a79fec6a9: Waiting\n",
      "6849347e354b: Waiting\n",
      "706e59713fa4: Waiting\n",
      "052242efe275: Waiting\n",
      "0a20c8da2344: Waiting\n",
      "34352bc5dfd0: Layer already exists\n",
      "6fe8485efa46: Layer already exists\n",
      "0a20c8da2344: Layer already exists\n",
      "05788b7af5ed: Layer already exists\n",
      "706e59713fa4: Layer already exists\n",
      "052242efe275: Layer already exists\n",
      "274a79fec6a9: Layer already exists\n",
      "6849347e354b: Layer already exists\n",
      "4f97db2c5e2b: Pushed\n",
      "5422b33b9934: Pushed\n",
      "78ed9b80978c: Pushed\n"
     ]
    },
    {
     "name": "stderr",
     "output_type": "stream",
     "text": [
      "Successfully pushed Docker image 485595969306.dkr.ecr.us-east-2.amazonaws.com/wo-dna_vis-ed-direct_sns-get_input:latest to ECR.\n"
     ]
    },
    {
     "name": "stdout",
     "output_type": "stream",
     "text": [
      "latest: digest: sha256:4508bc80b6dfe6d795504f512de73013894ca9e76524646e2f57fc04f06cd529 size: 2623\n",
      "Resulting Function ARN: arn:aws:lambda:us-east-2:485595969306:function:wo-dna_vis-ed-direct_sns-get_input\n",
      "Creating sns topic and subscribing lambda function\n",
      "Resulting Topic ARN: arn:aws:sns:us-east-2:485595969306:wo-dna_vis-ed-direct_sns-get_input-sns_topic\n",
      "Resulting Subscription ARN: arn:aws:sns:us-east-2:485595969306:wo-dna_vis-ed-direct_sns-get_input-sns_topic:182ed0e2-8468-4893-9e6f-c788cf210a2c\n",
      "Completed deployment of workflow-wo-dna_vis-ed-direct_sns\n",
      "\n",
      "\n"
     ]
    },
    {
     "data": {
      "text/plain": [
       "True"
      ]
     },
     "execution_count": 23,
     "metadata": {},
     "output_type": "execute_result"
    }
   ],
   "source": [
    "dna_vis_sns_calls_dir = \"./dna_visualization/external_database/boto3_sns\" # Boto3 only sns calls\n",
    "deployment_utility.deploy_experiment(dna_vis_sns_calls_dir)"
   ]
  },
  {
   "cell_type": "markdown",
   "metadata": {},
   "source": [
    "#### AWS Step Function"
   ]
  },
  {
   "cell_type": "code",
   "execution_count": 24,
   "metadata": {},
   "outputs": [
    {
     "name": "stdout",
     "output_type": "stream",
     "text": [
      "Deploying aws_step_function workload\n",
      "wo-dna_vis-ed-step_function\n",
      "\n",
      "Deploying wo-dna_vis-ed-step_function-visualize\n",
      "Removing old resources\n",
      "Old resources for Removed\n",
      "Creating iam role\n",
      "Resulting Policy ARN: arn:aws:iam::485595969306:role/wo-dna_vis-ed-step_function-visualize-policy\n",
      "Creating lambda function\n"
     ]
    },
    {
     "name": "stderr",
     "output_type": "stream",
     "text": [
      "#0 building with \"default\" instance using docker driver\n",
      "\n",
      "#1 [internal] load build definition from Dockerfile\n",
      "#1 transferring dockerfile: 325B done\n",
      "#1 DONE 0.0s\n",
      "\n",
      "#2 [internal] load metadata for public.ecr.aws/lambda/python:3.8\n",
      "#2 DONE 0.2s\n",
      "\n",
      "#3 [internal] load .dockerignore\n",
      "#3 transferring context: 2B done\n",
      "#3 DONE 0.0s\n",
      "\n",
      "#4 [1/6] FROM public.ecr.aws/lambda/python:3.8@sha256:9ae4af1397c3c7ac09aca53cca2621c9fdd5f0a2674f2bf05920888d24883f91\n",
      "#4 DONE 0.0s\n",
      "\n",
      "#5 [internal] load build context\n",
      "#5 transferring context: 108.89kB done\n",
      "#5 DONE 0.0s\n",
      "\n",
      "#6 [2/6] COPY requirements.txt ./\n",
      "#6 CACHED\n",
      "\n",
      "#7 [3/6] RUN pip3 install --no-cache-dir -r requirements.txt\n",
      "#7 CACHED\n",
      "\n",
      "#8 [4/6] COPY app.py ./\n",
      "#8 DONE 0.0s\n",
      "\n",
      "#9 [5/6] COPY src ./src\n",
      "#9 DONE 0.0s\n",
      "\n",
      "#10 [6/6] COPY multi_x_serverless ./multi_x_serverless\n",
      "#10 DONE 0.0s\n",
      "\n",
      "#11 exporting to image\n",
      "#11 exporting layers 0.0s done\n",
      "#11 writing image sha256:5cfa003e5b36adb2362095ca91d8275ab13197d8337f117f0ec11bfab6959b5c done\n",
      "#11 naming to docker.io/library/wo-dna_vis-ed-step_function-visualize:latest done\n",
      "#11 DONE 0.0s\n",
      "Docker image wo-dna_vis-ed-step_function-visualize:latest built successfully.\n",
      "WARNING! Using --password via the CLI is insecure. Use --password-stdin.\n",
      "WARNING! Your password will be stored unencrypted in /home/daniel/.docker/config.json.\n",
      "Configure a credential helper to remove this warning. See\n",
      "https://docs.docker.com/engine/reference/commandline/login/#credentials-store\n",
      "\n"
     ]
    },
    {
     "name": "stdout",
     "output_type": "stream",
     "text": [
      "Login Succeeded\n",
      "The push refers to repository [485595969306.dkr.ecr.us-east-2.amazonaws.com/wo-dna_vis-ed-step_function-visualize]\n",
      "9df28a6a8d0d: Preparing\n",
      "a8f9a66cb326: Preparing\n",
      "c1e1781d79d8: Preparing\n",
      "8e1b406f394f: Preparing\n",
      "3a89be36bfcd: Preparing\n",
      "0a20c8da2344: Preparing\n",
      "05788b7af5ed: Preparing\n",
      "706e59713fa4: Preparing\n",
      "052242efe275: Preparing\n",
      "274a79fec6a9: Preparing\n",
      "6849347e354b: Preparing\n",
      "05788b7af5ed: Waiting\n",
      "706e59713fa4: Waiting\n",
      "6849347e354b: Waiting\n",
      "052242efe275: Waiting\n",
      "274a79fec6a9: Waiting\n",
      "0a20c8da2344: Waiting\n",
      "3a89be36bfcd: Layer already exists\n",
      "8e1b406f394f: Layer already exists\n",
      "0a20c8da2344: Layer already exists\n",
      "05788b7af5ed: Layer already exists\n",
      "706e59713fa4: Layer already exists\n",
      "052242efe275: Layer already exists\n",
      "6849347e354b: Layer already exists\n",
      "274a79fec6a9: Layer already exists\n",
      "a8f9a66cb326: Pushed\n",
      "c1e1781d79d8: Pushed\n",
      "9df28a6a8d0d: Pushed\n"
     ]
    },
    {
     "name": "stderr",
     "output_type": "stream",
     "text": [
      "Successfully pushed Docker image 485595969306.dkr.ecr.us-east-2.amazonaws.com/wo-dna_vis-ed-step_function-visualize:latest to ECR.\n"
     ]
    },
    {
     "name": "stdout",
     "output_type": "stream",
     "text": [
      "latest: digest: sha256:781efce4e440e1ecaac77033f6960c4cf6b747b6230d89ce49078a46a17766e4 size: 2624\n",
      "Resulting Function ARN: arn:aws:lambda:us-east-2:485595969306:function:wo-dna_vis-ed-step_function-visualize\n",
      "\n",
      "Deploying wo-dna_vis-ed-step_function-get_input\n",
      "Removing old resources\n",
      "Old resources for Removed\n",
      "Creating iam role\n",
      "Resulting Policy ARN: arn:aws:iam::485595969306:role/wo-dna_vis-ed-step_function-get_input-policy\n",
      "Creating lambda function\n"
     ]
    },
    {
     "name": "stderr",
     "output_type": "stream",
     "text": [
      "#0 building with \"default\" instance using docker driver\n",
      "\n",
      "#1 [internal] load build definition from Dockerfile\n",
      "#1 transferring dockerfile: 325B done\n",
      "#1 DONE 0.0s\n",
      "\n",
      "#2 [internal] load metadata for public.ecr.aws/lambda/python:3.8\n",
      "#2 DONE 0.1s\n",
      "\n",
      "#3 [internal] load .dockerignore\n",
      "#3 transferring context: 2B done\n",
      "#3 DONE 0.0s\n",
      "\n",
      "#4 [1/6] FROM public.ecr.aws/lambda/python:3.8@sha256:9ae4af1397c3c7ac09aca53cca2621c9fdd5f0a2674f2bf05920888d24883f91\n",
      "#4 DONE 0.0s\n",
      "\n",
      "#5 [internal] load build context\n",
      "#5 transferring context: 106.27kB done\n",
      "#5 DONE 0.0s\n",
      "\n",
      "#6 [2/6] COPY requirements.txt ./\n",
      "#6 CACHED\n",
      "\n",
      "#7 [3/6] RUN pip3 install --no-cache-dir -r requirements.txt\n",
      "#7 CACHED\n",
      "\n",
      "#8 [4/6] COPY app.py ./\n",
      "#8 DONE 0.0s\n",
      "\n",
      "#9 [5/6] COPY src ./src\n",
      "#9 DONE 0.0s\n",
      "\n",
      "#10 [6/6] COPY multi_x_serverless ./multi_x_serverless\n",
      "#10 DONE 0.0s\n",
      "\n",
      "#11 exporting to image\n",
      "#11 exporting layers 0.0s done\n",
      "#11 writing image sha256:fbbd28bd98bffefaee60116f5bb26663bf76da7c8e809a63dc0cf1b8d0654aed done\n",
      "#11 naming to docker.io/library/wo-dna_vis-ed-step_function-get_input:latest done\n",
      "#11 DONE 0.0s\n",
      "Docker image wo-dna_vis-ed-step_function-get_input:latest built successfully.\n",
      "WARNING! Using --password via the CLI is insecure. Use --password-stdin.\n",
      "WARNING! Your password will be stored unencrypted in /home/daniel/.docker/config.json.\n",
      "Configure a credential helper to remove this warning. See\n",
      "https://docs.docker.com/engine/reference/commandline/login/#credentials-store\n",
      "\n"
     ]
    },
    {
     "name": "stdout",
     "output_type": "stream",
     "text": [
      "Login Succeeded\n",
      "The push refers to repository [485595969306.dkr.ecr.us-east-2.amazonaws.com/wo-dna_vis-ed-step_function-get_input]\n",
      "edbf480faeb2: Preparing\n",
      "e41be327bb84: Preparing\n",
      "52c0086b9e60: Preparing\n",
      "18f3008705b6: Preparing\n",
      "1c58f3f28eec: Preparing\n",
      "0a20c8da2344: Preparing\n",
      "05788b7af5ed: Preparing\n",
      "706e59713fa4: Preparing\n",
      "052242efe275: Preparing\n",
      "274a79fec6a9: Preparing\n",
      "6849347e354b: Preparing\n",
      "706e59713fa4: Waiting\n",
      "052242efe275: Waiting\n",
      "274a79fec6a9: Waiting\n",
      "6849347e354b: Waiting\n",
      "0a20c8da2344: Waiting\n",
      "05788b7af5ed: Waiting\n",
      "18f3008705b6: Layer already exists\n",
      "1c58f3f28eec: Layer already exists\n",
      "0a20c8da2344: Layer already exists\n",
      "05788b7af5ed: Layer already exists\n",
      "052242efe275: Layer already exists\n",
      "706e59713fa4: Layer already exists\n",
      "274a79fec6a9: Layer already exists\n",
      "6849347e354b: Layer already exists\n",
      "52c0086b9e60: Pushed\n",
      "e41be327bb84: Pushed\n",
      "edbf480faeb2: Pushed\n"
     ]
    },
    {
     "name": "stderr",
     "output_type": "stream",
     "text": [
      "Successfully pushed Docker image 485595969306.dkr.ecr.us-east-2.amazonaws.com/wo-dna_vis-ed-step_function-get_input:latest to ECR.\n"
     ]
    },
    {
     "name": "stdout",
     "output_type": "stream",
     "text": [
      "latest: digest: sha256:5cf9292cc0cbf3c6ba258fa8eb229c57739a4a167a9d61dc4ea9c6617d9b486e size: 2623\n",
      "Resulting Function ARN: arn:aws:lambda:us-east-2:485595969306:function:wo-dna_vis-ed-step_function-get_input\n",
      "Completed deployment of wo-dna_vis-ed-step_function\n",
      "\n",
      "\n",
      "Delete role arn\n",
      "Old resources for Removed\n",
      "Creating state machine iam role\n",
      "Resulting Policy ARN: arn:aws:iam::485595969306:role/state_machine-wo-dna_vis-ed-step_function-policy\n",
      "Updating state machine\n",
      "Resulting State Machine ARN: arn:aws:states:us-east-2:485595969306:stateMachine:state_machine-wo-dna_vis-ed-step_function\n",
      "Completed deployment of wo-dna_vis-ed-step_function\n",
      "\n",
      "\n"
     ]
    },
    {
     "data": {
      "text/plain": [
       "True"
      ]
     },
     "execution_count": 24,
     "metadata": {},
     "output_type": "execute_result"
    }
   ],
   "source": [
    "dna_vis_aws_step_functions_dir = \"./dna_visualization/external_database/aws_step_function\" # AWS Step Functions\n",
    "deployment_utility.deploy_experiment(dna_vis_aws_step_functions_dir)"
   ]
  },
  {
   "cell_type": "markdown",
   "metadata": {},
   "source": [
    "#### Multi-X"
   ]
  },
  {
   "cell_type": "code",
   "execution_count": 3,
   "metadata": {},
   "outputs": [
    {
     "name": "stderr",
     "output_type": "stream",
     "text": [
      "Found credentials in environment variables.\n",
      "Found credentials in environment variables.\n"
     ]
    },
    {
     "name": "stdout",
     "output_type": "stream",
     "text": [
      "Deploying multi_x workload\n",
      "wo-dna_vis-ed-multi_x-0_0_2\n"
     ]
    },
    {
     "name": "stderr",
     "output_type": "stream",
     "text": [
      "Found credentials in environment variables.\n",
      "Found credentials in environment variables.\n",
      "Found credentials in environment variables.\n"
     ]
    },
    {
     "name": "stdout",
     "output_type": "stream",
     "text": [
      "Removed workflow wo-dna_vis-ed-multi_x-0_0_2\n"
     ]
    },
    {
     "name": "stderr",
     "output_type": "stream",
     "text": [
      "Deploying workflow wo-dna_vis-ed-multi_x with version 0.0.2\n",
      "Found credentials in environment variables.\n",
      "Building deployment package\n",
      "Building deployment plan\n",
      "Found credentials in environment variables.\n",
      "Found credentials in environment variables.\n",
      "Executing deployment plan\n",
      "Found credentials in environment variables.\n",
      "#0 building with \"default\" instance using docker driver\n",
      "\n",
      "#1 [internal] load build definition from Dockerfile\n",
      "#1 transferring dockerfile: 326B done\n",
      "#1 DONE 0.0s\n",
      "\n",
      "#2 [internal] load metadata for public.ecr.aws/lambda/python:3.11\n",
      "#2 DONE 0.2s\n",
      "\n",
      "#3 [internal] load .dockerignore\n",
      "#3 transferring context: 2B done\n",
      "#3 DONE 0.0s\n",
      "\n",
      "#4 [1/6] FROM public.ecr.aws/lambda/python:3.11@sha256:e330bd08eb6e689d399d275bcd4c41e024dabb1d6917fb8a2bf06ae4e0a22876\n",
      "#4 DONE 0.0s\n",
      "\n",
      "#5 [internal] load build context\n",
      "#5 transferring context: 109.89kB done\n",
      "#5 DONE 0.0s\n",
      "\n",
      "#6 [2/6] COPY requirements.txt ./\n",
      "#6 CACHED\n",
      "\n",
      "#7 [3/6] RUN pip3 install --no-cache-dir -r requirements.txt\n",
      "#7 CACHED\n",
      "\n",
      "#8 [4/6] COPY app.py ./\n",
      "#8 DONE 0.0s\n",
      "\n",
      "#9 [5/6] COPY src ./src\n",
      "#9 DONE 0.0s\n",
      "\n",
      "#10 [6/6] COPY multi_x_serverless ./multi_x_serverless\n",
      "#10 DONE 0.0s\n",
      "\n",
      "#11 exporting to image\n",
      "#11 exporting layers 0.0s done\n",
      "#11 writing image sha256:ff794cceb2994493a3ab4283013fb1180e9a3c128889febd561846c9701284fd done\n",
      "#11 naming to docker.io/library/wo-dna_vis-ed-multi_x-0_0_2-getinput_aws-us-east-2:latest done\n",
      "#11 DONE 0.0s\n",
      "Docker image wo-dna_vis-ed-multi_x-0_0_2-getinput_aws-us-east-2:latest built successfully.\n",
      "WARNING! Using --password via the CLI is insecure. Use --password-stdin.\n",
      "WARNING! Your password will be stored unencrypted in /home/daniel/.docker/config.json.\n",
      "Configure a credential helper to remove this warning. See\n",
      "https://docs.docker.com/engine/reference/commandline/login/#credentials-store\n",
      "\n"
     ]
    },
    {
     "name": "stdout",
     "output_type": "stream",
     "text": [
      "Login Succeeded\n",
      "The push refers to repository [485595969306.dkr.ecr.us-east-2.amazonaws.com/wo-dna_vis-ed-multi_x-0_0_2-getinput_aws-us-east-2]\n",
      "c2135100defa: Preparing\n",
      "163866c5f3b9: Preparing\n",
      "e922c0b5dce3: Preparing\n",
      "c478a1ff5225: Preparing\n",
      "1116e88cf31a: Preparing\n",
      "73985012f706: Preparing\n",
      "206ba18557d7: Preparing\n",
      "706e59713fa4: Preparing\n",
      "4acdd4f61051: Preparing\n",
      "9c79f1260ae3: Preparing\n",
      "6849347e354b: Preparing\n",
      "73985012f706: Waiting\n",
      "206ba18557d7: Waiting\n",
      "706e59713fa4: Waiting\n",
      "4acdd4f61051: Waiting\n",
      "9c79f1260ae3: Waiting\n",
      "6849347e354b: Waiting\n",
      "163866c5f3b9: Pushed\n",
      "1116e88cf31a: Pushed\n",
      "c2135100defa: Pushed\n",
      "e922c0b5dce3: Pushed\n",
      "73985012f706: Pushed\n",
      "4acdd4f61051: Pushed\n",
      "706e59713fa4: Pushed\n",
      "9c79f1260ae3: Pushed\n",
      "c478a1ff5225: Pushed\n",
      "206ba18557d7: Pushed\n",
      "6849347e354b: Pushed\n"
     ]
    },
    {
     "name": "stderr",
     "output_type": "stream",
     "text": [
      "Successfully pushed Docker image 485595969306.dkr.ecr.us-east-2.amazonaws.com/wo-dna_vis-ed-multi_x-0_0_2-getinput_aws-us-east-2:latest to ECR.\n"
     ]
    },
    {
     "name": "stdout",
     "output_type": "stream",
     "text": [
      "latest: digest: sha256:f2f24394bb9a5b1d473cbec5ef4814079b45a00a2cd0534cda17097753edb8c2 size: 2622\n"
     ]
    },
    {
     "name": "stderr",
     "output_type": "stream",
     "text": [
      "#0 building with \"default\" instance using docker driver\n",
      "\n",
      "#1 [internal] load build definition from Dockerfile\n",
      "#1 transferring dockerfile: 326B done\n",
      "#1 DONE 0.0s\n",
      "\n",
      "#2 [internal] load metadata for public.ecr.aws/lambda/python:3.11\n",
      "#2 DONE 0.1s\n",
      "\n",
      "#3 [internal] load .dockerignore\n",
      "#3 transferring context: 2B done\n",
      "#3 DONE 0.0s\n",
      "\n",
      "#4 [1/6] FROM public.ecr.aws/lambda/python:3.11@sha256:e330bd08eb6e689d399d275bcd4c41e024dabb1d6917fb8a2bf06ae4e0a22876\n",
      "#4 DONE 0.0s\n",
      "\n",
      "#5 [internal] load build context\n",
      "#5 transferring context: 109.89kB done\n",
      "#5 DONE 0.0s\n",
      "\n",
      "#6 [5/6] COPY src ./src\n",
      "#6 CACHED\n",
      "\n",
      "#7 [3/6] RUN pip3 install --no-cache-dir -r requirements.txt\n",
      "#7 CACHED\n",
      "\n",
      "#8 [2/6] COPY requirements.txt ./\n",
      "#8 CACHED\n",
      "\n",
      "#9 [4/6] COPY app.py ./\n",
      "#9 CACHED\n",
      "\n",
      "#10 [6/6] COPY multi_x_serverless ./multi_x_serverless\n",
      "#10 CACHED\n",
      "\n",
      "#11 exporting to image\n",
      "#11 exporting layers done\n",
      "#11 writing image sha256:6b618f61c3326b219b4f7e0606a5c458924328a66733c2056c8baa55073daba5 done\n",
      "#11 naming to docker.io/library/wo-dna_vis-ed-multi_x-0_0_2-visualize_aws-us-east-2:latest done\n",
      "#11 DONE 0.0s\n",
      "Docker image wo-dna_vis-ed-multi_x-0_0_2-visualize_aws-us-east-2:latest built successfully.\n",
      "WARNING! Using --password via the CLI is insecure. Use --password-stdin.\n",
      "WARNING! Your password will be stored unencrypted in /home/daniel/.docker/config.json.\n",
      "Configure a credential helper to remove this warning. See\n",
      "https://docs.docker.com/engine/reference/commandline/login/#credentials-store\n",
      "\n"
     ]
    },
    {
     "name": "stdout",
     "output_type": "stream",
     "text": [
      "Login Succeeded\n",
      "The push refers to repository [485595969306.dkr.ecr.us-east-2.amazonaws.com/wo-dna_vis-ed-multi_x-0_0_2-visualize_aws-us-east-2]\n",
      "c2135100defa: Preparing\n",
      "163866c5f3b9: Preparing\n",
      "e922c0b5dce3: Preparing\n",
      "c478a1ff5225: Preparing\n",
      "1116e88cf31a: Preparing\n",
      "73985012f706: Preparing\n",
      "206ba18557d7: Preparing\n",
      "706e59713fa4: Preparing\n",
      "4acdd4f61051: Preparing\n",
      "9c79f1260ae3: Preparing\n",
      "6849347e354b: Preparing\n",
      "73985012f706: Waiting\n",
      "206ba18557d7: Waiting\n",
      "706e59713fa4: Waiting\n",
      "4acdd4f61051: Waiting\n",
      "9c79f1260ae3: Waiting\n",
      "6849347e354b: Waiting\n",
      "e922c0b5dce3: Pushed\n",
      "1116e88cf31a: Pushed\n",
      "163866c5f3b9: Pushed\n",
      "c2135100defa: Pushed\n",
      "4acdd4f61051: Pushed\n",
      "73985012f706: Pushed\n",
      "706e59713fa4: Pushed\n",
      "9c79f1260ae3: Pushed\n",
      "c478a1ff5225: Pushed\n",
      "206ba18557d7: Pushed\n",
      "6849347e354b: Pushed\n"
     ]
    },
    {
     "name": "stderr",
     "output_type": "stream",
     "text": [
      "Successfully pushed Docker image 485595969306.dkr.ecr.us-east-2.amazonaws.com/wo-dna_vis-ed-multi_x-0_0_2-visualize_aws-us-east-2:latest to ECR.\n"
     ]
    },
    {
     "name": "stdout",
     "output_type": "stream",
     "text": [
      "latest: digest: sha256:0092e224bf908abdefcf3f327f99a47e4768e61abe1161a73ee50e585e65bc08 size: 2622\n"
     ]
    },
    {
     "name": "stderr",
     "output_type": "stream",
     "text": [
      "Uploading workflow to configuration server\n",
      "Found credentials in environment variables.\n",
      "Workflow wo-dna_vis-ed-multi_x with version 0.0.2 deployed\n",
      "Workflow id: wo-dna_vis-ed-multi_x-0.0.2\n"
     ]
    },
    {
     "ename": "TypeError",
     "evalue": "'Config' object is not subscriptable",
     "output_type": "error",
     "traceback": [
      "\u001b[0;31m---------------------------------------------------------------------------\u001b[0m",
      "\u001b[0;31mTypeError\u001b[0m                                 Traceback (most recent call last)",
      "Cell \u001b[0;32mIn[3], line 2\u001b[0m\n\u001b[1;32m      1\u001b[0m dna_vis_aws_multi_x_dir \u001b[38;5;241m=\u001b[39m \u001b[38;5;124m\"\u001b[39m\u001b[38;5;124m./dna_visualization/external_database/multi_x\u001b[39m\u001b[38;5;124m\"\u001b[39m \u001b[38;5;66;03m# Multi+x\u001b[39;00m\n\u001b[0;32m----> 2\u001b[0m \u001b[43mdeployment_utility\u001b[49m\u001b[38;5;241;43m.\u001b[39;49m\u001b[43mdeploy_experiment\u001b[49m\u001b[43m(\u001b[49m\u001b[43mdna_vis_aws_multi_x_dir\u001b[49m\u001b[43m)\u001b[49m\n",
      "File \u001b[0;32m~/multi-x-serverless/benchmarks/experiments/wrapper_overhead/common/deployment_utility.py:48\u001b[0m, in \u001b[0;36mWrapperOverheadDeploymentUtility.deploy_experiment\u001b[0;34m(self, directory_path)\u001b[0m\n\u001b[1;32m     46\u001b[0m     \u001b[38;5;28;01mreturn\u001b[39;00m\n\u001b[1;32m     47\u001b[0m \u001b[38;5;28;01melif\u001b[39;00m experiment_type \u001b[38;5;241m==\u001b[39m \u001b[38;5;124m'\u001b[39m\u001b[38;5;124mmulti_x\u001b[39m\u001b[38;5;124m'\u001b[39m:\n\u001b[0;32m---> 48\u001b[0m     \u001b[38;5;28;43mself\u001b[39;49m\u001b[38;5;241;43m.\u001b[39;49m\u001b[43m_multi_x\u001b[49m\u001b[43m(\u001b[49m\u001b[43mconfig\u001b[49m\u001b[43m)\u001b[49m\n\u001b[1;32m     49\u001b[0m     \u001b[38;5;28;01mreturn\u001b[39;00m\n\u001b[1;32m     50\u001b[0m \u001b[38;5;28;01melse\u001b[39;00m:\n",
      "File \u001b[0;32m~/multi-x-serverless/benchmarks/experiments/wrapper_overhead/common/deployment_utility.py:72\u001b[0m, in \u001b[0;36mWrapperOverheadDeploymentUtility._multi_x\u001b[0;34m(self, config)\u001b[0m\n\u001b[1;32m     69\u001b[0m deployer: Deployer \u001b[38;5;241m=\u001b[39m factory\u001b[38;5;241m.\u001b[39mcreate_deployer(config\u001b[38;5;241m=\u001b[39mconfig)\n\u001b[1;32m     70\u001b[0m deployer\u001b[38;5;241m.\u001b[39mdeploy([config\u001b[38;5;241m.\u001b[39mhome_region])\n\u001b[0;32m---> 72\u001b[0m \u001b[38;5;28mprint\u001b[39m(\u001b[38;5;124mf\u001b[39m\u001b[38;5;124m\"\u001b[39m\u001b[38;5;124mCompleted deployment of \u001b[39m\u001b[38;5;132;01m{\u001b[39;00m\u001b[43mconfig\u001b[49m\u001b[43m[\u001b[49m\u001b[38;5;124;43m'\u001b[39;49m\u001b[38;5;124;43mworkload_name\u001b[39;49m\u001b[38;5;124;43m'\u001b[39;49m\u001b[43m]\u001b[49m\u001b[38;5;132;01m}\u001b[39;00m\u001b[38;5;130;01m\\n\u001b[39;00m\u001b[38;5;130;01m\\n\u001b[39;00m\u001b[38;5;124m\"\u001b[39m)\n",
      "\u001b[0;31mTypeError\u001b[0m: 'Config' object is not subscriptable"
     ]
    }
   ],
   "source": [
    "dna_vis_aws_multi_x_dir = \"./dna_visualization/external_database/multi_x\" # Multi+x\n",
    "deployment_utility.deploy_experiment(dna_vis_aws_multi_x_dir)"
   ]
  }
 ],
 "metadata": {
  "kernelspec": {
   "display_name": "multi-x-serverless--3Mr6ES7-py3.11",
   "language": "python",
   "name": "python3"
  },
  "language_info": {
   "codemirror_mode": {
    "name": "ipython",
    "version": 3
   },
   "file_extension": ".py",
   "mimetype": "text/x-python",
   "name": "python",
   "nbconvert_exporter": "python",
   "pygments_lexer": "ipython3",
   "version": "3.11.7"
  }
 },
 "nbformat": 4,
 "nbformat_minor": 2
}
