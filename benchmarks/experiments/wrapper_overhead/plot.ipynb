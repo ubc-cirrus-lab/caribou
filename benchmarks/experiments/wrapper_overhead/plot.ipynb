{
 "cells": [
  {
   "cell_type": "markdown",
   "metadata": {},
   "source": [
    "## Run Experiments"
   ]
  },
  {
   "cell_type": "markdown",
   "metadata": {},
   "source": [
    "### Import libraries"
   ]
  },
  {
   "cell_type": "code",
   "execution_count": 1,
   "metadata": {},
   "outputs": [],
   "source": [
    "from benchmarks.experiments.wrapper_overhead.common.run_utility import WrapperOverheadRunUtility\n",
    "import re"
   ]
  },
  {
   "cell_type": "markdown",
   "metadata": {},
   "source": [
    "### Setup Common Resources"
   ]
  },
  {
   "cell_type": "code",
   "execution_count": 2,
   "metadata": {},
   "outputs": [],
   "source": [
    "region = 'us-east-2'\n",
    "run_utility: WrapperOverheadRunUtility = WrapperOverheadRunUtility(region)\n",
    "\n",
    "times = 1"
   ]
  },
  {
   "cell_type": "code",
   "execution_count": 3,
   "metadata": {},
   "outputs": [
    {
     "name": "stdout",
     "output_type": "stream",
     "text": [
      "Workload Name: workflow-wo-dna_vis-ed-direct_sns\n",
      "Request ID: 758c5963-12a6-4501-aa43-9b9fa96a282e\n",
      "Client Start Time: 2024-03-21 19:00:11,367321+0000\n",
      "First Function Start Time: 2024-03-21 19:00:08,606980+0000\n",
      "Time Taken from workload invocation from client: 92857.007 ms\n",
      "Time Taken from first function: 95617.348 ms\n",
      "Function End Time: 2024-03-21 19:01:44,224328+0000\n"
     ]
    }
   ],
   "source": [
    "import re\n",
    "\n",
    "# Example log entry\n",
    "log_entry = (\"[INFO] 2024-03-21T19:01:44.224Z 69a4c93b-7dd5-4c84-bd1f-16ff6f50b87e Workload Name: workflow-wo-dna_vis-ed-direct_sns, \"\n",
    "             \"Request ID: 758c5963-12a6-4501-aa43-9b9fa96a282e, Client Start Time: 2024-03-21 19:00:11,367321+0000, \"\n",
    "             \"First Function Start Time: 2024-03-21 19:00:08,606980+0000, Time Taken from workload invocation from client: 92857.007 ms, \"\n",
    "             \"Time Taken from first function: 95617.348 ms, Function End Time: 2024-03-21 19:01:44,224328+0000\")\n",
    "\n",
    "# Regular expression to extract the relevant parts of the log entry\n",
    "pattern = re.compile(r\"Workload Name: (.*?), Request ID: (.*?), Client Start Time: (.*?), \"\n",
    "                     r\"First Function Start Time: (.*?), Time Taken from workload invocation from client: (.*?) ms, \"\n",
    "                     r\"Time Taken from first function: (.*?) ms, Function End Time: (.*)\")\n",
    "\n",
    "# Parsing the log entry\n",
    "match = pattern.search(log_entry)\n",
    "if match:\n",
    "    workload_name, req_id, start_time_str, first_function_start_time_str, ms_from_start, ms_from_first_function, final_function_end_time = match.groups()\n",
    "    print(f\"Workload Name: {workload_name}\\nRequest ID: {req_id}\\nClient Start Time: {start_time_str}\\n\"\n",
    "          f\"First Function Start Time: {first_function_start_time_str}\\nTime Taken from workload invocation from client: {ms_from_start} ms\\n\"\n",
    "          f\"Time Taken from first function: {ms_from_first_function} ms\\nFunction End Time: {final_function_end_time}\")\n",
    "else:\n",
    "    print(\"No match found\")\n"
   ]
  },
  {
   "cell_type": "markdown",
   "metadata": {},
   "source": [
    "## Perform Runs for each benchmarks"
   ]
  },
  {
   "cell_type": "markdown",
   "metadata": {},
   "source": [
    "#### Boto3 Direct Calls"
   ]
  },
  {
   "cell_type": "code",
   "execution_count": 4,
   "metadata": {},
   "outputs": [
    {
     "name": "stdout",
     "output_type": "stream",
     "text": [
      "Running boto3_direct workload: workflow-wo-dna_vis-ed-direct\n",
      "Payload: {'gen_file_name': 'small_sequence.gb'}\n",
      "Times: 1\n",
      "Done\n",
      "\n"
     ]
    }
   ],
   "source": [
    "dna_vis_direct_calls_dir = \"./dna_visualization/external_database/boto3_only_direct_calls\" # Boto3 only direct calls\n",
    "run_utility.run_experiment(dna_vis_direct_calls_dir, payload, times)"
   ]
  },
  {
   "cell_type": "markdown",
   "metadata": {},
   "source": [
    "#### Boto3 SNS calls"
   ]
  },
  {
   "cell_type": "code",
   "execution_count": 5,
   "metadata": {},
   "outputs": [
    {
     "name": "stdout",
     "output_type": "stream",
     "text": [
      "Running boto3_sns workload: workflow-wo-dna_vis-ed-direct_sns\n",
      "Payload: {'gen_file_name': 'small_sequence.gb', 'metadata': {'workload_name': 'workflow-wo-dna_vis-ed-direct', 'experiment_type': 'boto3_direct', 'request_id': '6fe96778-7cd8-426d-bd72-4852ba4daa02', 'start_time': '2024-03-21 19:00:10,374521+0000'}}\n",
      "Times: 1\n",
      "Done\n",
      "\n"
     ]
    }
   ],
   "source": [
    "dna_vis_sns_calls_dir = \"./dna_visualization/external_database/boto3_only_sns\" # Boto3 only sns calls\n",
    "run_utility.run_experiment(dna_vis_sns_calls_dir, payload, times)"
   ]
  },
  {
   "cell_type": "markdown",
   "metadata": {},
   "source": [
    "#### AWS Step Function"
   ]
  },
  {
   "cell_type": "code",
   "execution_count": 6,
   "metadata": {},
   "outputs": [
    {
     "name": "stdout",
     "output_type": "stream",
     "text": [
      "Running aws_step_function workload: wo-dna_vis-ed-step_function\n",
      "Payload: {'gen_file_name': 'small_sequence.gb', 'metadata': {'workload_name': 'workflow-wo-dna_vis-ed-direct_sns', 'experiment_type': 'boto3_sns', 'request_id': '758c5963-12a6-4501-aa43-9b9fa96a282e', 'start_time': '2024-03-21 19:00:11,367321+0000'}}\n",
      "Times: 1\n"
     ]
    }
   ],
   "source": [
    "dna_vis_aws_step_functions_dir = \"./dna_visualization/external_database/aws_step_function\" # AWS Step Functions\n",
    "run_utility.run_experiment(dna_vis_aws_step_functions_dir, payload, times)"
   ]
  },
  {
   "cell_type": "markdown",
   "metadata": {},
   "source": [
    "#### Multi-X"
   ]
  },
  {
   "cell_type": "code",
   "execution_count": 5,
   "metadata": {},
   "outputs": [
    {
     "name": "stdout",
     "output_type": "stream",
     "text": [
      "Running multi_x workload: wo-dna_vis-ed-multi_x-0.0.2\n",
      "Payload: {'gen_file_name': 'small_sequence.gb', 'metadata': {'workload_name': 'wo-dna_vis-ed-multi_x-0.0.2', 'experiment_type': 'multi_x', 'request_id': '258e50ee-eb35-450e-a6ec-c9edbd0ce454', 'start_time': '2024-03-22 15:44:14,133436+0000'}}\n",
      "Times: 1\n",
      "Sending to home region: False, time_key: N/A\n",
      "Done\n",
      "\n"
     ]
    }
   ],
   "source": [
    "dna_vis_direct_calls_dir = \"./dna_visualization/external_database/multi_x\" # Boto3 only direct calls\n",
    "run_utility.run_experiment(dna_vis_direct_calls_dir, payload, times)"
   ]
  }
 ],
 "metadata": {
  "kernelspec": {
   "display_name": "multi-x-serverless--3Mr6ES7-py3.11",
   "language": "python",
   "name": "python3"
  },
  "language_info": {
   "codemirror_mode": {
    "name": "ipython",
    "version": 3
   },
   "file_extension": ".py",
   "mimetype": "text/x-python",
   "name": "python",
   "nbconvert_exporter": "python",
   "pygments_lexer": "ipython3",
   "version": "3.12.0"
  }
 },
 "nbformat": 4,
 "nbformat_minor": 2
}
