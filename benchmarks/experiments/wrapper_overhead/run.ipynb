{
 "cells": [
  {
   "cell_type": "markdown",
   "metadata": {},
   "source": [
    "## Run Experiments"
   ]
  },
  {
   "cell_type": "markdown",
   "metadata": {},
   "source": [
    "### Import libraries"
   ]
  },
  {
   "cell_type": "code",
   "execution_count": 1,
   "metadata": {},
   "outputs": [],
   "source": [
    "from benchmarks.experiments.wrapper_overhead.common.run_utility import WrapperOverheadRunUtility\n",
    "import time"
   ]
  },
  {
   "cell_type": "markdown",
   "metadata": {},
   "source": [
    "### Setup Common Resources"
   ]
  },
  {
   "cell_type": "code",
   "execution_count": 10,
   "metadata": {},
   "outputs": [],
   "source": [
    "region = 'us-east-2'\n",
    "run_utility: WrapperOverheadRunUtility = WrapperOverheadRunUtility(region)\n",
    "\n",
    "times = 10"
   ]
  },
  {
   "cell_type": "markdown",
   "metadata": {},
   "source": [
    "Please synchronize time before running the experiment\n",
    "\n",
    "- sudo systemctl restart ntp\n",
    "- ntpq -p\n",
    "- date"
   ]
  },
  {
   "cell_type": "markdown",
   "metadata": {},
   "source": [
    "## Perform Runs for each benchmarks"
   ]
  },
  {
   "cell_type": "markdown",
   "metadata": {},
   "source": [
    "### DNA Visualization"
   ]
  },
  {
   "cell_type": "code",
   "execution_count": null,
   "metadata": {},
   "outputs": [],
   "source": [
    "payload = {\n",
    "    \"gen_file_name\": \"small_sequence.gb\"\n",
    "}"
   ]
  },
  {
   "cell_type": "markdown",
   "metadata": {},
   "source": [
    "#### Boto3 Direct Calls"
   ]
  },
  {
   "cell_type": "code",
   "execution_count": null,
   "metadata": {},
   "outputs": [],
   "source": [
    "dna_vis_direct_calls_dir = \"./dna_visualization/external_database/boto3_direct\" # Boto3 only direct calls\n",
    "run_utility.run_experiment(dna_vis_direct_calls_dir, payload, times)"
   ]
  },
  {
   "cell_type": "markdown",
   "metadata": {},
   "source": [
    "#### Boto3 SNS calls"
   ]
  },
  {
   "cell_type": "code",
   "execution_count": null,
   "metadata": {},
   "outputs": [],
   "source": [
    "dna_vis_sns_calls_dir = \"./dna_visualization/external_database/boto3_sns\" # Boto3 only sns calls\n",
    "run_utility.run_experiment(dna_vis_sns_calls_dir, payload, times)"
   ]
  },
  {
   "cell_type": "markdown",
   "metadata": {},
   "source": [
    "#### AWS Step Function"
   ]
  },
  {
   "cell_type": "code",
   "execution_count": null,
   "metadata": {},
   "outputs": [],
   "source": [
    "aws_step_functions_dir = \"./dna_visualization/external_database/aws_step_function\" # AWS Step Functions\n",
    "run_utility.run_experiment(aws_step_functions_dir, payload, times, 170)"
   ]
  },
  {
   "cell_type": "markdown",
   "metadata": {},
   "source": [
    "#### Multi-X"
   ]
  },
  {
   "cell_type": "code",
   "execution_count": null,
   "metadata": {},
   "outputs": [],
   "source": [
    "multi_x_dir = \"./dna_visualization/external_database/multi_x\" # Boto3 only direct calls\n",
    "run_utility.run_experiment(multi_x_dir, payload, times)"
   ]
  },
  {
   "cell_type": "markdown",
   "metadata": {},
   "source": [
    "### Image Processing"
   ]
  },
  {
   "cell_type": "code",
   "execution_count": 11,
   "metadata": {},
   "outputs": [],
   "source": [
    "payload = {\n",
    "    \"message\": \"image_name.jpg\"\n",
    "}"
   ]
  },
  {
   "cell_type": "markdown",
   "metadata": {},
   "source": [
    "#### Boto3 Direct Calls"
   ]
  },
  {
   "cell_type": "code",
   "execution_count": 12,
   "metadata": {},
   "outputs": [
    {
     "name": "stdout",
     "output_type": "stream",
     "text": [
      "Running boto3_direct workload: wo-im_p-ed-direct\n",
      "Payload: {'message': 'image_name.jpg'}\n",
      "Times: 10\n",
      "Done\n",
      "\n"
     ]
    }
   ],
   "source": [
    "direct_calls_dir = \"./image_processing/external_database/boto3_direct\" # Boto3 only direct calls\n",
    "run_utility.run_experiment(direct_calls_dir, payload, times)"
   ]
  },
  {
   "cell_type": "markdown",
   "metadata": {},
   "source": [
    "#### Boto3 SNS calls"
   ]
  },
  {
   "cell_type": "code",
   "execution_count": 13,
   "metadata": {},
   "outputs": [
    {
     "name": "stdout",
     "output_type": "stream",
     "text": [
      "Running boto3_sns workload: wo-im_p-ed-sns\n",
      "Payload: {'message': 'image_name.jpg', 'metadata': {'workload_name': 'wo-im_p-ed-direct', 'experiment_type': 'boto3_direct', 'request_id': '71638b1a-c7cb-49fc-9fa8-c73139d72757', 'start_time': '2024-03-26 20:53:01,180012+0000'}}\n",
      "Times: 10\n",
      "Done\n",
      "\n"
     ]
    }
   ],
   "source": [
    "sns_calls_dir = \"./image_processing/external_database/boto3_sns\" # Boto3 only sns calls\n",
    "run_utility.run_experiment(sns_calls_dir, payload, times)"
   ]
  },
  {
   "cell_type": "markdown",
   "metadata": {},
   "source": [
    "#### Multi-X"
   ]
  },
  {
   "cell_type": "code",
   "execution_count": 14,
   "metadata": {},
   "outputs": [
    {
     "name": "stdout",
     "output_type": "stream",
     "text": [
      "Running multi_x workload: wo-im_p-ed-multi_x-0.0.1\n",
      "Payload: {'message': 'image_name.jpg', 'metadata': {'workload_name': 'wo-im_p-ed-sns', 'experiment_type': 'boto3_sns', 'request_id': 'dc9754e5-4ca3-4803-9b61-25ed8ff89e42', 'start_time': '2024-03-26 20:53:02,927768+0000'}}\n",
      "Times: 10\n",
      "Sending to home region: False, time_key: N/A\n",
      "Sending to home region: False, time_key: N/A\n",
      "Sending to home region: False, time_key: N/A\n",
      "Sending to home region: False, time_key: N/A\n",
      "Sending to home region: False, time_key: N/A\n",
      "Sending to home region: False, time_key: N/A\n",
      "Sending to home region: True, time_key: N/A\n",
      "Sending to home region: False, time_key: N/A\n",
      "Sending to home region: False, time_key: N/A\n",
      "Sending to home region: False, time_key: N/A\n",
      "Done\n",
      "\n"
     ]
    }
   ],
   "source": [
    "multi_x_dir = \"./image_processing/external_database/multi_x\" # Multi_x\n",
    "run_utility.run_experiment(multi_x_dir, payload, times)"
   ]
  },
  {
   "cell_type": "markdown",
   "metadata": {},
   "source": [
    "#### AWS Step Function"
   ]
  },
  {
   "cell_type": "code",
   "execution_count": 15,
   "metadata": {},
   "outputs": [
    {
     "name": "stdout",
     "output_type": "stream",
     "text": [
      "Running aws_step_function workload: wo-im_p-ed-step_function\n",
      "Payload: {'message': 'image_name.jpg', 'metadata': {'workload_name': 'wo-im_p-ed-multi_x-0.0.1', 'experiment_type': 'multi_x', 'request_id': 'e4df95f8-b42a-41b1-b427-a832c6f789f7', 'start_time': '2024-03-26 20:53:07,732799+0000'}}\n",
      "Times: 10\n"
     ]
    }
   ],
   "source": [
    "time.wait(10)\n",
    "aws_step_functions_dir = \"./image_processing/external_database/aws_step_function\" # AWS Step Functions\n",
    "run_utility.run_experiment(aws_step_functions_dir, payload, times, 20)"
   ]
  }
 ],
 "metadata": {
  "kernelspec": {
   "display_name": "multi-x-serverless--3Mr6ES7-py3.11",
   "language": "python",
   "name": "python3"
  },
  "language_info": {
   "codemirror_mode": {
    "name": "ipython",
    "version": 3
   },
   "file_extension": ".py",
   "mimetype": "text/x-python",
   "name": "python",
   "nbconvert_exporter": "python",
   "pygments_lexer": "ipython3",
   "version": "3.11.7"
  }
 },
 "nbformat": 4,
 "nbformat_minor": 2
}
