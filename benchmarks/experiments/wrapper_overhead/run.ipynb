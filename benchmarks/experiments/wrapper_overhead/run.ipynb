{
 "cells": [
  {
   "cell_type": "markdown",
   "metadata": {},
   "source": [
    "## Run Experiments"
   ]
  },
  {
   "cell_type": "markdown",
   "metadata": {},
   "source": [
    "### Import libraries"
   ]
  },
  {
   "cell_type": "code",
   "execution_count": 4,
   "metadata": {},
   "outputs": [],
   "source": [
    "from benchmarks.experiments.wrapper_overhead.common.run_utility import WrapperOverheadRunUtility"
   ]
  },
  {
   "cell_type": "markdown",
   "metadata": {},
   "source": [
    "### Setup Common Resources"
   ]
  },
  {
   "cell_type": "code",
   "execution_count": 5,
   "metadata": {},
   "outputs": [],
   "source": [
    "region = 'us-east-2'\n",
    "run_utility: WrapperOverheadRunUtility = WrapperOverheadRunUtility(region)\n",
    "\n",
    "times = 10"
   ]
  },
  {
   "cell_type": "markdown",
   "metadata": {},
   "source": [
    "Please synchronize time before running the experiment\n",
    "\n",
    "- sudo systemctl restart ntp\n",
    "- ntpq -p\n",
    "- date"
   ]
  },
  {
   "cell_type": "markdown",
   "metadata": {},
   "source": [
    "## Perform Runs for each benchmarks"
   ]
  },
  {
   "cell_type": "markdown",
   "metadata": {},
   "source": [
    "### DNA Visualization"
   ]
  },
  {
   "cell_type": "code",
   "execution_count": 6,
   "metadata": {},
   "outputs": [],
   "source": [
    "payload = {\n",
    "    \"gen_file_name\": \"small_sequence.gb\"\n",
    "}"
   ]
  },
  {
   "cell_type": "markdown",
   "metadata": {},
   "source": [
    "#### Boto3 Direct Calls"
   ]
  },
  {
   "cell_type": "code",
   "execution_count": 4,
   "metadata": {},
   "outputs": [
    {
     "name": "stdout",
     "output_type": "stream",
     "text": [
      "Running boto3_direct workload: wo-dna_vis-ed-direct\n",
      "Payload: {'gen_file_name': 'small_sequence.gb'}\n",
      "Times: 10\n",
      "Done\n",
      "\n"
     ]
    }
   ],
   "source": [
    "dna_vis_direct_calls_dir = \"./dna_visualization/external_database/boto3_direct\" # Boto3 only direct calls\n",
    "run_utility.run_experiment(dna_vis_direct_calls_dir, payload, times)"
   ]
  },
  {
   "cell_type": "markdown",
   "metadata": {},
   "source": [
    "#### Boto3 SNS calls"
   ]
  },
  {
   "cell_type": "code",
   "execution_count": 5,
   "metadata": {},
   "outputs": [
    {
     "name": "stdout",
     "output_type": "stream",
     "text": [
      "Running boto3_sns workload: wo-dna_vis-ed-sns\n",
      "Payload: {'gen_file_name': 'small_sequence.gb', 'metadata': {'workload_name': 'wo-dna_vis-ed-direct', 'experiment_type': 'boto3_direct', 'request_id': 'bc237438-c2a0-4e9f-b005-ac87cbfd67e6', 'start_time': '2024-03-26 04:40:24,128940+0000'}}\n",
      "Times: 10\n",
      "Done\n",
      "\n"
     ]
    }
   ],
   "source": [
    "dna_vis_sns_calls_dir = \"./dna_visualization/external_database/boto3_sns\" # Boto3 only sns calls\n",
    "run_utility.run_experiment(dna_vis_sns_calls_dir, payload, times)"
   ]
  },
  {
   "cell_type": "markdown",
   "metadata": {},
   "source": [
    "#### Multi-X"
   ]
  },
  {
   "cell_type": "code",
   "execution_count": 4,
   "metadata": {},
   "outputs": [
    {
     "name": "stdout",
     "output_type": "stream",
     "text": [
      "Running multi_x workload: wo-dna_vis-ed-multi_x-0.0.2\n",
      "Payload: {'gen_file_name': 'small_sequence.gb'}\n",
      "Times: 10\n",
      "Sending to home region: False, time_key: N/A\n",
      "Sending to home region: False, time_key: N/A\n",
      "Sending to home region: False, time_key: N/A\n",
      "Sending to home region: False, time_key: N/A\n",
      "Sending to home region: False, time_key: N/A\n",
      "Sending to home region: False, time_key: N/A\n",
      "Sending to home region: True, time_key: N/A\n",
      "Sending to home region: True, time_key: N/A\n",
      "Sending to home region: False, time_key: N/A\n",
      "Sending to home region: False, time_key: N/A\n",
      "Done\n",
      "\n"
     ]
    }
   ],
   "source": [
    "dna_vis_direct_calls_dir = \"./dna_visualization/external_database/multi_x\" # Boto3 only direct calls\n",
    "run_utility.run_experiment(dna_vis_direct_calls_dir, payload, times)"
   ]
  },
  {
   "cell_type": "markdown",
   "metadata": {},
   "source": [
    "#### AWS Step Function"
   ]
  },
  {
   "cell_type": "code",
   "execution_count": 7,
   "metadata": {},
   "outputs": [
    {
     "name": "stdout",
     "output_type": "stream",
     "text": [
      "Running aws_step_function workload: wo-dna_vis-ed-step_function\n",
      "Payload: {'gen_file_name': 'small_sequence.gb'}\n",
      "Times: 10\n",
      "Done\n",
      "\n"
     ]
    }
   ],
   "source": [
    "dna_vis_aws_step_functions_dir = \"./dna_visualization/external_database/aws_step_function\" # AWS Step Functions\n",
    "run_utility.run_experiment(dna_vis_aws_step_functions_dir, payload, times, 170)"
   ]
  }
 ],
 "metadata": {
  "kernelspec": {
   "display_name": "multi-x-serverless--3Mr6ES7-py3.11",
   "language": "python",
   "name": "python3"
  },
  "language_info": {
   "codemirror_mode": {
    "name": "ipython",
    "version": 3
   },
   "file_extension": ".py",
   "mimetype": "text/x-python",
   "name": "python",
   "nbconvert_exporter": "python",
   "pygments_lexer": "ipython3",
   "version": "3.11.7"
  }
 },
 "nbformat": 4,
 "nbformat_minor": 2
}
