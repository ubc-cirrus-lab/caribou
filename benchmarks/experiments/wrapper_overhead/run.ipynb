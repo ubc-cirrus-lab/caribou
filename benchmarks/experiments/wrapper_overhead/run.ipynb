{
 "cells": [
  {
   "cell_type": "markdown",
   "metadata": {},
   "source": [
    "## Run Experiments"
   ]
  },
  {
   "cell_type": "markdown",
   "metadata": {},
   "source": [
    "### Import libraries"
   ]
  },
  {
   "cell_type": "code",
   "execution_count": 1,
   "metadata": {},
   "outputs": [],
   "source": [
    "from benchmarks.experiments.wrapper_overhead.common.run_utility import WrapperOverheadRunUtility"
   ]
  },
  {
   "cell_type": "markdown",
   "metadata": {},
   "source": [
    "### Setup Common Resources"
   ]
  },
  {
   "cell_type": "code",
   "execution_count": 2,
   "metadata": {},
   "outputs": [],
   "source": [
    "region = 'us-east-2'\n",
    "run_utility: WrapperOverheadRunUtility = WrapperOverheadRunUtility(region)\n",
    "\n",
    "times = 10"
   ]
  },
  {
   "cell_type": "markdown",
   "metadata": {},
   "source": [
    "Please synchronize time before running the experiment\n",
    "\n",
    "- sudo systemctl restart ntp\n",
    "- ntpq -p\n",
    "- date"
   ]
  },
  {
   "cell_type": "markdown",
   "metadata": {},
   "source": [
    "## Perform Runs for each benchmarks"
   ]
  },
  {
   "cell_type": "markdown",
   "metadata": {},
   "source": [
    "### DNA Visualization"
   ]
  },
  {
   "cell_type": "code",
   "execution_count": 3,
   "metadata": {},
   "outputs": [],
   "source": [
    "payload = {\n",
    "    \"gen_file_name\": \"small_sequence.gb\"\n",
    "}"
   ]
  },
  {
   "cell_type": "markdown",
   "metadata": {},
   "source": [
    "#### Boto3 Direct Calls"
   ]
  },
  {
   "cell_type": "code",
   "execution_count": 4,
   "metadata": {},
   "outputs": [
    {
     "name": "stdout",
     "output_type": "stream",
     "text": [
      "Running boto3_direct workload: wo-dna_vis-ed-direct\n",
      "Payload: {'gen_file_name': 'small_sequence.gb'}\n",
      "Times: 10\n",
      "Done\n",
      "\n"
     ]
    }
   ],
   "source": [
    "dna_vis_direct_calls_dir = \"./dna_visualization/external_database/boto3_direct\" # Boto3 only direct calls\n",
    "run_utility.run_experiment(dna_vis_direct_calls_dir, payload, times)"
   ]
  },
  {
   "cell_type": "markdown",
   "metadata": {},
   "source": [
    "#### Boto3 SNS calls"
   ]
  },
  {
   "cell_type": "code",
   "execution_count": 5,
   "metadata": {},
   "outputs": [
    {
     "name": "stdout",
     "output_type": "stream",
     "text": [
      "Running boto3_sns workload: wo-dna_vis-ed-sns\n",
      "Payload: {'gen_file_name': 'small_sequence.gb', 'metadata': {'workload_name': 'wo-dna_vis-ed-direct', 'experiment_type': 'boto3_direct', 'request_id': 'bc237438-c2a0-4e9f-b005-ac87cbfd67e6', 'start_time': '2024-03-26 04:40:24,128940+0000'}}\n",
      "Times: 10\n",
      "Done\n",
      "\n"
     ]
    }
   ],
   "source": [
    "dna_vis_sns_calls_dir = \"./dna_visualization/external_database/boto3_sns\" # Boto3 only sns calls\n",
    "run_utility.run_experiment(dna_vis_sns_calls_dir, payload, times)"
   ]
  },
  {
   "cell_type": "markdown",
   "metadata": {},
   "source": [
    "#### Multi-X"
   ]
  },
  {
   "cell_type": "code",
   "execution_count": 4,
   "metadata": {},
   "outputs": [
    {
     "name": "stdout",
     "output_type": "stream",
     "text": [
      "Running multi_x workload: wo-dna_vis-ed-multi_x-0.0.2\n",
      "Payload: {'gen_file_name': 'small_sequence.gb'}\n",
      "Times: 10\n",
      "Sending to home region: False, time_key: N/A\n",
      "Sending to home region: False, time_key: N/A\n",
      "Sending to home region: False, time_key: N/A\n",
      "Sending to home region: False, time_key: N/A\n",
      "Sending to home region: False, time_key: N/A\n",
      "Sending to home region: False, time_key: N/A\n",
      "Sending to home region: True, time_key: N/A\n",
      "Sending to home region: True, time_key: N/A\n",
      "Sending to home region: False, time_key: N/A\n",
      "Sending to home region: False, time_key: N/A\n",
      "Done\n",
      "\n"
     ]
    }
   ],
   "source": [
    "dna_vis_direct_calls_dir = \"./dna_visualization/external_database/multi_x\" # Boto3 only direct calls\n",
    "run_utility.run_experiment(dna_vis_direct_calls_dir, payload, times)"
   ]
  },
  {
   "cell_type": "markdown",
   "metadata": {},
   "source": [
    "#### AWS Step Function"
   ]
  },
  {
   "cell_type": "code",
   "execution_count": 5,
   "metadata": {},
   "outputs": [
    {
     "name": "stdout",
     "output_type": "stream",
     "text": [
      "Running aws_step_function workload: wo-dna_vis-ed-step_function\n",
      "Payload: {'gen_file_name': 'small_sequence.gb', 'metadata': {'workload_name': 'wo-dna_vis-ed-multi_x-0.0.2', 'experiment_type': 'multi_x', 'request_id': '7b63baac-75d9-4102-a135-e1c08e7daa43', 'start_time': '2024-03-26 04:48:20,514351+0000'}}\n",
      "Times: 10\n"
     ]
    },
    {
     "ename": "KeyboardInterrupt",
     "evalue": "",
     "output_type": "error",
     "traceback": [
      "\u001b[0;31m---------------------------------------------------------------------------\u001b[0m",
      "\u001b[0;31mKeyboardInterrupt\u001b[0m                         Traceback (most recent call last)",
      "Cell \u001b[0;32mIn[5], line 2\u001b[0m\n\u001b[1;32m      1\u001b[0m dna_vis_aws_step_functions_dir \u001b[38;5;241m=\u001b[39m \u001b[38;5;124m\"\u001b[39m\u001b[38;5;124m./dna_visualization/external_database/aws_step_function\u001b[39m\u001b[38;5;124m\"\u001b[39m \u001b[38;5;66;03m# AWS Step Functions\u001b[39;00m\n\u001b[0;32m----> 2\u001b[0m \u001b[43mrun_utility\u001b[49m\u001b[38;5;241;43m.\u001b[39;49m\u001b[43mrun_experiment\u001b[49m\u001b[43m(\u001b[49m\u001b[43mdna_vis_aws_step_functions_dir\u001b[49m\u001b[43m,\u001b[49m\u001b[43m \u001b[49m\u001b[43mpayload\u001b[49m\u001b[43m,\u001b[49m\u001b[43m \u001b[49m\u001b[43mtimes\u001b[49m\u001b[43m,\u001b[49m\u001b[43m \u001b[49m\u001b[38;5;241;43m120\u001b[39;49m\u001b[43m)\u001b[49m\n",
      "File \u001b[0;32m~/multi-x-serverless/benchmarks/experiments/wrapper_overhead/common/run_utility.py:30\u001b[0m, in \u001b[0;36mWrapperOverheadRunUtility.run_experiment\u001b[0;34m(self, directory_path, payload, times, wait_time)\u001b[0m\n\u001b[1;32m     28\u001b[0m     \u001b[38;5;28mself\u001b[39m\u001b[38;5;241m.\u001b[39m_run_sns_topic(config, payload, times, wait_time)\n\u001b[1;32m     29\u001b[0m \u001b[38;5;28;01melif\u001b[39;00m experiment_type \u001b[38;5;241m==\u001b[39m \u001b[38;5;124m'\u001b[39m\u001b[38;5;124maws_step_function\u001b[39m\u001b[38;5;124m'\u001b[39m:\n\u001b[0;32m---> 30\u001b[0m     \u001b[38;5;28;43mself\u001b[39;49m\u001b[38;5;241;43m.\u001b[39;49m\u001b[43m_run_statemachine\u001b[49m\u001b[43m(\u001b[49m\u001b[43mconfig\u001b[49m\u001b[43m,\u001b[49m\u001b[43m \u001b[49m\u001b[43mpayload\u001b[49m\u001b[43m,\u001b[49m\u001b[43m \u001b[49m\u001b[43mtimes\u001b[49m\u001b[43m,\u001b[49m\u001b[43m \u001b[49m\u001b[43mwait_time\u001b[49m\u001b[43m)\u001b[49m\n\u001b[1;32m     31\u001b[0m \u001b[38;5;28;01melif\u001b[39;00m experiment_type \u001b[38;5;241m==\u001b[39m \u001b[38;5;124m'\u001b[39m\u001b[38;5;124mmulti_x\u001b[39m\u001b[38;5;124m'\u001b[39m:\n\u001b[1;32m     32\u001b[0m     \u001b[38;5;28mself\u001b[39m\u001b[38;5;241m.\u001b[39m_run_multi_x(config, payload, times, wait_time)\n",
      "File \u001b[0;32m~/multi-x-serverless/benchmarks/experiments/wrapper_overhead/common/run_utility.py:97\u001b[0m, in \u001b[0;36mWrapperOverheadRunUtility._run_statemachine\u001b[0;34m(self, config, payload, times, wait_time)\u001b[0m\n\u001b[1;32m     94\u001b[0m     \u001b[38;5;28mself\u001b[39m\u001b[38;5;241m.\u001b[39m_client\u001b[38;5;241m.\u001b[39mrun_state_machine(state_machine_arn, json\u001b[38;5;241m.\u001b[39mdumps(payload))\n\u001b[1;32m     96\u001b[0m     \u001b[38;5;66;03m# To avoid throttling\u001b[39;00m\n\u001b[0;32m---> 97\u001b[0m     \u001b[43mtime\u001b[49m\u001b[38;5;241;43m.\u001b[39;49m\u001b[43msleep\u001b[49m\u001b[43m(\u001b[49m\u001b[43mwait_time\u001b[49m\u001b[43m)\u001b[49m\n\u001b[1;32m     99\u001b[0m \u001b[38;5;28mprint\u001b[39m(\u001b[38;5;124m\"\u001b[39m\u001b[38;5;124mDone\u001b[39m\u001b[38;5;130;01m\\n\u001b[39;00m\u001b[38;5;124m\"\u001b[39m)\n",
      "\u001b[0;31mKeyboardInterrupt\u001b[0m: "
     ]
    }
   ],
   "source": [
    "import time\n",
    "time.sleep(120)\n",
    "\n",
    "dna_vis_aws_step_functions_dir = \"./dna_visualization/external_database/aws_step_function\" # AWS Step Functions\n",
    "run_utility.run_experiment(dna_vis_aws_step_functions_dir, payload, times, 170)"
   ]
  }
 ],
 "metadata": {
  "kernelspec": {
   "display_name": "multi-x-serverless--3Mr6ES7-py3.11",
   "language": "python",
   "name": "python3"
  },
  "language_info": {
   "codemirror_mode": {
    "name": "ipython",
    "version": 3
   },
   "file_extension": ".py",
   "mimetype": "text/x-python",
   "name": "python",
   "nbconvert_exporter": "python",
   "pygments_lexer": "ipython3",
   "version": "3.11.7"
  }
 },
 "nbformat": 4,
 "nbformat_minor": 2
}
