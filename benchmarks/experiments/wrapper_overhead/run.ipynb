{
 "cells": [
  {
   "cell_type": "markdown",
   "metadata": {},
   "source": [
    "## Run Experiments"
   ]
  },
  {
   "cell_type": "markdown",
   "metadata": {},
   "source": [
    "### Import libraries"
   ]
  },
  {
   "cell_type": "code",
   "execution_count": 2,
   "metadata": {},
   "outputs": [],
   "source": [
    "from benchmarks.experiments.wrapper_overhead.common.run_utility import WrapperOverheadRunUtility\n",
    "import time"
   ]
  },
  {
   "cell_type": "markdown",
   "metadata": {},
   "source": [
    "### Setup Common Resources"
   ]
  },
  {
   "cell_type": "code",
   "execution_count": 3,
   "metadata": {},
   "outputs": [],
   "source": [
    "region = 'ca-west-1'\n",
    "run_utility: WrapperOverheadRunUtility = WrapperOverheadRunUtility(region)\n",
    "\n",
    "batch_sizes = 1\n",
    "batchs = 1"
   ]
  },
  {
   "cell_type": "markdown",
   "metadata": {},
   "source": [
    "Please synchronize time before running the experiment\n",
    "\n",
    "- sudo systemctl restart ntp\n",
    "- ntpq -p\n",
    "- date"
   ]
  },
  {
   "cell_type": "markdown",
   "metadata": {},
   "source": [
    "## Perform Runs for each benchmarks"
   ]
  },
  {
   "cell_type": "markdown",
   "metadata": {},
   "source": [
    "### DNA Visualization"
   ]
  },
  {
   "cell_type": "code",
   "execution_count": 5,
   "metadata": {},
   "outputs": [
    {
     "name": "stdout",
     "output_type": "stream",
     "text": [
      "Run 1/5 Batch 1/5\n",
      "Sending to home region: False, time_key: N/A\n",
      "Run 2/5 Batch 1/5\n",
      "Sending to home region: True, time_key: N/A\n",
      "Run 3/5 Batch 1/5\n",
      "Sending to home region: False, time_key: N/A\n",
      "Run 4/5 Batch 1/5\n",
      "Sending to home region: False, time_key: N/A\n",
      "Run 5/5 Batch 1/5\n",
      "Sending to home region: False, time_key: N/A\n",
      "Run 1/5 Batch 2/5\n",
      "Sending to home region: False, time_key: N/A\n",
      "Run 2/5 Batch 2/5\n",
      "Sending to home region: False, time_key: N/A\n",
      "Run 3/5 Batch 2/5\n",
      "Sending to home region: False, time_key: N/A\n",
      "Run 4/5 Batch 2/5\n",
      "Sending to home region: False, time_key: N/A\n",
      "Run 5/5 Batch 2/5\n",
      "Sending to home region: False, time_key: N/A\n",
      "Run 1/5 Batch 3/5\n",
      "Sending to home region: False, time_key: N/A\n",
      "Run 2/5 Batch 3/5\n",
      "Sending to home region: False, time_key: N/A\n",
      "Run 3/5 Batch 3/5\n",
      "Sending to home region: False, time_key: N/A\n",
      "Run 4/5 Batch 3/5\n",
      "Sending to home region: False, time_key: N/A\n",
      "Run 5/5 Batch 3/5\n",
      "Sending to home region: False, time_key: N/A\n",
      "Run 1/5 Batch 4/5\n",
      "Sending to home region: False, time_key: N/A\n",
      "Run 2/5 Batch 4/5\n",
      "Sending to home region: False, time_key: N/A\n",
      "Run 3/5 Batch 4/5\n",
      "Sending to home region: False, time_key: N/A\n",
      "Run 4/5 Batch 4/5\n",
      "Sending to home region: False, time_key: N/A\n",
      "Run 5/5 Batch 4/5\n",
      "Sending to home region: False, time_key: N/A\n",
      "Run 1/5 Batch 5/5\n",
      "Sending to home region: False, time_key: N/A\n",
      "Run 2/5 Batch 5/5\n",
      "Sending to home region: False, time_key: N/A\n",
      "Run 3/5 Batch 5/5\n",
      "Sending to home region: False, time_key: N/A\n",
      "Run 4/5 Batch 5/5\n",
      "Sending to home region: False, time_key: N/A\n",
      "Run 5/5 Batch 5/5\n",
      "Sending to home region: False, time_key: N/A\n"
     ]
    }
   ],
   "source": [
    "payload = {\n",
    "    \"gen_file_name\": \"small_sequence.gb\"\n",
    "}\n",
    "\n",
    "sleep_time = 100\n",
    "# batchs = 10\n",
    "batchs = 5\n",
    "batch_sizes = 5\n",
    "for batch in range(batchs):\n",
    "    for run in range(batch_sizes):\n",
    "        # Log the run\n",
    "        print(f\"Run {run + 1}/{batch_sizes} Batch {batch + 1}/{batchs}\")\n",
    "\n",
    "        # AWS Step Function\n",
    "        aws_step_functions_dir = \"./dna_visualization/external_database/aws_step_function\" # AWS Step Functions\n",
    "        run_utility.run_experiment(aws_step_functions_dir, payload, 1, 0.5, False)\n",
    "\n",
    "        # Direct\n",
    "        dna_vis_direct_calls_dir = \"./dna_visualization/external_database/boto3_direct\" # Boto3 only direct calls\n",
    "        run_utility.run_experiment(dna_vis_direct_calls_dir, payload, 1, 0.5, False)\n",
    "\n",
    "        # SNS\n",
    "        dna_vis_sns_calls_dir = \"./dna_visualization/external_database/boto3_sns\" # Boto3 only sns calls\n",
    "        run_utility.run_experiment(dna_vis_sns_calls_dir, payload, 1, 0.5, False)\n",
    "\n",
    "        # Multi-X\n",
    "        multi_x_dir = \"./dna_visualization/external_database/multi_x\" # Boto3 only direct calls\n",
    "        run_utility.run_experiment(multi_x_dir, payload, 1, 0.5, False)\n",
    "\n",
    "    # Sleep for some time IF it is not the last batch\n",
    "    if batch != batchs - 1:\n",
    "        time.sleep(sleep_time)"
   ]
  },
  {
   "cell_type": "markdown",
   "metadata": {},
   "source": [
    "### Image Processing"
   ]
  },
  {
   "cell_type": "code",
   "execution_count": 9,
   "metadata": {},
   "outputs": [
    {
     "name": "stdout",
     "output_type": "stream",
     "text": [
      "Run 1/10 Batch 1/5\n",
      "Sending to home region: False, time_key: N/A\n",
      "Run 2/10 Batch 1/5\n",
      "Sending to home region: False, time_key: N/A\n",
      "Run 3/10 Batch 1/5\n",
      "Sending to home region: False, time_key: N/A\n",
      "Run 4/10 Batch 1/5\n",
      "Sending to home region: False, time_key: N/A\n",
      "Run 5/10 Batch 1/5\n",
      "Sending to home region: False, time_key: N/A\n",
      "Run 6/10 Batch 1/5\n",
      "Sending to home region: False, time_key: N/A\n",
      "Run 7/10 Batch 1/5\n",
      "Sending to home region: False, time_key: N/A\n",
      "Run 8/10 Batch 1/5\n",
      "Sending to home region: False, time_key: N/A\n",
      "Run 9/10 Batch 1/5\n",
      "Sending to home region: False, time_key: N/A\n",
      "Run 10/10 Batch 1/5\n",
      "Sending to home region: False, time_key: N/A\n",
      "Run 1/10 Batch 2/5\n",
      "Sending to home region: False, time_key: N/A\n",
      "Run 2/10 Batch 2/5\n",
      "Sending to home region: False, time_key: N/A\n",
      "Run 3/10 Batch 2/5\n",
      "Sending to home region: False, time_key: N/A\n",
      "Run 4/10 Batch 2/5\n",
      "Sending to home region: False, time_key: N/A\n",
      "Run 5/10 Batch 2/5\n",
      "Sending to home region: False, time_key: N/A\n",
      "Run 6/10 Batch 2/5\n",
      "Sending to home region: False, time_key: N/A\n",
      "Run 7/10 Batch 2/5\n",
      "Sending to home region: False, time_key: N/A\n",
      "Run 8/10 Batch 2/5\n",
      "Sending to home region: False, time_key: N/A\n",
      "Run 9/10 Batch 2/5\n",
      "Sending to home region: False, time_key: N/A\n",
      "Run 10/10 Batch 2/5\n",
      "Sending to home region: False, time_key: N/A\n",
      "Run 1/10 Batch 3/5\n",
      "Sending to home region: False, time_key: N/A\n",
      "Run 2/10 Batch 3/5\n",
      "Sending to home region: True, time_key: N/A\n",
      "Run 3/10 Batch 3/5\n",
      "Sending to home region: False, time_key: N/A\n",
      "Run 4/10 Batch 3/5\n",
      "Sending to home region: False, time_key: N/A\n",
      "Run 5/10 Batch 3/5\n",
      "Sending to home region: False, time_key: N/A\n",
      "Run 6/10 Batch 3/5\n",
      "Sending to home region: False, time_key: N/A\n",
      "Run 7/10 Batch 3/5\n",
      "Sending to home region: False, time_key: N/A\n",
      "Run 8/10 Batch 3/5\n",
      "Sending to home region: False, time_key: N/A\n",
      "Run 9/10 Batch 3/5\n",
      "Sending to home region: False, time_key: N/A\n",
      "Run 10/10 Batch 3/5\n",
      "Sending to home region: False, time_key: N/A\n",
      "Run 1/10 Batch 4/5\n",
      "Sending to home region: False, time_key: N/A\n",
      "Run 2/10 Batch 4/5\n",
      "Sending to home region: False, time_key: N/A\n",
      "Run 3/10 Batch 4/5\n",
      "Sending to home region: False, time_key: N/A\n",
      "Run 4/10 Batch 4/5\n",
      "Sending to home region: False, time_key: N/A\n",
      "Run 5/10 Batch 4/5\n",
      "Sending to home region: False, time_key: N/A\n",
      "Run 6/10 Batch 4/5\n",
      "Sending to home region: False, time_key: N/A\n",
      "Run 7/10 Batch 4/5\n",
      "Sending to home region: False, time_key: N/A\n",
      "Run 8/10 Batch 4/5\n",
      "Sending to home region: False, time_key: N/A\n",
      "Run 9/10 Batch 4/5\n",
      "Sending to home region: False, time_key: N/A\n",
      "Run 10/10 Batch 4/5\n",
      "Sending to home region: False, time_key: N/A\n",
      "Run 1/10 Batch 5/5\n",
      "Sending to home region: True, time_key: N/A\n",
      "Run 2/10 Batch 5/5\n",
      "Sending to home region: False, time_key: N/A\n",
      "Run 3/10 Batch 5/5\n",
      "Sending to home region: False, time_key: N/A\n",
      "Run 4/10 Batch 5/5\n",
      "Sending to home region: False, time_key: N/A\n",
      "Run 5/10 Batch 5/5\n",
      "Sending to home region: False, time_key: N/A\n",
      "Run 6/10 Batch 5/5\n",
      "Sending to home region: False, time_key: N/A\n",
      "Run 7/10 Batch 5/5\n",
      "Sending to home region: False, time_key: N/A\n",
      "Run 8/10 Batch 5/5\n",
      "Sending to home region: False, time_key: N/A\n",
      "Run 9/10 Batch 5/5\n",
      "Sending to home region: False, time_key: N/A\n",
      "Run 10/10 Batch 5/5\n",
      "Sending to home region: False, time_key: N/A\n"
     ]
    }
   ],
   "source": [
    "payload = {\n",
    "    \"message\": \"image_name.jpg\"\n",
    "}\n",
    "\n",
    "sleep_time = 20\n",
    "batchs = 5\n",
    "batch_sizes = 10\n",
    "for batch in range(batchs):\n",
    "    for run in range(batch_sizes):\n",
    "        # Log the run\n",
    "        print(f\"Run {run + 1}/{batch_sizes} Batch {batch + 1}/{batchs}\")\n",
    "\n",
    "        # AWS Step Function\n",
    "        aws_step_functions_dir = \"./image_processing/external_database/aws_step_function\" # AWS Step Functions\n",
    "        run_utility.run_experiment(aws_step_functions_dir, payload, 1, 0.5, False)\n",
    "\n",
    "        # Direct\n",
    "        direct_calls_dir = \"./image_processing/external_database/boto3_direct\" # Boto3 only direct calls\n",
    "        run_utility.run_experiment(direct_calls_dir, payload, 1, 0.5, False)\n",
    "\n",
    "        # SNS\n",
    "        sns_calls_dir = \"./image_processing/external_database/boto3_sns\" # Boto3 only sns calls\n",
    "        run_utility.run_experiment(sns_calls_dir, payload, 1, 0.5, False)\n",
    "\n",
    "        # Multi-X\n",
    "        multi_x_dir = \"./image_processing/external_database/multi_x\" # Multi_x\n",
    "        run_utility.run_experiment(multi_x_dir, payload, 1, 0.5, False)\n",
    "\n",
    "    # Sleep for some time IF it is not the last batch\n",
    "    if batch != batchs - 1:\n",
    "        time.sleep(sleep_time)"
   ]
  }
 ],
 "metadata": {
  "kernelspec": {
   "display_name": "multi-x-serverless--3Mr6ES7-py3.11",
   "language": "python",
   "name": "python3"
  },
  "language_info": {
   "codemirror_mode": {
    "name": "ipython",
    "version": 3
   },
   "file_extension": ".py",
   "mimetype": "text/x-python",
   "name": "python",
   "nbconvert_exporter": "python",
   "pygments_lexer": "ipython3",
   "version": "3.11.7"
  }
 },
 "nbformat": 4,
 "nbformat_minor": 2
}
